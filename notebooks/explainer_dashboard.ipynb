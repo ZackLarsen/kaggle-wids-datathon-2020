{
 "cells": [
  {
   "cell_type": "code",
   "execution_count": 33,
   "metadata": {},
   "outputs": [],
   "source": [
    "from onnxruntime import InferenceSession\n",
    "import polars as pl\n",
    "import numpy as np\n",
    "from explainerdashboard import ClassifierExplainer, ExplainerDashboard\n",
    "from hydra import compose, initialize\n",
    "from onnx import load_model"
   ]
  },
  {
   "cell_type": "code",
   "execution_count": 34,
   "metadata": {},
   "outputs": [],
   "source": [
    "with initialize(version_base=\"1.3.2\",\n",
    "                config_path=\"../src/config\",\n",
    "                job_name=\"explainer_dashboard\"):\n",
    "    cfg = compose(config_name=\"config\")"
   ]
  },
  {
   "cell_type": "code",
   "execution_count": 44,
   "metadata": {},
   "outputs": [
    {
     "data": {
      "text/plain": [
       "'/Users/zacklarsen/Documents/Projects/kaggle-wids-datathon-2020/data/X_test_transformed.parquet'"
      ]
     },
     "execution_count": 44,
     "metadata": {},
     "output_type": "execute_result"
    }
   ],
   "source": [
    "cfg.paths.data.X_test_transformed"
   ]
  },
  {
   "cell_type": "code",
   "execution_count": 43,
   "metadata": {},
   "outputs": [],
   "source": [
    "X_test_transformed = pl.read_parquet(cfg.paths.data.X_test_transformed)"
   ]
  },
  {
   "cell_type": "code",
   "execution_count": 37,
   "metadata": {},
   "outputs": [],
   "source": [
    "y_test = pl.read_parquet(cfg.paths.data.y_test)"
   ]
  },
  {
   "cell_type": "code",
   "execution_count": 45,
   "metadata": {},
   "outputs": [],
   "source": [
    "X_test_transformed = X_test_transformed.to_pandas().replace('NA', np.nan)"
   ]
  },
  {
   "cell_type": "code",
   "execution_count": 46,
   "metadata": {},
   "outputs": [
    {
     "data": {
      "text/html": [
       "<div>\n",
       "<style scoped>\n",
       "    .dataframe tbody tr th:only-of-type {\n",
       "        vertical-align: middle;\n",
       "    }\n",
       "\n",
       "    .dataframe tbody tr th {\n",
       "        vertical-align: top;\n",
       "    }\n",
       "\n",
       "    .dataframe thead th {\n",
       "        text-align: right;\n",
       "    }\n",
       "</style>\n",
       "<table border=\"1\" class=\"dataframe\">\n",
       "  <thead>\n",
       "    <tr style=\"text-align: right;\">\n",
       "      <th></th>\n",
       "      <th>num__pre_icu_los_days</th>\n",
       "      <th>cat__gender_F</th>\n",
       "      <th>cat__gender_M</th>\n",
       "      <th>cat__gender_None</th>\n",
       "      <th>cat__ethnicity_African American</th>\n",
       "      <th>cat__ethnicity_Asian</th>\n",
       "      <th>cat__ethnicity_Caucasian</th>\n",
       "      <th>cat__ethnicity_Hispanic</th>\n",
       "      <th>cat__ethnicity_Native American</th>\n",
       "      <th>cat__ethnicity_Other/Unknown</th>\n",
       "      <th>...</th>\n",
       "      <th>cat__hospital_admit_source_PACU</th>\n",
       "      <th>cat__hospital_admit_source_Recovery Room</th>\n",
       "      <th>cat__hospital_admit_source_Step-Down Unit (SDU)</th>\n",
       "      <th>cat__hospital_admit_source_None</th>\n",
       "      <th>cat__icu_admit_source_Accident &amp; Emergency</th>\n",
       "      <th>cat__icu_admit_source_Floor</th>\n",
       "      <th>cat__icu_admit_source_Operating Room / Recovery</th>\n",
       "      <th>cat__icu_admit_source_Other Hospital</th>\n",
       "      <th>cat__icu_admit_source_Other ICU</th>\n",
       "      <th>cat__icu_admit_source_None</th>\n",
       "    </tr>\n",
       "  </thead>\n",
       "  <tbody>\n",
       "    <tr>\n",
       "      <th>0</th>\n",
       "      <td>-0.192791</td>\n",
       "      <td>0.0</td>\n",
       "      <td>1.0</td>\n",
       "      <td>0.0</td>\n",
       "      <td>0.0</td>\n",
       "      <td>0.0</td>\n",
       "      <td>1.0</td>\n",
       "      <td>0.0</td>\n",
       "      <td>0.0</td>\n",
       "      <td>0.0</td>\n",
       "      <td>...</td>\n",
       "      <td>0.0</td>\n",
       "      <td>0.0</td>\n",
       "      <td>0.0</td>\n",
       "      <td>1.0</td>\n",
       "      <td>0.0</td>\n",
       "      <td>1.0</td>\n",
       "      <td>0.0</td>\n",
       "      <td>0.0</td>\n",
       "      <td>0.0</td>\n",
       "      <td>0.0</td>\n",
       "    </tr>\n",
       "    <tr>\n",
       "      <th>1</th>\n",
       "      <td>-0.310545</td>\n",
       "      <td>1.0</td>\n",
       "      <td>0.0</td>\n",
       "      <td>0.0</td>\n",
       "      <td>0.0</td>\n",
       "      <td>0.0</td>\n",
       "      <td>1.0</td>\n",
       "      <td>0.0</td>\n",
       "      <td>0.0</td>\n",
       "      <td>0.0</td>\n",
       "      <td>...</td>\n",
       "      <td>0.0</td>\n",
       "      <td>0.0</td>\n",
       "      <td>0.0</td>\n",
       "      <td>0.0</td>\n",
       "      <td>1.0</td>\n",
       "      <td>0.0</td>\n",
       "      <td>0.0</td>\n",
       "      <td>0.0</td>\n",
       "      <td>0.0</td>\n",
       "      <td>0.0</td>\n",
       "    </tr>\n",
       "    <tr>\n",
       "      <th>2</th>\n",
       "      <td>1.457616</td>\n",
       "      <td>1.0</td>\n",
       "      <td>0.0</td>\n",
       "      <td>0.0</td>\n",
       "      <td>0.0</td>\n",
       "      <td>0.0</td>\n",
       "      <td>1.0</td>\n",
       "      <td>0.0</td>\n",
       "      <td>0.0</td>\n",
       "      <td>0.0</td>\n",
       "      <td>...</td>\n",
       "      <td>0.0</td>\n",
       "      <td>0.0</td>\n",
       "      <td>0.0</td>\n",
       "      <td>0.0</td>\n",
       "      <td>0.0</td>\n",
       "      <td>0.0</td>\n",
       "      <td>1.0</td>\n",
       "      <td>0.0</td>\n",
       "      <td>0.0</td>\n",
       "      <td>0.0</td>\n",
       "    </tr>\n",
       "    <tr>\n",
       "      <th>3</th>\n",
       "      <td>-0.302836</td>\n",
       "      <td>1.0</td>\n",
       "      <td>0.0</td>\n",
       "      <td>0.0</td>\n",
       "      <td>0.0</td>\n",
       "      <td>0.0</td>\n",
       "      <td>1.0</td>\n",
       "      <td>0.0</td>\n",
       "      <td>0.0</td>\n",
       "      <td>0.0</td>\n",
       "      <td>...</td>\n",
       "      <td>0.0</td>\n",
       "      <td>0.0</td>\n",
       "      <td>0.0</td>\n",
       "      <td>0.0</td>\n",
       "      <td>1.0</td>\n",
       "      <td>0.0</td>\n",
       "      <td>0.0</td>\n",
       "      <td>0.0</td>\n",
       "      <td>0.0</td>\n",
       "      <td>0.0</td>\n",
       "    </tr>\n",
       "    <tr>\n",
       "      <th>4</th>\n",
       "      <td>-0.214056</td>\n",
       "      <td>1.0</td>\n",
       "      <td>0.0</td>\n",
       "      <td>0.0</td>\n",
       "      <td>0.0</td>\n",
       "      <td>0.0</td>\n",
       "      <td>1.0</td>\n",
       "      <td>0.0</td>\n",
       "      <td>0.0</td>\n",
       "      <td>0.0</td>\n",
       "      <td>...</td>\n",
       "      <td>0.0</td>\n",
       "      <td>0.0</td>\n",
       "      <td>0.0</td>\n",
       "      <td>0.0</td>\n",
       "      <td>0.0</td>\n",
       "      <td>1.0</td>\n",
       "      <td>0.0</td>\n",
       "      <td>0.0</td>\n",
       "      <td>0.0</td>\n",
       "      <td>0.0</td>\n",
       "    </tr>\n",
       "  </tbody>\n",
       "</table>\n",
       "<p>5 rows × 33 columns</p>\n",
       "</div>"
      ],
      "text/plain": [
       "   num__pre_icu_los_days  cat__gender_F  cat__gender_M  cat__gender_None  \\\n",
       "0              -0.192791            0.0            1.0               0.0   \n",
       "1              -0.310545            1.0            0.0               0.0   \n",
       "2               1.457616            1.0            0.0               0.0   \n",
       "3              -0.302836            1.0            0.0               0.0   \n",
       "4              -0.214056            1.0            0.0               0.0   \n",
       "\n",
       "   cat__ethnicity_African American  cat__ethnicity_Asian  \\\n",
       "0                              0.0                   0.0   \n",
       "1                              0.0                   0.0   \n",
       "2                              0.0                   0.0   \n",
       "3                              0.0                   0.0   \n",
       "4                              0.0                   0.0   \n",
       "\n",
       "   cat__ethnicity_Caucasian  cat__ethnicity_Hispanic  \\\n",
       "0                       1.0                      0.0   \n",
       "1                       1.0                      0.0   \n",
       "2                       1.0                      0.0   \n",
       "3                       1.0                      0.0   \n",
       "4                       1.0                      0.0   \n",
       "\n",
       "   cat__ethnicity_Native American  cat__ethnicity_Other/Unknown  ...  \\\n",
       "0                             0.0                           0.0  ...   \n",
       "1                             0.0                           0.0  ...   \n",
       "2                             0.0                           0.0  ...   \n",
       "3                             0.0                           0.0  ...   \n",
       "4                             0.0                           0.0  ...   \n",
       "\n",
       "   cat__hospital_admit_source_PACU  cat__hospital_admit_source_Recovery Room  \\\n",
       "0                              0.0                                       0.0   \n",
       "1                              0.0                                       0.0   \n",
       "2                              0.0                                       0.0   \n",
       "3                              0.0                                       0.0   \n",
       "4                              0.0                                       0.0   \n",
       "\n",
       "   cat__hospital_admit_source_Step-Down Unit (SDU)  \\\n",
       "0                                              0.0   \n",
       "1                                              0.0   \n",
       "2                                              0.0   \n",
       "3                                              0.0   \n",
       "4                                              0.0   \n",
       "\n",
       "   cat__hospital_admit_source_None  \\\n",
       "0                              1.0   \n",
       "1                              0.0   \n",
       "2                              0.0   \n",
       "3                              0.0   \n",
       "4                              0.0   \n",
       "\n",
       "   cat__icu_admit_source_Accident & Emergency  cat__icu_admit_source_Floor  \\\n",
       "0                                         0.0                          1.0   \n",
       "1                                         1.0                          0.0   \n",
       "2                                         0.0                          0.0   \n",
       "3                                         1.0                          0.0   \n",
       "4                                         0.0                          1.0   \n",
       "\n",
       "   cat__icu_admit_source_Operating Room / Recovery  \\\n",
       "0                                              0.0   \n",
       "1                                              0.0   \n",
       "2                                              1.0   \n",
       "3                                              0.0   \n",
       "4                                              0.0   \n",
       "\n",
       "   cat__icu_admit_source_Other Hospital  cat__icu_admit_source_Other ICU  \\\n",
       "0                                   0.0                              0.0   \n",
       "1                                   0.0                              0.0   \n",
       "2                                   0.0                              0.0   \n",
       "3                                   0.0                              0.0   \n",
       "4                                   0.0                              0.0   \n",
       "\n",
       "   cat__icu_admit_source_None  \n",
       "0                         0.0  \n",
       "1                         0.0  \n",
       "2                         0.0  \n",
       "3                         0.0  \n",
       "4                         0.0  \n",
       "\n",
       "[5 rows x 33 columns]"
      ]
     },
     "execution_count": 46,
     "metadata": {},
     "output_type": "execute_result"
    }
   ],
   "source": [
    "X_test_transformed.head()"
   ]
  },
  {
   "cell_type": "code",
   "execution_count": null,
   "metadata": {},
   "outputs": [],
   "source": []
  },
  {
   "cell_type": "code",
   "execution_count": 40,
   "metadata": {},
   "outputs": [],
   "source": [
    "with open(cfg.paths.models.lr, \"rb\") as f:\n",
    "    loaded_onnx_model = load_model(f)"
   ]
  },
  {
   "cell_type": "code",
   "execution_count": 41,
   "metadata": {},
   "outputs": [],
   "source": [
    "sess = InferenceSession(loaded_onnx_model.SerializeToString(), providers=[\"CPUExecutionProvider\"])"
   ]
  },
  {
   "cell_type": "code",
   "execution_count": 47,
   "metadata": {},
   "outputs": [
    {
     "ename": "ValueError",
     "evalue": "Required inputs (['float_input']) are missing from input feed (['X']).",
     "output_type": "error",
     "traceback": [
      "\u001b[0;31m---------------------------------------------------------------------------\u001b[0m",
      "\u001b[0;31mValueError\u001b[0m                                Traceback (most recent call last)",
      "\u001b[1;32m/Users/zacklarsen/Documents/Projects/kaggle-wids-datathon-2020/notebooks/explainer_dashboard.ipynb Cell 11\u001b[0m line \u001b[0;36m1\n\u001b[0;32m----> <a href='vscode-notebook-cell:/Users/zacklarsen/Documents/Projects/kaggle-wids-datathon-2020/notebooks/explainer_dashboard.ipynb#X15sZmlsZQ%3D%3D?line=0'>1</a>\u001b[0m pred_ort \u001b[39m=\u001b[39m sess\u001b[39m.\u001b[39;49mrun(\u001b[39mNone\u001b[39;49;00m, {\u001b[39m\"\u001b[39;49m\u001b[39mX\u001b[39;49m\u001b[39m\"\u001b[39;49m: X_test_transformed\u001b[39m.\u001b[39;49mastype(np\u001b[39m.\u001b[39;49mfloat32)})[\u001b[39m0\u001b[39m]\n",
      "File \u001b[0;32m~/mambaforge/envs/wids2020/lib/python3.10/site-packages/onnxruntime/capi/onnxruntime_inference_collection.py:216\u001b[0m, in \u001b[0;36mSession.run\u001b[0;34m(self, output_names, input_feed, run_options)\u001b[0m\n\u001b[1;32m    202\u001b[0m \u001b[39mdef\u001b[39;00m \u001b[39mrun\u001b[39m(\u001b[39mself\u001b[39m, output_names, input_feed, run_options\u001b[39m=\u001b[39m\u001b[39mNone\u001b[39;00m):\n\u001b[1;32m    203\u001b[0m \u001b[39m    \u001b[39m\u001b[39m\"\"\"\u001b[39;00m\n\u001b[1;32m    204\u001b[0m \u001b[39m    Compute the predictions.\u001b[39;00m\n\u001b[1;32m    205\u001b[0m \n\u001b[0;32m   (...)\u001b[0m\n\u001b[1;32m    214\u001b[0m \u001b[39m        sess.run([output_name], {input_name: x})\u001b[39;00m\n\u001b[1;32m    215\u001b[0m \u001b[39m    \"\"\"\u001b[39;00m\n\u001b[0;32m--> 216\u001b[0m     \u001b[39mself\u001b[39;49m\u001b[39m.\u001b[39;49m_validate_input(\u001b[39mlist\u001b[39;49m(input_feed\u001b[39m.\u001b[39;49mkeys()))\n\u001b[1;32m    217\u001b[0m     \u001b[39mif\u001b[39;00m \u001b[39mnot\u001b[39;00m output_names:\n\u001b[1;32m    218\u001b[0m         output_names \u001b[39m=\u001b[39m [output\u001b[39m.\u001b[39mname \u001b[39mfor\u001b[39;00m output \u001b[39min\u001b[39;00m \u001b[39mself\u001b[39m\u001b[39m.\u001b[39m_outputs_meta]\n",
      "File \u001b[0;32m~/mambaforge/envs/wids2020/lib/python3.10/site-packages/onnxruntime/capi/onnxruntime_inference_collection.py:198\u001b[0m, in \u001b[0;36mSession._validate_input\u001b[0;34m(self, feed_input_names)\u001b[0m\n\u001b[1;32m    196\u001b[0m         missing_input_names\u001b[39m.\u001b[39mappend(\u001b[39minput\u001b[39m\u001b[39m.\u001b[39mname)\n\u001b[1;32m    197\u001b[0m \u001b[39mif\u001b[39;00m missing_input_names:\n\u001b[0;32m--> 198\u001b[0m     \u001b[39mraise\u001b[39;00m \u001b[39mValueError\u001b[39;00m(\n\u001b[1;32m    199\u001b[0m         \u001b[39mf\u001b[39m\u001b[39m\"\u001b[39m\u001b[39mRequired inputs (\u001b[39m\u001b[39m{\u001b[39;00mmissing_input_names\u001b[39m}\u001b[39;00m\u001b[39m) are missing from input feed (\u001b[39m\u001b[39m{\u001b[39;00mfeed_input_names\u001b[39m}\u001b[39;00m\u001b[39m).\u001b[39m\u001b[39m\"\u001b[39m\n\u001b[1;32m    200\u001b[0m     )\n",
      "\u001b[0;31mValueError\u001b[0m: Required inputs (['float_input']) are missing from input feed (['X'])."
     ]
    }
   ],
   "source": [
    "pred_ort = sess.run(None, {\"X\": X_test_transformed.astype(np.float32)})[0]"
   ]
  },
  {
   "cell_type": "code",
   "execution_count": 48,
   "metadata": {},
   "outputs": [
    {
     "ename": "AttributeError",
     "evalue": "'ModelProto' object has no attribute 'predict'",
     "output_type": "error",
     "traceback": [
      "\u001b[0;31m---------------------------------------------------------------------------\u001b[0m",
      "\u001b[0;31mAttributeError\u001b[0m                            Traceback (most recent call last)",
      "\u001b[1;32m/Users/zacklarsen/Documents/Projects/kaggle-wids-datathon-2020/notebooks/explainer_dashboard.ipynb Cell 12\u001b[0m line \u001b[0;36m1\n\u001b[0;32m----> <a href='vscode-notebook-cell:/Users/zacklarsen/Documents/Projects/kaggle-wids-datathon-2020/notebooks/explainer_dashboard.ipynb#X14sZmlsZQ%3D%3D?line=0'>1</a>\u001b[0m pred_skl \u001b[39m=\u001b[39m loaded_onnx_model\u001b[39m.\u001b[39;49mpredict(X_test_transformed\u001b[39m.\u001b[39mastype(np\u001b[39m.\u001b[39mfloat32))\n",
      "\u001b[0;31mAttributeError\u001b[0m: 'ModelProto' object has no attribute 'predict'"
     ]
    }
   ],
   "source": [
    "pred_skl = loaded_onnx_model.predict(X_test_transformed.astype(np.float32))"
   ]
  },
  {
   "cell_type": "code",
   "execution_count": 50,
   "metadata": {},
   "outputs": [
    {
     "name": "stdout",
     "output_type": "stream",
     "text": [
      "WARNING: For shap='linear', shap interaction values can unfortunately not be calculated!\n"
     ]
    },
    {
     "ename": "AssertionError",
     "evalue": "for ClassifierExplainer, model should be a scikit-learn compatible *classifier* model that has a predict_proba(...) method, so not a <class 'onnx.onnx_ml_pb2.ModelProto'>! If you are using e.g an SVM with hinge loss (which does not support predict_proba), you can try the following monkey patch:\n\nimport types\ndef predict_proba(self, X):\n    pred = self.predict(X)\n    return np.array([1-pred, pred]).T\nmodel.predict_proba = types.MethodType(predict_proba, model)\n",
     "output_type": "error",
     "traceback": [
      "\u001b[0;31m---------------------------------------------------------------------------\u001b[0m",
      "\u001b[0;31mAssertionError\u001b[0m                            Traceback (most recent call last)",
      "\u001b[1;32m/Users/zacklarsen/Documents/Projects/kaggle-wids-datathon-2020/notebooks/explainer_dashboard.ipynb Cell 13\u001b[0m line \u001b[0;36m1\n\u001b[0;32m----> <a href='vscode-notebook-cell:/Users/zacklarsen/Documents/Projects/kaggle-wids-datathon-2020/notebooks/explainer_dashboard.ipynb#W2sZmlsZQ%3D%3D?line=0'>1</a>\u001b[0m explainer \u001b[39m=\u001b[39m ClassifierExplainer(loaded_onnx_model, X_test_transformed, y_test\u001b[39m.\u001b[39;49mto_pandas(), shap\u001b[39m=\u001b[39;49m\u001b[39m'\u001b[39;49m\u001b[39mlinear\u001b[39;49m\u001b[39m'\u001b[39;49m)\n",
      "File \u001b[0;32m~/mambaforge/envs/wids2020/lib/python3.10/site-packages/explainerdashboard/explainers.py:2444\u001b[0m, in \u001b[0;36mClassifierExplainer.__init__\u001b[0;34m(self, model, X, y, permutation_metric, shap, X_background, model_output, cats, cats_notencoded, idxs, index_name, target, descriptions, n_jobs, permutation_cv, cv, na_fill, precision, shap_kwargs, labels, pos_label)\u001b[0m\n\u001b[1;32m   2363\u001b[0m \u001b[39m\u001b[39m\u001b[39m\"\"\"\u001b[39;00m\n\u001b[1;32m   2364\u001b[0m \u001b[39mExplainer for classification models. Defines the shap values for\u001b[39;00m\n\u001b[1;32m   2365\u001b[0m \u001b[39meach possible class in the classification.\u001b[39;00m\n\u001b[0;32m   (...)\u001b[0m\n\u001b[1;32m   2420\u001b[0m \u001b[39m                defaults to 1\u001b[39;00m\n\u001b[1;32m   2421\u001b[0m \u001b[39m\"\"\"\u001b[39;00m\n\u001b[1;32m   2422\u001b[0m \u001b[39msuper\u001b[39m()\u001b[39m.\u001b[39m\u001b[39m__init__\u001b[39m(\n\u001b[1;32m   2423\u001b[0m     model,\n\u001b[1;32m   2424\u001b[0m     X,\n\u001b[0;32m   (...)\u001b[0m\n\u001b[1;32m   2441\u001b[0m     shap_kwargs,\n\u001b[1;32m   2442\u001b[0m )\n\u001b[0;32m-> 2444\u001b[0m \u001b[39massert\u001b[39;00m \u001b[39mhasattr\u001b[39m(model, \u001b[39m\"\u001b[39m\u001b[39mpredict_proba\u001b[39m\u001b[39m\"\u001b[39m), (\n\u001b[1;32m   2445\u001b[0m     \u001b[39m\"\u001b[39m\u001b[39mfor ClassifierExplainer, model should be a scikit-learn \u001b[39m\u001b[39m\"\u001b[39m\n\u001b[1;32m   2446\u001b[0m     \u001b[39m\"\u001b[39m\u001b[39mcompatible *classifier* model that has a predict_proba(...) \u001b[39m\u001b[39m\"\u001b[39m\n\u001b[1;32m   2447\u001b[0m     \u001b[39mf\u001b[39m\u001b[39m\"\u001b[39m\u001b[39mmethod, so not a \u001b[39m\u001b[39m{\u001b[39;00m\u001b[39mtype\u001b[39m(model)\u001b[39m}\u001b[39;00m\u001b[39m! If you are using e.g an SVM \u001b[39m\u001b[39m\"\u001b[39m\n\u001b[1;32m   2448\u001b[0m     \u001b[39m\"\u001b[39m\u001b[39mwith hinge loss (which does not support predict_proba), you \u001b[39m\u001b[39m\"\u001b[39m\n\u001b[1;32m   2449\u001b[0m     \u001b[39m\"\u001b[39m\u001b[39mcan try the following monkey patch:\u001b[39m\u001b[39m\\n\u001b[39;00m\u001b[39m\\n\u001b[39;00m\u001b[39m\"\u001b[39m\n\u001b[1;32m   2450\u001b[0m     \u001b[39m\"\u001b[39m\u001b[39mimport types\u001b[39m\u001b[39m\\n\u001b[39;00m\u001b[39m\"\u001b[39m\n\u001b[1;32m   2451\u001b[0m     \u001b[39m\"\u001b[39m\u001b[39mdef predict_proba(self, X):\u001b[39m\u001b[39m\\n\u001b[39;00m\u001b[39m\"\u001b[39m\n\u001b[1;32m   2452\u001b[0m     \u001b[39m\"\u001b[39m\u001b[39m    pred = self.predict(X)\u001b[39m\u001b[39m\\n\u001b[39;00m\u001b[39m\"\u001b[39m\n\u001b[1;32m   2453\u001b[0m     \u001b[39m\"\u001b[39m\u001b[39m    return np.array([1-pred, pred]).T\u001b[39m\u001b[39m\\n\u001b[39;00m\u001b[39m\"\u001b[39m\n\u001b[1;32m   2454\u001b[0m     \u001b[39m\"\u001b[39m\u001b[39mmodel.predict_proba = types.MethodType(predict_proba, model)\u001b[39m\u001b[39m\\n\u001b[39;00m\u001b[39m\"\u001b[39m\n\u001b[1;32m   2455\u001b[0m )\n\u001b[1;32m   2457\u001b[0m \u001b[39mself\u001b[39m\u001b[39m.\u001b[39m_params_dict \u001b[39m=\u001b[39m {\n\u001b[1;32m   2458\u001b[0m     \u001b[39m*\u001b[39m\u001b[39m*\u001b[39m\u001b[39mself\u001b[39m\u001b[39m.\u001b[39m_params_dict,\n\u001b[1;32m   2459\u001b[0m     \u001b[39m*\u001b[39m\u001b[39m*\u001b[39m\u001b[39mdict\u001b[39m(labels\u001b[39m=\u001b[39mlabels, pos_label\u001b[39m=\u001b[39mpos_label),\n\u001b[1;32m   2460\u001b[0m }\n\u001b[1;32m   2462\u001b[0m \u001b[39mif\u001b[39;00m \u001b[39mnot\u001b[39;00m \u001b[39mself\u001b[39m\u001b[39m.\u001b[39my_missing:\n",
      "\u001b[0;31mAssertionError\u001b[0m: for ClassifierExplainer, model should be a scikit-learn compatible *classifier* model that has a predict_proba(...) method, so not a <class 'onnx.onnx_ml_pb2.ModelProto'>! If you are using e.g an SVM with hinge loss (which does not support predict_proba), you can try the following monkey patch:\n\nimport types\ndef predict_proba(self, X):\n    pred = self.predict(X)\n    return np.array([1-pred, pred]).T\nmodel.predict_proba = types.MethodType(predict_proba, model)\n"
     ]
    }
   ],
   "source": [
    "explainer = ClassifierExplainer(loaded_onnx_model, X_test_transformed, y_test.to_pandas(), shap='linear')"
   ]
  },
  {
   "cell_type": "code",
   "execution_count": null,
   "metadata": {},
   "outputs": [],
   "source": [
    "ExplainerDashboard(explainer).run()"
   ]
  },
  {
   "cell_type": "code",
   "execution_count": null,
   "metadata": {},
   "outputs": [],
   "source": []
  }
 ],
 "metadata": {
  "kernelspec": {
   "display_name": "wids2020",
   "language": "python",
   "name": "python3"
  },
  "language_info": {
   "codemirror_mode": {
    "name": "ipython",
    "version": 3
   },
   "file_extension": ".py",
   "mimetype": "text/x-python",
   "name": "python",
   "nbconvert_exporter": "python",
   "pygments_lexer": "ipython3",
   "version": "3.10.13"
  }
 },
 "nbformat": 4,
 "nbformat_minor": 2
}
