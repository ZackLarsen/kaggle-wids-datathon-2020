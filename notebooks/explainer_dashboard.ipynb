{
 "cells": [
  {
   "cell_type": "code",
   "execution_count": 33,
   "metadata": {},
   "outputs": [],
   "source": [
    "from onnxruntime import InferenceSession\n",
    "import polars as pl\n",
    "import numpy as np\n",
    "from explainerdashboard import ClassifierExplainer, ExplainerDashboard\n",
    "from hydra import compose, initialize\n",
    "from onnx import load_model"
   ]
  },
  {
   "cell_type": "code",
   "execution_count": 34,
   "metadata": {},
   "outputs": [],
   "source": [
    "with initialize(version_base=\"1.3.2\",\n",
    "                config_path=\"../src/config\",\n",
    "                job_name=\"explainer_dashboard\"):\n",
    "    cfg = compose(config_name=\"config\")"
   ]
  },
  {
   "cell_type": "code",
   "execution_count": 44,
   "metadata": {},
   "outputs": [
    {
     "data": {
      "text/plain": [
       "'/Users/zacklarsen/Documents/Projects/kaggle-wids-datathon-2020/data/X_test_transformed.parquet'"
      ]
     },
     "execution_count": 44,
     "metadata": {},
     "output_type": "execute_result"
    }
   ],
   "source": [
    "cfg.paths.data.X_test_transformed"
   ]
  },
  {
   "cell_type": "code",
   "execution_count": 52,
   "metadata": {},
   "outputs": [],
   "source": [
    "X_test_transformed = pl.read_parquet(cfg.paths.data.X_test_transformed)"
   ]
  },
  {
   "cell_type": "code",
   "execution_count": 37,
   "metadata": {},
   "outputs": [],
   "source": [
    "y_test = pl.read_parquet(cfg.paths.data.y_test)"
   ]
  },
  {
   "cell_type": "code",
   "execution_count": 53,
   "metadata": {},
   "outputs": [
    {
     "name": "stdout",
     "output_type": "stream",
     "text": [
      "Rows: 22929\n",
      "Columns: 33\n",
      "$ num__pre_icu_los_days                           <f64> -0.19279126437083538, -0.31054458355832015, 1.4576158653736913, -0.30283612695776885, -0.21405597228722034, -0.29778575903814797, -0.3153291428012303, -0.31772142242268536, -0.3163923782736025, -0.26163575565684644\n",
      "$ cat__gender_F                                   <f64> 0.0, 1.0, 1.0, 1.0, 1.0, 0.0, 1.0, 1.0, 1.0, 1.0\n",
      "$ cat__gender_M                                   <f64> 1.0, 0.0, 0.0, 0.0, 0.0, 1.0, 0.0, 0.0, 0.0, 0.0\n",
      "$ cat__gender_None                                <f64> 0.0, 0.0, 0.0, 0.0, 0.0, 0.0, 0.0, 0.0, 0.0, 0.0\n",
      "$ cat__ethnicity_African American                 <f64> 0.0, 0.0, 0.0, 0.0, 0.0, 0.0, 0.0, 0.0, 0.0, 0.0\n",
      "$ cat__ethnicity_Asian                            <f64> 0.0, 0.0, 0.0, 0.0, 0.0, 0.0, 0.0, 0.0, 0.0, 0.0\n",
      "$ cat__ethnicity_Caucasian                        <f64> 1.0, 1.0, 1.0, 1.0, 1.0, 1.0, 1.0, 1.0, 1.0, 1.0\n",
      "$ cat__ethnicity_Hispanic                         <f64> 0.0, 0.0, 0.0, 0.0, 0.0, 0.0, 0.0, 0.0, 0.0, 0.0\n",
      "$ cat__ethnicity_Native American                  <f64> 0.0, 0.0, 0.0, 0.0, 0.0, 0.0, 0.0, 0.0, 0.0, 0.0\n",
      "$ cat__ethnicity_Other/Unknown                    <f64> 0.0, 0.0, 0.0, 0.0, 0.0, 0.0, 0.0, 0.0, 0.0, 0.0\n",
      "$ cat__ethnicity_None                             <f64> 0.0, 0.0, 0.0, 0.0, 0.0, 0.0, 0.0, 0.0, 0.0, 0.0\n",
      "$ cat__hospital_admit_source_Acute Care/Floor     <f64> 0.0, 0.0, 0.0, 0.0, 0.0, 0.0, 0.0, 0.0, 0.0, 0.0\n",
      "$ cat__hospital_admit_source_Chest Pain Center    <f64> 0.0, 0.0, 0.0, 0.0, 0.0, 0.0, 0.0, 0.0, 0.0, 0.0\n",
      "$ cat__hospital_admit_source_Direct Admit         <f64> 0.0, 0.0, 0.0, 0.0, 0.0, 0.0, 0.0, 0.0, 0.0, 0.0\n",
      "$ cat__hospital_admit_source_Emergency Department <f64> 0.0, 1.0, 0.0, 1.0, 0.0, 1.0, 0.0, 0.0, 1.0, 1.0\n",
      "$ cat__hospital_admit_source_Floor                <f64> 0.0, 0.0, 0.0, 0.0, 1.0, 0.0, 0.0, 0.0, 0.0, 0.0\n",
      "$ cat__hospital_admit_source_ICU                  <f64> 0.0, 0.0, 0.0, 0.0, 0.0, 0.0, 0.0, 0.0, 0.0, 0.0\n",
      "$ cat__hospital_admit_source_ICU to SDU           <f64> 0.0, 0.0, 0.0, 0.0, 0.0, 0.0, 0.0, 0.0, 0.0, 0.0\n",
      "$ cat__hospital_admit_source_Observation          <f64> 0.0, 0.0, 0.0, 0.0, 0.0, 0.0, 0.0, 0.0, 0.0, 0.0\n",
      "$ cat__hospital_admit_source_Operating Room       <f64> 0.0, 0.0, 1.0, 0.0, 0.0, 0.0, 0.0, 0.0, 0.0, 0.0\n",
      "$ cat__hospital_admit_source_Other                <f64> 0.0, 0.0, 0.0, 0.0, 0.0, 0.0, 0.0, 0.0, 0.0, 0.0\n",
      "$ cat__hospital_admit_source_Other Hospital       <f64> 0.0, 0.0, 0.0, 0.0, 0.0, 0.0, 0.0, 1.0, 0.0, 0.0\n",
      "$ cat__hospital_admit_source_Other ICU            <f64> 0.0, 0.0, 0.0, 0.0, 0.0, 0.0, 0.0, 0.0, 0.0, 0.0\n",
      "$ cat__hospital_admit_source_PACU                 <f64> 0.0, 0.0, 0.0, 0.0, 0.0, 0.0, 0.0, 0.0, 0.0, 0.0\n",
      "$ cat__hospital_admit_source_Recovery Room        <f64> 0.0, 0.0, 0.0, 0.0, 0.0, 0.0, 0.0, 0.0, 0.0, 0.0\n",
      "$ cat__hospital_admit_source_Step-Down Unit (SDU) <f64> 0.0, 0.0, 0.0, 0.0, 0.0, 0.0, 0.0, 0.0, 0.0, 0.0\n",
      "$ cat__hospital_admit_source_None                 <f64> 1.0, 0.0, 0.0, 0.0, 0.0, 0.0, 1.0, 0.0, 0.0, 0.0\n",
      "$ cat__icu_admit_source_Accident & Emergency      <f64> 0.0, 1.0, 0.0, 1.0, 0.0, 1.0, 1.0, 0.0, 1.0, 1.0\n",
      "$ cat__icu_admit_source_Floor                     <f64> 1.0, 0.0, 0.0, 0.0, 1.0, 0.0, 0.0, 0.0, 0.0, 0.0\n",
      "$ cat__icu_admit_source_Operating Room / Recovery <f64> 0.0, 0.0, 1.0, 0.0, 0.0, 0.0, 0.0, 0.0, 0.0, 0.0\n",
      "$ cat__icu_admit_source_Other Hospital            <f64> 0.0, 0.0, 0.0, 0.0, 0.0, 0.0, 0.0, 1.0, 0.0, 0.0\n",
      "$ cat__icu_admit_source_Other ICU                 <f64> 0.0, 0.0, 0.0, 0.0, 0.0, 0.0, 0.0, 0.0, 0.0, 0.0\n",
      "$ cat__icu_admit_source_None                      <f64> 0.0, 0.0, 0.0, 0.0, 0.0, 0.0, 0.0, 0.0, 0.0, 0.0\n",
      "\n"
     ]
    }
   ],
   "source": [
    "X_test_transformed.glimpse()"
   ]
  },
  {
   "cell_type": "code",
   "execution_count": 55,
   "metadata": {},
   "outputs": [],
   "source": [
    "with open(cfg.paths.models.lr, \"rb\") as f:\n",
    "    loaded_onnx_model = load_model(f)"
   ]
  },
  {
   "cell_type": "code",
   "execution_count": 56,
   "metadata": {},
   "outputs": [],
   "source": [
    "sess = InferenceSession(loaded_onnx_model.SerializeToString(), providers=[\"CPUExecutionProvider\"])"
   ]
  },
  {
   "cell_type": "code",
   "execution_count": 57,
   "metadata": {},
   "outputs": [
    {
     "ename": "AttributeError",
     "evalue": "'DataFrame' object has no attribute 'astype'",
     "output_type": "error",
     "traceback": [
      "\u001b[0;31m---------------------------------------------------------------------------\u001b[0m",
      "\u001b[0;31mAttributeError\u001b[0m                            Traceback (most recent call last)",
      "\u001b[1;32m/Users/zacklarsen/Documents/Projects/kaggle-wids-datathon-2020/notebooks/explainer_dashboard.ipynb Cell 9\u001b[0m line \u001b[0;36m1\n\u001b[0;32m----> <a href='vscode-notebook-cell:/Users/zacklarsen/Documents/Projects/kaggle-wids-datathon-2020/notebooks/explainer_dashboard.ipynb#X15sZmlsZQ%3D%3D?line=0'>1</a>\u001b[0m pred_ort \u001b[39m=\u001b[39m sess\u001b[39m.\u001b[39mrun(\u001b[39mNone\u001b[39;00m, {\u001b[39m\"\u001b[39m\u001b[39mX\u001b[39m\u001b[39m\"\u001b[39m: X_test_transformed\u001b[39m.\u001b[39;49mastype(np\u001b[39m.\u001b[39mfloat32)})[\u001b[39m0\u001b[39m]\n",
      "\u001b[0;31mAttributeError\u001b[0m: 'DataFrame' object has no attribute 'astype'"
     ]
    }
   ],
   "source": [
    "pred_ort = sess.run(None, {\"X\": X_test_transformed.astype(np.float32)})[0]"
   ]
  },
  {
   "cell_type": "code",
   "execution_count": 48,
   "metadata": {},
   "outputs": [
    {
     "ename": "AttributeError",
     "evalue": "'ModelProto' object has no attribute 'predict'",
     "output_type": "error",
     "traceback": [
      "\u001b[0;31m---------------------------------------------------------------------------\u001b[0m",
      "\u001b[0;31mAttributeError\u001b[0m                            Traceback (most recent call last)",
      "\u001b[1;32m/Users/zacklarsen/Documents/Projects/kaggle-wids-datathon-2020/notebooks/explainer_dashboard.ipynb Cell 12\u001b[0m line \u001b[0;36m1\n\u001b[0;32m----> <a href='vscode-notebook-cell:/Users/zacklarsen/Documents/Projects/kaggle-wids-datathon-2020/notebooks/explainer_dashboard.ipynb#X14sZmlsZQ%3D%3D?line=0'>1</a>\u001b[0m pred_skl \u001b[39m=\u001b[39m loaded_onnx_model\u001b[39m.\u001b[39;49mpredict(X_test_transformed\u001b[39m.\u001b[39mastype(np\u001b[39m.\u001b[39mfloat32))\n",
      "\u001b[0;31mAttributeError\u001b[0m: 'ModelProto' object has no attribute 'predict'"
     ]
    }
   ],
   "source": [
    "pred_skl = loaded_onnx_model.predict(X_test_transformed.astype(np.float32))"
   ]
  },
  {
   "cell_type": "code",
   "execution_count": 50,
   "metadata": {},
   "outputs": [
    {
     "name": "stdout",
     "output_type": "stream",
     "text": [
      "WARNING: For shap='linear', shap interaction values can unfortunately not be calculated!\n"
     ]
    },
    {
     "ename": "AssertionError",
     "evalue": "for ClassifierExplainer, model should be a scikit-learn compatible *classifier* model that has a predict_proba(...) method, so not a <class 'onnx.onnx_ml_pb2.ModelProto'>! If you are using e.g an SVM with hinge loss (which does not support predict_proba), you can try the following monkey patch:\n\nimport types\ndef predict_proba(self, X):\n    pred = self.predict(X)\n    return np.array([1-pred, pred]).T\nmodel.predict_proba = types.MethodType(predict_proba, model)\n",
     "output_type": "error",
     "traceback": [
      "\u001b[0;31m---------------------------------------------------------------------------\u001b[0m",
      "\u001b[0;31mAssertionError\u001b[0m                            Traceback (most recent call last)",
      "\u001b[1;32m/Users/zacklarsen/Documents/Projects/kaggle-wids-datathon-2020/notebooks/explainer_dashboard.ipynb Cell 13\u001b[0m line \u001b[0;36m1\n\u001b[0;32m----> <a href='vscode-notebook-cell:/Users/zacklarsen/Documents/Projects/kaggle-wids-datathon-2020/notebooks/explainer_dashboard.ipynb#W2sZmlsZQ%3D%3D?line=0'>1</a>\u001b[0m explainer \u001b[39m=\u001b[39m ClassifierExplainer(loaded_onnx_model, X_test_transformed, y_test\u001b[39m.\u001b[39;49mto_pandas(), shap\u001b[39m=\u001b[39;49m\u001b[39m'\u001b[39;49m\u001b[39mlinear\u001b[39;49m\u001b[39m'\u001b[39;49m)\n",
      "File \u001b[0;32m~/mambaforge/envs/wids2020/lib/python3.10/site-packages/explainerdashboard/explainers.py:2444\u001b[0m, in \u001b[0;36mClassifierExplainer.__init__\u001b[0;34m(self, model, X, y, permutation_metric, shap, X_background, model_output, cats, cats_notencoded, idxs, index_name, target, descriptions, n_jobs, permutation_cv, cv, na_fill, precision, shap_kwargs, labels, pos_label)\u001b[0m\n\u001b[1;32m   2363\u001b[0m \u001b[39m\u001b[39m\u001b[39m\"\"\"\u001b[39;00m\n\u001b[1;32m   2364\u001b[0m \u001b[39mExplainer for classification models. Defines the shap values for\u001b[39;00m\n\u001b[1;32m   2365\u001b[0m \u001b[39meach possible class in the classification.\u001b[39;00m\n\u001b[0;32m   (...)\u001b[0m\n\u001b[1;32m   2420\u001b[0m \u001b[39m                defaults to 1\u001b[39;00m\n\u001b[1;32m   2421\u001b[0m \u001b[39m\"\"\"\u001b[39;00m\n\u001b[1;32m   2422\u001b[0m \u001b[39msuper\u001b[39m()\u001b[39m.\u001b[39m\u001b[39m__init__\u001b[39m(\n\u001b[1;32m   2423\u001b[0m     model,\n\u001b[1;32m   2424\u001b[0m     X,\n\u001b[0;32m   (...)\u001b[0m\n\u001b[1;32m   2441\u001b[0m     shap_kwargs,\n\u001b[1;32m   2442\u001b[0m )\n\u001b[0;32m-> 2444\u001b[0m \u001b[39massert\u001b[39;00m \u001b[39mhasattr\u001b[39m(model, \u001b[39m\"\u001b[39m\u001b[39mpredict_proba\u001b[39m\u001b[39m\"\u001b[39m), (\n\u001b[1;32m   2445\u001b[0m     \u001b[39m\"\u001b[39m\u001b[39mfor ClassifierExplainer, model should be a scikit-learn \u001b[39m\u001b[39m\"\u001b[39m\n\u001b[1;32m   2446\u001b[0m     \u001b[39m\"\u001b[39m\u001b[39mcompatible *classifier* model that has a predict_proba(...) \u001b[39m\u001b[39m\"\u001b[39m\n\u001b[1;32m   2447\u001b[0m     \u001b[39mf\u001b[39m\u001b[39m\"\u001b[39m\u001b[39mmethod, so not a \u001b[39m\u001b[39m{\u001b[39;00m\u001b[39mtype\u001b[39m(model)\u001b[39m}\u001b[39;00m\u001b[39m! If you are using e.g an SVM \u001b[39m\u001b[39m\"\u001b[39m\n\u001b[1;32m   2448\u001b[0m     \u001b[39m\"\u001b[39m\u001b[39mwith hinge loss (which does not support predict_proba), you \u001b[39m\u001b[39m\"\u001b[39m\n\u001b[1;32m   2449\u001b[0m     \u001b[39m\"\u001b[39m\u001b[39mcan try the following monkey patch:\u001b[39m\u001b[39m\\n\u001b[39;00m\u001b[39m\\n\u001b[39;00m\u001b[39m\"\u001b[39m\n\u001b[1;32m   2450\u001b[0m     \u001b[39m\"\u001b[39m\u001b[39mimport types\u001b[39m\u001b[39m\\n\u001b[39;00m\u001b[39m\"\u001b[39m\n\u001b[1;32m   2451\u001b[0m     \u001b[39m\"\u001b[39m\u001b[39mdef predict_proba(self, X):\u001b[39m\u001b[39m\\n\u001b[39;00m\u001b[39m\"\u001b[39m\n\u001b[1;32m   2452\u001b[0m     \u001b[39m\"\u001b[39m\u001b[39m    pred = self.predict(X)\u001b[39m\u001b[39m\\n\u001b[39;00m\u001b[39m\"\u001b[39m\n\u001b[1;32m   2453\u001b[0m     \u001b[39m\"\u001b[39m\u001b[39m    return np.array([1-pred, pred]).T\u001b[39m\u001b[39m\\n\u001b[39;00m\u001b[39m\"\u001b[39m\n\u001b[1;32m   2454\u001b[0m     \u001b[39m\"\u001b[39m\u001b[39mmodel.predict_proba = types.MethodType(predict_proba, model)\u001b[39m\u001b[39m\\n\u001b[39;00m\u001b[39m\"\u001b[39m\n\u001b[1;32m   2455\u001b[0m )\n\u001b[1;32m   2457\u001b[0m \u001b[39mself\u001b[39m\u001b[39m.\u001b[39m_params_dict \u001b[39m=\u001b[39m {\n\u001b[1;32m   2458\u001b[0m     \u001b[39m*\u001b[39m\u001b[39m*\u001b[39m\u001b[39mself\u001b[39m\u001b[39m.\u001b[39m_params_dict,\n\u001b[1;32m   2459\u001b[0m     \u001b[39m*\u001b[39m\u001b[39m*\u001b[39m\u001b[39mdict\u001b[39m(labels\u001b[39m=\u001b[39mlabels, pos_label\u001b[39m=\u001b[39mpos_label),\n\u001b[1;32m   2460\u001b[0m }\n\u001b[1;32m   2462\u001b[0m \u001b[39mif\u001b[39;00m \u001b[39mnot\u001b[39;00m \u001b[39mself\u001b[39m\u001b[39m.\u001b[39my_missing:\n",
      "\u001b[0;31mAssertionError\u001b[0m: for ClassifierExplainer, model should be a scikit-learn compatible *classifier* model that has a predict_proba(...) method, so not a <class 'onnx.onnx_ml_pb2.ModelProto'>! If you are using e.g an SVM with hinge loss (which does not support predict_proba), you can try the following monkey patch:\n\nimport types\ndef predict_proba(self, X):\n    pred = self.predict(X)\n    return np.array([1-pred, pred]).T\nmodel.predict_proba = types.MethodType(predict_proba, model)\n"
     ]
    }
   ],
   "source": [
    "explainer = ClassifierExplainer(loaded_onnx_model, X_test_transformed, y_test.to_pandas(), shap='linear')"
   ]
  },
  {
   "cell_type": "code",
   "execution_count": null,
   "metadata": {},
   "outputs": [],
   "source": [
    "ExplainerDashboard(explainer).run()"
   ]
  },
  {
   "cell_type": "code",
   "execution_count": null,
   "metadata": {},
   "outputs": [],
   "source": []
  }
 ],
 "metadata": {
  "kernelspec": {
   "display_name": "wids2020",
   "language": "python",
   "name": "python3"
  },
  "language_info": {
   "codemirror_mode": {
    "name": "ipython",
    "version": 3
   },
   "file_extension": ".py",
   "mimetype": "text/x-python",
   "name": "python",
   "nbconvert_exporter": "python",
   "pygments_lexer": "ipython3",
   "version": "3.10.13"
  }
 },
 "nbformat": 4,
 "nbformat_minor": 2
}
