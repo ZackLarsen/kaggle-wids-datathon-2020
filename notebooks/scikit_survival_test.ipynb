{
 "cells": [
  {
   "cell_type": "code",
   "execution_count": 5,
   "metadata": {},
   "outputs": [],
   "source": [
    "from pathlib import Path\n",
    "\n",
    "import polars as pl\n",
    "import numpy as np\n",
    "from sksurv.datasets import load_veterans_lung_cancer\n",
    "from sksurv.preprocessing import OneHotEncoder\n",
    "from sksurv.util import Surv\n",
    "from tpot import TPOTRegressor"
   ]
  },
  {
   "cell_type": "code",
   "execution_count": 7,
   "metadata": {},
   "outputs": [],
   "source": [
    "data_path = Path(\"/Users/zacklarsen/Documents/Projects/kaggle-wids-datathon-2020/data/\")\n",
    "training_v2_path = Path(data_path, \"training_v2.csv\")"
   ]
  },
  {
   "cell_type": "code",
   "execution_count": 8,
   "metadata": {},
   "outputs": [],
   "source": [
    "X_train = pl.read_parquet(data_path / \"X_train.parquet\")\n",
    "X_test = pl.read_parquet(data_path / \"X_test.parquet\")\n",
    "y_train = pl.read_parquet(data_path / \"y_train.parquet\")\n",
    "y_test = pl.read_parquet(data_path / \"y_test.parquet\")"
   ]
  },
  {
   "cell_type": "code",
   "execution_count": 11,
   "metadata": {},
   "outputs": [],
   "source": [
    "X_train_nda = X_train.to_numpy()\n",
    "y_train_nda = y_train.to_numpy()"
   ]
  },
  {
   "cell_type": "code",
   "execution_count": 13,
   "metadata": {},
   "outputs": [
    {
     "data": {
      "text/plain": [
       "numpy.ndarray"
      ]
     },
     "execution_count": 13,
     "metadata": {},
     "output_type": "execute_result"
    }
   ],
   "source": [
    "type(X_train_nda)"
   ]
  },
  {
   "cell_type": "code",
   "execution_count": 14,
   "metadata": {},
   "outputs": [
    {
     "data": {
      "text/plain": [
       "array([[59954, 90449, 118, ..., '0', 'Neurological', 'Neurologic'],\n",
       "       [63518, 19384, 185, ..., '0', 'Gastrointestinal',\n",
       "        'Gastrointestinal'],\n",
       "       [34401, 20558, 188, ..., '0', 'Metabolic', 'Metabolic'],\n",
       "       ...,\n",
       "       [89789, 87549, 103, ..., '0', 'Cardiovascular', 'Cardiovascular'],\n",
       "       [7917, 34465, 118, ..., '0', 'Respiratory', 'Respiratory'],\n",
       "       [84239, 12349, 116, ..., 'NA', None, None]], dtype=object)"
      ]
     },
     "execution_count": 14,
     "metadata": {},
     "output_type": "execute_result"
    }
   ],
   "source": [
    "X_train_nda"
   ]
  },
  {
   "cell_type": "code",
   "execution_count": 12,
   "metadata": {},
   "outputs": [
    {
     "ename": "TypeError",
     "evalue": "ufunc 'isnan' not supported for the input types, and the inputs could not be safely coerced to any supported types according to the casting rule ''safe''",
     "output_type": "error",
     "traceback": [
      "\u001b[0;31m---------------------------------------------------------------------------\u001b[0m",
      "\u001b[0;31mTypeError\u001b[0m                                 Traceback (most recent call last)",
      "\u001b[1;32m/Users/zacklarsen/Documents/Projects/kaggle-wids-datathon-2020/notebooks/scikit_survival_test.ipynb Cell 5\u001b[0m line \u001b[0;36m1\n\u001b[1;32m      <a href='vscode-notebook-cell:/Users/zacklarsen/Documents/Projects/kaggle-wids-datathon-2020/notebooks/scikit_survival_test.ipynb#W2sZmlsZQ%3D%3D?line=1'>2</a>\u001b[0m tpot \u001b[39m=\u001b[39m TPOTRegressor(\n\u001b[1;32m      <a href='vscode-notebook-cell:/Users/zacklarsen/Documents/Projects/kaggle-wids-datathon-2020/notebooks/scikit_survival_test.ipynb#W2sZmlsZQ%3D%3D?line=2'>3</a>\u001b[0m     generations\u001b[39m=\u001b[39m\u001b[39m5\u001b[39m,\n\u001b[1;32m      <a href='vscode-notebook-cell:/Users/zacklarsen/Documents/Projects/kaggle-wids-datathon-2020/notebooks/scikit_survival_test.ipynb#W2sZmlsZQ%3D%3D?line=3'>4</a>\u001b[0m     population_size\u001b[39m=\u001b[39m\u001b[39m20\u001b[39m,\n\u001b[0;32m   (...)\u001b[0m\n\u001b[1;32m      <a href='vscode-notebook-cell:/Users/zacklarsen/Documents/Projects/kaggle-wids-datathon-2020/notebooks/scikit_survival_test.ipynb#W2sZmlsZQ%3D%3D?line=7'>8</a>\u001b[0m     scoring\u001b[39m=\u001b[39m\u001b[39m\"\u001b[39m\u001b[39mneg_mean_squared_error\u001b[39m\u001b[39m\"\u001b[39m\n\u001b[1;32m      <a href='vscode-notebook-cell:/Users/zacklarsen/Documents/Projects/kaggle-wids-datathon-2020/notebooks/scikit_survival_test.ipynb#W2sZmlsZQ%3D%3D?line=8'>9</a>\u001b[0m )\n\u001b[1;32m     <a href='vscode-notebook-cell:/Users/zacklarsen/Documents/Projects/kaggle-wids-datathon-2020/notebooks/scikit_survival_test.ipynb#W2sZmlsZQ%3D%3D?line=10'>11</a>\u001b[0m \u001b[39m# Fit the TPOT regressor to the dataset\u001b[39;00m\n\u001b[0;32m---> <a href='vscode-notebook-cell:/Users/zacklarsen/Documents/Projects/kaggle-wids-datathon-2020/notebooks/scikit_survival_test.ipynb#W2sZmlsZQ%3D%3D?line=11'>12</a>\u001b[0m tpot\u001b[39m.\u001b[39;49mfit(X_train_nda, y_train_nda)\n\u001b[1;32m     <a href='vscode-notebook-cell:/Users/zacklarsen/Documents/Projects/kaggle-wids-datathon-2020/notebooks/scikit_survival_test.ipynb#W2sZmlsZQ%3D%3D?line=13'>14</a>\u001b[0m \u001b[39m# Export the pipeline\u001b[39;00m\n\u001b[1;32m     <a href='vscode-notebook-cell:/Users/zacklarsen/Documents/Projects/kaggle-wids-datathon-2020/notebooks/scikit_survival_test.ipynb#W2sZmlsZQ%3D%3D?line=14'>15</a>\u001b[0m tpot\u001b[39m.\u001b[39mexport(\u001b[39m'\u001b[39m\u001b[39mbest_model_pipeline.py\u001b[39m\u001b[39m'\u001b[39m)\n",
      "File \u001b[0;32m~/mambaforge/envs/wids2020/lib/python3.10/site-packages/tpot/base.py:727\u001b[0m, in \u001b[0;36mTPOTBase.fit\u001b[0;34m(self, features, target, sample_weight, groups)\u001b[0m\n\u001b[1;32m    689\u001b[0m \u001b[39m\u001b[39m\u001b[39m\"\"\"Fit an optimized machine learning pipeline.\u001b[39;00m\n\u001b[1;32m    690\u001b[0m \n\u001b[1;32m    691\u001b[0m \u001b[39mUses genetic programming to optimize a machine learning pipeline that\u001b[39;00m\n\u001b[0;32m   (...)\u001b[0m\n\u001b[1;32m    724\u001b[0m \n\u001b[1;32m    725\u001b[0m \u001b[39m\"\"\"\u001b[39;00m\n\u001b[1;32m    726\u001b[0m \u001b[39mself\u001b[39m\u001b[39m.\u001b[39m_fit_init()\n\u001b[0;32m--> 727\u001b[0m features, target \u001b[39m=\u001b[39m \u001b[39mself\u001b[39;49m\u001b[39m.\u001b[39;49m_check_dataset(features, target, sample_weight)\n\u001b[1;32m    729\u001b[0m \u001b[39mself\u001b[39m\u001b[39m.\u001b[39m_init_pretest(features, target)\n\u001b[1;32m    731\u001b[0m \u001b[39m# Randomly collect a subsample of training samples for pipeline optimization process.\u001b[39;00m\n",
      "File \u001b[0;32m~/mambaforge/envs/wids2020/lib/python3.10/site-packages/tpot/base.py:1376\u001b[0m, in \u001b[0;36mTPOTBase._check_dataset\u001b[0;34m(self, features, target, sample_weight)\u001b[0m\n\u001b[1;32m   1374\u001b[0m \u001b[39melse\u001b[39;00m:\n\u001b[1;32m   1375\u001b[0m     \u001b[39mif\u001b[39;00m \u001b[39misinstance\u001b[39m(features, np\u001b[39m.\u001b[39mndarray):\n\u001b[0;32m-> 1376\u001b[0m         \u001b[39mif\u001b[39;00m np\u001b[39m.\u001b[39many(np\u001b[39m.\u001b[39;49misnan(features)):\n\u001b[1;32m   1377\u001b[0m             \u001b[39mself\u001b[39m\u001b[39m.\u001b[39m_imputed \u001b[39m=\u001b[39m \u001b[39mTrue\u001b[39;00m\n\u001b[1;32m   1378\u001b[0m     \u001b[39melif\u001b[39;00m \u001b[39misinstance\u001b[39m(features, DataFrame):\n",
      "\u001b[0;31mTypeError\u001b[0m: ufunc 'isnan' not supported for the input types, and the inputs could not be safely coerced to any supported types according to the casting rule ''safe''"
     ]
    }
   ],
   "source": [
    "# Create a TPOT regressor object\n",
    "tpot = TPOTRegressor(\n",
    "    generations=5,\n",
    "    population_size=20,\n",
    "    verbosity=2,\n",
    "    config_dict=\"TPOT sparse\",\n",
    "    random_state=42,\n",
    "    scoring=\"neg_mean_squared_error\"\n",
    ")\n",
    "\n",
    "# Fit the TPOT regressor to the dataset\n",
    "tpot.fit(X_train_nda, y_train_nda)\n",
    "\n",
    "# Export the pipeline\n",
    "tpot.export('best_model_pipeline.py')"
   ]
  },
  {
   "cell_type": "code",
   "execution_count": null,
   "metadata": {},
   "outputs": [],
   "source": []
  },
  {
   "cell_type": "code",
   "execution_count": null,
   "metadata": {},
   "outputs": [],
   "source": []
  },
  {
   "cell_type": "code",
   "execution_count": null,
   "metadata": {},
   "outputs": [],
   "source": []
  },
  {
   "cell_type": "code",
   "execution_count": null,
   "metadata": {},
   "outputs": [],
   "source": []
  },
  {
   "cell_type": "code",
   "execution_count": null,
   "metadata": {},
   "outputs": [],
   "source": []
  },
  {
   "cell_type": "code",
   "execution_count": null,
   "metadata": {},
   "outputs": [],
   "source": []
  },
  {
   "cell_type": "code",
   "execution_count": null,
   "metadata": {},
   "outputs": [],
   "source": []
  },
  {
   "cell_type": "code",
   "execution_count": null,
   "metadata": {},
   "outputs": [],
   "source": []
  }
 ],
 "metadata": {
  "kernelspec": {
   "display_name": "wids2020",
   "language": "python",
   "name": "python3"
  },
  "language_info": {
   "codemirror_mode": {
    "name": "ipython",
    "version": 3
   },
   "file_extension": ".py",
   "mimetype": "text/x-python",
   "name": "python",
   "nbconvert_exporter": "python",
   "pygments_lexer": "ipython3",
   "version": "3.8.18"
  },
  "orig_nbformat": 4
 },
 "nbformat": 4,
 "nbformat_minor": 2
}
