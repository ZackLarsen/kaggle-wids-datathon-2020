{
 "cells": [
  {
   "cell_type": "markdown",
   "metadata": {},
   "source": [
    "# MLflow with Prefect"
   ]
  },
  {
   "cell_type": "markdown",
   "metadata": {},
   "source": [
    "To view the results of this run, go to either the MLflow UI or the mlflow.ipynb notebook.\n",
    "\n",
    "To run the MLflow UI, run the following command in your terminal (make sure to activate the wids2020 environment first):\n",
    "\n",
    "```bash\n",
    "mlflow ui\n",
    "```"
   ]
  },
  {
   "cell_type": "code",
   "execution_count": 1,
   "metadata": {},
   "outputs": [],
   "source": [
    "import sys\n",
    "from pathlib import Path\n",
    "import mlflow\n",
    "import mlflow.sklearn\n",
    "import mlflow.xgboost\n",
    "\n",
    "sys.path.append('/Users/zacklarsen/Documents/Projects/kaggle-wids-datathon-2020/')\n",
    "sys.path.append('/Users/zacklarsen/Documents/Projects/kaggle-wids-datathon-2020/src/')\n",
    "\n",
    "from kaggle_prefect_flow import prep_workflow"
   ]
  },
  {
   "cell_type": "code",
   "execution_count": 2,
   "metadata": {},
   "outputs": [],
   "source": [
    "mlflow.xgboost.autolog()\n",
    "#mlflow.sklearn.autolog()"
   ]
  },
  {
   "cell_type": "code",
   "execution_count": 3,
   "metadata": {},
   "outputs": [],
   "source": [
    "data_path = \"/Users/zacklarsen/Documents/Projects/kaggle-wids-datathon-2020/data/\"\n",
    "training_v2_path = Path(data_path, \"training_v2.csv\")"
   ]
  },
  {
   "cell_type": "code",
   "execution_count": 4,
   "metadata": {},
   "outputs": [],
   "source": [
    "# Assign the flow to a variable\n",
    "flow_instance = prep_workflow"
   ]
  },
  {
   "cell_type": "code",
   "execution_count": 5,
   "metadata": {},
   "outputs": [
    {
     "data": {
      "text/html": [
       "<pre style=\"white-space:pre;overflow-x:auto;line-height:normal;font-family:Menlo,'DejaVu Sans Mono',consolas,'Courier New',monospace\">15:45:53.468 | <span style=\"color: #008080; text-decoration-color: #008080\">INFO</span>    | prefect.engine - Created flow run<span style=\"color: #800080; text-decoration-color: #800080\"> 'garrulous-sambar'</span> for flow<span style=\"color: #800080; text-decoration-color: #800080; font-weight: bold\"> 'prep-workflow'</span>\n",
       "</pre>\n"
      ],
      "text/plain": [
       "15:45:53.468 | \u001b[36mINFO\u001b[0m    | prefect.engine - Created flow run\u001b[35m 'garrulous-sambar'\u001b[0m for flow\u001b[1;35m 'prep-workflow'\u001b[0m\n"
      ]
     },
     "metadata": {},
     "output_type": "display_data"
    },
    {
     "data": {
      "text/html": [
       "<pre style=\"white-space:pre;overflow-x:auto;line-height:normal;font-family:Menlo,'DejaVu Sans Mono',consolas,'Courier New',monospace\">15:45:53.526 | <span style=\"color: #008080; text-decoration-color: #008080\">INFO</span>    | Flow run<span style=\"color: #800080; text-decoration-color: #800080\"> 'garrulous-sambar'</span> - Created subflow run<span style=\"color: #800080; text-decoration-color: #800080\"> 'denim-swan'</span> for flow<span style=\"color: #800080; text-decoration-color: #800080; font-weight: bold\"> 'ingest'</span>\n",
       "</pre>\n"
      ],
      "text/plain": [
       "15:45:53.526 | \u001b[36mINFO\u001b[0m    | Flow run\u001b[35m 'garrulous-sambar'\u001b[0m - Created subflow run\u001b[35m 'denim-swan'\u001b[0m for flow\u001b[1;35m 'ingest'\u001b[0m\n"
      ]
     },
     "metadata": {},
     "output_type": "display_data"
    },
    {
     "data": {
      "text/html": [
       "<pre style=\"white-space:pre;overflow-x:auto;line-height:normal;font-family:Menlo,'DejaVu Sans Mono',consolas,'Courier New',monospace\">15:45:53.722 | <span style=\"color: #008080; text-decoration-color: #008080\">INFO</span>    | Flow run<span style=\"color: #800080; text-decoration-color: #800080\"> 'denim-swan'</span> - Data ingested\n",
       "</pre>\n"
      ],
      "text/plain": [
       "15:45:53.722 | \u001b[36mINFO\u001b[0m    | Flow run\u001b[35m 'denim-swan'\u001b[0m - Data ingested\n"
      ]
     },
     "metadata": {},
     "output_type": "display_data"
    },
    {
     "data": {
      "text/html": [
       "<pre style=\"white-space:pre;overflow-x:auto;line-height:normal;font-family:Menlo,'DejaVu Sans Mono',consolas,'Courier New',monospace\">15:45:53.745 | <span style=\"color: #008080; text-decoration-color: #008080\">INFO</span>    | Flow run<span style=\"color: #800080; text-decoration-color: #800080\"> 'denim-swan'</span> - Finished in state <span style=\"color: #008000; text-decoration-color: #008000\">Completed</span>()\n",
       "</pre>\n"
      ],
      "text/plain": [
       "15:45:53.745 | \u001b[36mINFO\u001b[0m    | Flow run\u001b[35m 'denim-swan'\u001b[0m - Finished in state \u001b[32mCompleted\u001b[0m()\n"
      ]
     },
     "metadata": {},
     "output_type": "display_data"
    },
    {
     "data": {
      "text/html": [
       "<pre style=\"white-space:pre;overflow-x:auto;line-height:normal;font-family:Menlo,'DejaVu Sans Mono',consolas,'Courier New',monospace\">15:45:53.785 | <span style=\"color: #008080; text-decoration-color: #008080\">INFO</span>    | Flow run<span style=\"color: #800080; text-decoration-color: #800080\"> 'garrulous-sambar'</span> - Created subflow run<span style=\"color: #800080; text-decoration-color: #800080\"> 'amiable-chinchilla'</span> for flow<span style=\"color: #800080; text-decoration-color: #800080; font-weight: bold\"> 'calc-mean-age'</span>\n",
       "</pre>\n"
      ],
      "text/plain": [
       "15:45:53.785 | \u001b[36mINFO\u001b[0m    | Flow run\u001b[35m 'garrulous-sambar'\u001b[0m - Created subflow run\u001b[35m 'amiable-chinchilla'\u001b[0m for flow\u001b[1;35m 'calc-mean-age'\u001b[0m\n"
      ]
     },
     "metadata": {},
     "output_type": "display_data"
    },
    {
     "data": {
      "text/html": [
       "<pre style=\"white-space:pre;overflow-x:auto;line-height:normal;font-family:Menlo,'DejaVu Sans Mono',consolas,'Courier New',monospace\">15:45:53.806 | <span style=\"color: #008080; text-decoration-color: #008080\">INFO</span>    | Flow run<span style=\"color: #800080; text-decoration-color: #800080\"> 'amiable-chinchilla'</span> - Mean age calculated as: 62.30951690673828\n",
       "</pre>\n"
      ],
      "text/plain": [
       "15:45:53.806 | \u001b[36mINFO\u001b[0m    | Flow run\u001b[35m 'amiable-chinchilla'\u001b[0m - Mean age calculated as: 62.30951690673828\n"
      ]
     },
     "metadata": {},
     "output_type": "display_data"
    },
    {
     "data": {
      "text/html": [
       "<pre style=\"white-space:pre;overflow-x:auto;line-height:normal;font-family:Menlo,'DejaVu Sans Mono',consolas,'Courier New',monospace\">15:45:53.826 | <span style=\"color: #008080; text-decoration-color: #008080\">INFO</span>    | Flow run<span style=\"color: #800080; text-decoration-color: #800080\"> 'amiable-chinchilla'</span> - Finished in state <span style=\"color: #008000; text-decoration-color: #008000\">Completed</span>()\n",
       "</pre>\n"
      ],
      "text/plain": [
       "15:45:53.826 | \u001b[36mINFO\u001b[0m    | Flow run\u001b[35m 'amiable-chinchilla'\u001b[0m - Finished in state \u001b[32mCompleted\u001b[0m()\n"
      ]
     },
     "metadata": {},
     "output_type": "display_data"
    },
    {
     "data": {
      "text/html": [
       "<pre style=\"white-space:pre;overflow-x:auto;line-height:normal;font-family:Menlo,'DejaVu Sans Mono',consolas,'Courier New',monospace\">15:45:53.865 | <span style=\"color: #008080; text-decoration-color: #008080\">INFO</span>    | Flow run<span style=\"color: #800080; text-decoration-color: #800080\"> 'garrulous-sambar'</span> - Created subflow run<span style=\"color: #800080; text-decoration-color: #800080\"> 'amber-mustang'</span> for flow<span style=\"color: #800080; text-decoration-color: #800080; font-weight: bold\"> 'split'</span>\n",
       "</pre>\n"
      ],
      "text/plain": [
       "15:45:53.865 | \u001b[36mINFO\u001b[0m    | Flow run\u001b[35m 'garrulous-sambar'\u001b[0m - Created subflow run\u001b[35m 'amber-mustang'\u001b[0m for flow\u001b[1;35m 'split'\u001b[0m\n"
      ]
     },
     "metadata": {},
     "output_type": "display_data"
    },
    {
     "data": {
      "text/html": [
       "<pre style=\"white-space:pre;overflow-x:auto;line-height:normal;font-family:Menlo,'DejaVu Sans Mono',consolas,'Courier New',monospace\">15:45:53.886 | <span style=\"color: #008080; text-decoration-color: #008080\">INFO</span>    | Flow run<span style=\"color: #800080; text-decoration-color: #800080\"> 'amber-mustang'</span> - Splitting data into train and test sets\n",
       "</pre>\n"
      ],
      "text/plain": [
       "15:45:53.886 | \u001b[36mINFO\u001b[0m    | Flow run\u001b[35m 'amber-mustang'\u001b[0m - Splitting data into train and test sets\n"
      ]
     },
     "metadata": {},
     "output_type": "display_data"
    },
    {
     "data": {
      "text/html": [
       "<pre style=\"white-space:pre;overflow-x:auto;line-height:normal;font-family:Menlo,'DejaVu Sans Mono',consolas,'Courier New',monospace\">15:45:53.931 | <span style=\"color: #008080; text-decoration-color: #008080\">INFO</span>    | Flow run<span style=\"color: #800080; text-decoration-color: #800080\"> 'amber-mustang'</span> - Size of train set: {X_train.shape}\n",
       "</pre>\n"
      ],
      "text/plain": [
       "15:45:53.931 | \u001b[36mINFO\u001b[0m    | Flow run\u001b[35m 'amber-mustang'\u001b[0m - Size of train set: {X_train.shape}\n"
      ]
     },
     "metadata": {},
     "output_type": "display_data"
    },
    {
     "data": {
      "text/html": [
       "<pre style=\"white-space:pre;overflow-x:auto;line-height:normal;font-family:Menlo,'DejaVu Sans Mono',consolas,'Courier New',monospace\">15:45:53.932 | <span style=\"color: #008080; text-decoration-color: #008080\">INFO</span>    | Flow run<span style=\"color: #800080; text-decoration-color: #800080\"> 'amber-mustang'</span> - Size of test set: {X_test.shape}\n",
       "</pre>\n"
      ],
      "text/plain": [
       "15:45:53.932 | \u001b[36mINFO\u001b[0m    | Flow run\u001b[35m 'amber-mustang'\u001b[0m - Size of test set: {X_test.shape}\n"
      ]
     },
     "metadata": {},
     "output_type": "display_data"
    },
    {
     "data": {
      "text/html": [
       "<pre style=\"white-space:pre;overflow-x:auto;line-height:normal;font-family:Menlo,'DejaVu Sans Mono',consolas,'Courier New',monospace\">15:45:53.954 | <span style=\"color: #008080; text-decoration-color: #008080\">INFO</span>    | Flow run<span style=\"color: #800080; text-decoration-color: #800080\"> 'amber-mustang'</span> - Finished in state <span style=\"color: #008000; text-decoration-color: #008000\">Completed</span>()\n",
       "</pre>\n"
      ],
      "text/plain": [
       "15:45:53.954 | \u001b[36mINFO\u001b[0m    | Flow run\u001b[35m 'amber-mustang'\u001b[0m - Finished in state \u001b[32mCompleted\u001b[0m()\n"
      ]
     },
     "metadata": {},
     "output_type": "display_data"
    },
    {
     "data": {
      "text/html": [
       "<pre style=\"white-space:pre;overflow-x:auto;line-height:normal;font-family:Menlo,'DejaVu Sans Mono',consolas,'Courier New',monospace\">15:45:53.993 | <span style=\"color: #008080; text-decoration-color: #008080\">INFO</span>    | Flow run<span style=\"color: #800080; text-decoration-color: #800080\"> 'garrulous-sambar'</span> - Created subflow run<span style=\"color: #800080; text-decoration-color: #800080\"> 'hysterical-grasshopper'</span> for flow<span style=\"color: #800080; text-decoration-color: #800080; font-weight: bold\"> 'save-splits'</span>\n",
       "</pre>\n"
      ],
      "text/plain": [
       "15:45:53.993 | \u001b[36mINFO\u001b[0m    | Flow run\u001b[35m 'garrulous-sambar'\u001b[0m - Created subflow run\u001b[35m 'hysterical-grasshopper'\u001b[0m for flow\u001b[1;35m 'save-splits'\u001b[0m\n"
      ]
     },
     "metadata": {},
     "output_type": "display_data"
    },
    {
     "data": {
      "text/html": [
       "<pre style=\"white-space:pre;overflow-x:auto;line-height:normal;font-family:Menlo,'DejaVu Sans Mono',consolas,'Courier New',monospace\">15:45:54.013 | <span style=\"color: #008080; text-decoration-color: #008080\">INFO</span>    | Flow run<span style=\"color: #800080; text-decoration-color: #800080\"> 'hysterical-grasshopper'</span> - Saving splits\n",
       "</pre>\n"
      ],
      "text/plain": [
       "15:45:54.013 | \u001b[36mINFO\u001b[0m    | Flow run\u001b[35m 'hysterical-grasshopper'\u001b[0m - Saving splits\n"
      ]
     },
     "metadata": {},
     "output_type": "display_data"
    },
    {
     "data": {
      "text/html": [
       "<pre style=\"white-space:pre;overflow-x:auto;line-height:normal;font-family:Menlo,'DejaVu Sans Mono',consolas,'Courier New',monospace\">15:45:54.380 | <span style=\"color: #008080; text-decoration-color: #008080\">INFO</span>    | Flow run<span style=\"color: #800080; text-decoration-color: #800080\"> 'hysterical-grasshopper'</span> - Finished in state <span style=\"color: #008000; text-decoration-color: #008000\">Completed</span>()\n",
       "</pre>\n"
      ],
      "text/plain": [
       "15:45:54.380 | \u001b[36mINFO\u001b[0m    | Flow run\u001b[35m 'hysterical-grasshopper'\u001b[0m - Finished in state \u001b[32mCompleted\u001b[0m()\n"
      ]
     },
     "metadata": {},
     "output_type": "display_data"
    },
    {
     "data": {
      "text/html": [
       "<pre style=\"white-space:pre;overflow-x:auto;line-height:normal;font-family:Menlo,'DejaVu Sans Mono',consolas,'Courier New',monospace\">15:45:54.415 | <span style=\"color: #008080; text-decoration-color: #008080\">INFO</span>    | Flow run<span style=\"color: #800080; text-decoration-color: #800080\"> 'garrulous-sambar'</span> - Created subflow run<span style=\"color: #800080; text-decoration-color: #800080\"> 'dazzling-aardwolf'</span> for flow<span style=\"color: #800080; text-decoration-color: #800080; font-weight: bold\"> 'train-model'</span>\n",
       "</pre>\n"
      ],
      "text/plain": [
       "15:45:54.415 | \u001b[36mINFO\u001b[0m    | Flow run\u001b[35m 'garrulous-sambar'\u001b[0m - Created subflow run\u001b[35m 'dazzling-aardwolf'\u001b[0m for flow\u001b[1;35m 'train-model'\u001b[0m\n"
      ]
     },
     "metadata": {},
     "output_type": "display_data"
    },
    {
     "data": {
      "text/html": [
       "<pre style=\"white-space:pre;overflow-x:auto;line-height:normal;font-family:Menlo,'DejaVu Sans Mono',consolas,'Courier New',monospace\">15:45:54.436 | <span style=\"color: #008080; text-decoration-color: #008080\">INFO</span>    | Flow run<span style=\"color: #800080; text-decoration-color: #800080\"> 'dazzling-aardwolf'</span> - Training XGBoost classifier\n",
       "</pre>\n"
      ],
      "text/plain": [
       "15:45:54.436 | \u001b[36mINFO\u001b[0m    | Flow run\u001b[35m 'dazzling-aardwolf'\u001b[0m - Training XGBoost classifier\n"
      ]
     },
     "metadata": {},
     "output_type": "display_data"
    },
    {
     "name": "stderr",
     "output_type": "stream",
     "text": [
      "2023/10/08 15:45:55 WARNING mlflow.sklearn: Failed to infer model signature: ('Expected one of the following types:\\n- pandas.DataFrame\\n- pandas.Series\\n- numpy.ndarray\\n- dictionary of (name -> numpy.ndarray)\\n- pyspark.sql.DataFrame\\n', \"- scipy.sparse.csr_matrix\\n- scipy.sparse.csc_matrix\\n- str\\n- List[str]\\n- List[Dict[str, Union[str, List[str]]]]\\n- Dict[str, Union[str, List[str]]]\\n- bytes\\nbut got '<class 'polars.dataframe.frame.DataFrame'>'\")\n",
      "2023/10/08 15:45:55 WARNING mlflow.utils.autologging_utils: MLflow autologging encountered a warning: \"/Users/zacklarsen/mambaforge/envs/wids2020/lib/python3.10/site-packages/xgboost/core.py:160: UserWarning: [15:45:55] WARNING: /Users/runner/work/xgboost/xgboost/src/c_api/c_api.cc:1240: Saving into deprecated binary model format, please consider using `json` or `ubj`. Model format will default to JSON in XGBoost 2.2 if not specified.\"\n",
      "Successfully registered model 'XGBoost.json'.\n",
      "2023/10/08 15:45:56 INFO mlflow.tracking._model_registry.client: Waiting up to 300 seconds for model version to finish creation. Model name: XGBoost.json, version 1\n",
      "Created version '1' of model 'XGBoost.json'.\n"
     ]
    },
    {
     "data": {
      "text/html": [
       "<pre style=\"white-space:pre;overflow-x:auto;line-height:normal;font-family:Menlo,'DejaVu Sans Mono',consolas,'Courier New',monospace\">15:45:56.519 | <span style=\"color: #008080; text-decoration-color: #008080\">INFO</span>    | Flow run<span style=\"color: #800080; text-decoration-color: #800080\"> 'dazzling-aardwolf'</span> - Finished in state <span style=\"color: #008000; text-decoration-color: #008000\">Completed</span>()\n",
       "</pre>\n"
      ],
      "text/plain": [
       "15:45:56.519 | \u001b[36mINFO\u001b[0m    | Flow run\u001b[35m 'dazzling-aardwolf'\u001b[0m - Finished in state \u001b[32mCompleted\u001b[0m()\n"
      ]
     },
     "metadata": {},
     "output_type": "display_data"
    },
    {
     "data": {
      "text/html": [
       "<pre style=\"white-space:pre;overflow-x:auto;line-height:normal;font-family:Menlo,'DejaVu Sans Mono',consolas,'Courier New',monospace\">15:45:56.567 | <span style=\"color: #008080; text-decoration-color: #008080\">INFO</span>    | Flow run<span style=\"color: #800080; text-decoration-color: #800080\"> 'garrulous-sambar'</span> - Created subflow run<span style=\"color: #800080; text-decoration-color: #800080\"> 'soft-whippet'</span> for flow<span style=\"color: #800080; text-decoration-color: #800080; font-weight: bold\"> 'predict'</span>\n",
       "</pre>\n"
      ],
      "text/plain": [
       "15:45:56.567 | \u001b[36mINFO\u001b[0m    | Flow run\u001b[35m 'garrulous-sambar'\u001b[0m - Created subflow run\u001b[35m 'soft-whippet'\u001b[0m for flow\u001b[1;35m 'predict'\u001b[0m\n"
      ]
     },
     "metadata": {},
     "output_type": "display_data"
    },
    {
     "data": {
      "text/html": [
       "<pre style=\"white-space:pre;overflow-x:auto;line-height:normal;font-family:Menlo,'DejaVu Sans Mono',consolas,'Courier New',monospace\">15:45:56.587 | <span style=\"color: #008080; text-decoration-color: #008080\">INFO</span>    | Flow run<span style=\"color: #800080; text-decoration-color: #800080\"> 'soft-whippet'</span> - Predicting on test data\n",
       "</pre>\n"
      ],
      "text/plain": [
       "15:45:56.587 | \u001b[36mINFO\u001b[0m    | Flow run\u001b[35m 'soft-whippet'\u001b[0m - Predicting on test data\n"
      ]
     },
     "metadata": {},
     "output_type": "display_data"
    },
    {
     "name": "stderr",
     "output_type": "stream",
     "text": [
      "2023/10/08 15:45:56 WARNING mlflow.sklearn: Unrecognized dataset type <class 'polars.dataframe.frame.DataFrame'>. Dataset logging skipped.\n"
     ]
    },
    {
     "data": {
      "text/html": [
       "<pre style=\"white-space:pre;overflow-x:auto;line-height:normal;font-family:Menlo,'DejaVu Sans Mono',consolas,'Courier New',monospace\">15:45:56.622 | <span style=\"color: #008080; text-decoration-color: #008080\">INFO</span>    | Flow run<span style=\"color: #800080; text-decoration-color: #800080\"> 'soft-whippet'</span> - Finished in state <span style=\"color: #008000; text-decoration-color: #008000\">Completed</span>()\n",
       "</pre>\n"
      ],
      "text/plain": [
       "15:45:56.622 | \u001b[36mINFO\u001b[0m    | Flow run\u001b[35m 'soft-whippet'\u001b[0m - Finished in state \u001b[32mCompleted\u001b[0m()\n"
      ]
     },
     "metadata": {},
     "output_type": "display_data"
    },
    {
     "data": {
      "text/html": [
       "<pre style=\"white-space:pre;overflow-x:auto;line-height:normal;font-family:Menlo,'DejaVu Sans Mono',consolas,'Courier New',monospace\">15:45:56.662 | <span style=\"color: #008080; text-decoration-color: #008080\">INFO</span>    | Flow run<span style=\"color: #800080; text-decoration-color: #800080\"> 'garrulous-sambar'</span> - Created subflow run<span style=\"color: #800080; text-decoration-color: #800080\"> 'pastoral-spoonbill'</span> for flow<span style=\"color: #800080; text-decoration-color: #800080; font-weight: bold\"> 'evaluate-model'</span>\n",
       "</pre>\n"
      ],
      "text/plain": [
       "15:45:56.662 | \u001b[36mINFO\u001b[0m    | Flow run\u001b[35m 'garrulous-sambar'\u001b[0m - Created subflow run\u001b[35m 'pastoral-spoonbill'\u001b[0m for flow\u001b[1;35m 'evaluate-model'\u001b[0m\n"
      ]
     },
     "metadata": {},
     "output_type": "display_data"
    },
    {
     "data": {
      "text/html": [
       "<pre style=\"white-space:pre;overflow-x:auto;line-height:normal;font-family:Menlo,'DejaVu Sans Mono',consolas,'Courier New',monospace\">15:45:56.686 | <span style=\"color: #008080; text-decoration-color: #008080\">INFO</span>    | Flow run<span style=\"color: #800080; text-decoration-color: #800080\"> 'pastoral-spoonbill'</span> - Evaluating model performance\n",
       "</pre>\n"
      ],
      "text/plain": [
       "15:45:56.686 | \u001b[36mINFO\u001b[0m    | Flow run\u001b[35m 'pastoral-spoonbill'\u001b[0m - Evaluating model performance\n"
      ]
     },
     "metadata": {},
     "output_type": "display_data"
    },
    {
     "data": {
      "text/html": [
       "<pre style=\"white-space:pre;overflow-x:auto;line-height:normal;font-family:Menlo,'DejaVu Sans Mono',consolas,'Courier New',monospace\">15:45:56.721 | <span style=\"color: #008080; text-decoration-color: #008080\">INFO</span>    | Flow run<span style=\"color: #800080; text-decoration-color: #800080\"> 'pastoral-spoonbill'</span> - Finished in state <span style=\"color: #008000; text-decoration-color: #008000\">Completed</span>()\n",
       "</pre>\n"
      ],
      "text/plain": [
       "15:45:56.721 | \u001b[36mINFO\u001b[0m    | Flow run\u001b[35m 'pastoral-spoonbill'\u001b[0m - Finished in state \u001b[32mCompleted\u001b[0m()\n"
      ]
     },
     "metadata": {},
     "output_type": "display_data"
    },
    {
     "data": {
      "text/html": [
       "<pre style=\"white-space:pre;overflow-x:auto;line-height:normal;font-family:Menlo,'DejaVu Sans Mono',consolas,'Courier New',monospace\">15:45:56.736 | <span style=\"color: #008080; text-decoration-color: #008080\">INFO</span>    | Flow run<span style=\"color: #800080; text-decoration-color: #800080\"> 'garrulous-sambar'</span> - Finished in state <span style=\"color: #008000; text-decoration-color: #008000\">Completed</span>()\n",
       "</pre>\n"
      ],
      "text/plain": [
       "15:45:56.736 | \u001b[36mINFO\u001b[0m    | Flow run\u001b[35m 'garrulous-sambar'\u001b[0m - Finished in state \u001b[32mCompleted\u001b[0m()\n"
      ]
     },
     "metadata": {},
     "output_type": "display_data"
    }
   ],
   "source": [
    "# Run the flow\n",
    "result = flow_instance(training_v2_path)"
   ]
  },
  {
   "cell_type": "code",
   "execution_count": 6,
   "metadata": {},
   "outputs": [
    {
     "name": "stdout",
     "output_type": "stream",
     "text": [
      "Mean Age: 62.3095\n",
      "Accuracy: 0.9128\n",
      "Precision: 0.3243\n",
      "Recall: 0.0076\n",
      "F1 score: 0.0148\n",
      "ROC AUC score: 0.5030\n"
     ]
    }
   ],
   "source": [
    "print(f\"Mean Age: {result['mean_age']:.4f}\")\n",
    "\n",
    "print(f\"Accuracy: {result['accuracy']:.4f}\")\n",
    "print(f\"Precision: {result['precision']:.4f}\")\n",
    "print(f\"Recall: {result['recall']:.4f}\")\n",
    "print(f\"F1 score: {result['f1']:.4f}\")\n",
    "print(f\"ROC AUC score: {result['roc_auc']:.4f}\")"
   ]
  },
  {
   "cell_type": "code",
   "execution_count": null,
   "metadata": {},
   "outputs": [],
   "source": []
  }
 ],
 "metadata": {
  "kernelspec": {
   "display_name": "wids2020",
   "language": "python",
   "name": "python3"
  },
  "language_info": {
   "codemirror_mode": {
    "name": "ipython",
    "version": 3
   },
   "file_extension": ".py",
   "mimetype": "text/x-python",
   "name": "python",
   "nbconvert_exporter": "python",
   "pygments_lexer": "ipython3",
   "version": "3.8.18"
  },
  "orig_nbformat": 4
 },
 "nbformat": 4,
 "nbformat_minor": 2
}
