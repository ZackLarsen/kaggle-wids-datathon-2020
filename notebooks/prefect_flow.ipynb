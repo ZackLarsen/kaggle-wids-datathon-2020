{
 "cells": [
  {
   "cell_type": "markdown",
   "metadata": {},
   "source": [
    "# MLflow with Prefect"
   ]
  },
  {
   "cell_type": "markdown",
   "metadata": {},
   "source": [
    "To view the results of this run, go to either the MLflow UI or the mlflow.ipynb notebook.\n",
    "\n",
    "To run the MLflow UI, run the following command in your terminal (make sure to activate the wids2020 environment first):\n",
    "\n",
    "```bash\n",
    "mlflow ui\n",
    "```"
   ]
  },
  {
   "cell_type": "code",
   "execution_count": 1,
   "metadata": {},
   "outputs": [],
   "source": [
    "import sys\n",
    "from pathlib import Path\n",
    "import mlflow\n",
    "import mlflow.sklearn\n",
    "import mlflow.xgboost\n",
    "\n",
    "sys.path.append('/Users/zacklarsen/Documents/Projects/kaggle-wids-datathon-2020/')\n",
    "sys.path.append('/Users/zacklarsen/Documents/Projects/kaggle-wids-datathon-2020/src/')\n",
    "\n",
    "from kaggle_prefect_flow import prep_workflow"
   ]
  },
  {
   "cell_type": "code",
   "execution_count": 2,
   "metadata": {},
   "outputs": [],
   "source": [
    "mlflow.xgboost.autolog()\n",
    "#mlflow.sklearn.autolog()"
   ]
  },
  {
   "cell_type": "code",
   "execution_count": 3,
   "metadata": {},
   "outputs": [],
   "source": [
    "data_path = Path(\"/Users/zacklarsen/Documents/Projects/kaggle-wids-datathon-2020/data/\")\n",
    "train_path = Path(data_path, \"train.parquet\")"
   ]
  },
  {
   "cell_type": "code",
   "execution_count": 4,
   "metadata": {},
   "outputs": [],
   "source": [
    "# Assign the flow to a variable\n",
    "flow_instance = prep_workflow"
   ]
  },
  {
   "cell_type": "code",
   "execution_count": 5,
   "metadata": {},
   "outputs": [
    {
     "data": {
      "text/html": [
       "<pre style=\"white-space:pre;overflow-x:auto;line-height:normal;font-family:Menlo,'DejaVu Sans Mono',consolas,'Courier New',monospace\">11:34:25.992 | <span style=\"color: #008080; text-decoration-color: #008080\">INFO</span>    | prefect.engine - Created flow run<span style=\"color: #800080; text-decoration-color: #800080\"> 'meteoric-termite'</span> for flow<span style=\"color: #800080; text-decoration-color: #800080; font-weight: bold\"> 'prep-workflow'</span>\n",
       "</pre>\n"
      ],
      "text/plain": [
       "11:34:25.992 | \u001b[36mINFO\u001b[0m    | prefect.engine - Created flow run\u001b[35m 'meteoric-termite'\u001b[0m for flow\u001b[1;35m 'prep-workflow'\u001b[0m\n"
      ]
     },
     "metadata": {},
     "output_type": "display_data"
    },
    {
     "data": {
      "text/html": [
       "<pre style=\"white-space:pre;overflow-x:auto;line-height:normal;font-family:Menlo,'DejaVu Sans Mono',consolas,'Courier New',monospace\">11:34:26.055 | <span style=\"color: #008080; text-decoration-color: #008080\">INFO</span>    | Flow run<span style=\"color: #800080; text-decoration-color: #800080\"> 'meteoric-termite'</span> - Created subflow run<span style=\"color: #800080; text-decoration-color: #800080\"> 'pastel-goat'</span> for flow<span style=\"color: #800080; text-decoration-color: #800080; font-weight: bold\"> 'ingest'</span>\n",
       "</pre>\n"
      ],
      "text/plain": [
       "11:34:26.055 | \u001b[36mINFO\u001b[0m    | Flow run\u001b[35m 'meteoric-termite'\u001b[0m - Created subflow run\u001b[35m 'pastel-goat'\u001b[0m for flow\u001b[1;35m 'ingest'\u001b[0m\n"
      ]
     },
     "metadata": {},
     "output_type": "display_data"
    },
    {
     "data": {
      "text/html": [
       "<pre style=\"white-space:pre;overflow-x:auto;line-height:normal;font-family:Menlo,'DejaVu Sans Mono',consolas,'Courier New',monospace\">11:34:26.112 | <span style=\"color: #008080; text-decoration-color: #008080\">INFO</span>    | Flow run<span style=\"color: #800080; text-decoration-color: #800080\"> 'pastel-goat'</span> - Data ingested\n",
       "</pre>\n"
      ],
      "text/plain": [
       "11:34:26.112 | \u001b[36mINFO\u001b[0m    | Flow run\u001b[35m 'pastel-goat'\u001b[0m - Data ingested\n"
      ]
     },
     "metadata": {},
     "output_type": "display_data"
    },
    {
     "data": {
      "text/html": [
       "<pre style=\"white-space:pre;overflow-x:auto;line-height:normal;font-family:Menlo,'DejaVu Sans Mono',consolas,'Courier New',monospace\">11:34:26.137 | <span style=\"color: #008080; text-decoration-color: #008080\">INFO</span>    | Flow run<span style=\"color: #800080; text-decoration-color: #800080\"> 'pastel-goat'</span> - Finished in state <span style=\"color: #008000; text-decoration-color: #008000\">Completed</span>()\n",
       "</pre>\n"
      ],
      "text/plain": [
       "11:34:26.137 | \u001b[36mINFO\u001b[0m    | Flow run\u001b[35m 'pastel-goat'\u001b[0m - Finished in state \u001b[32mCompleted\u001b[0m()\n"
      ]
     },
     "metadata": {},
     "output_type": "display_data"
    },
    {
     "data": {
      "text/html": [
       "<pre style=\"white-space:pre;overflow-x:auto;line-height:normal;font-family:Menlo,'DejaVu Sans Mono',consolas,'Courier New',monospace\">11:34:26.180 | <span style=\"color: #008080; text-decoration-color: #008080\">INFO</span>    | Flow run<span style=\"color: #800080; text-decoration-color: #800080\"> 'meteoric-termite'</span> - Created subflow run<span style=\"color: #800080; text-decoration-color: #800080\"> 'ivory-raptor'</span> for flow<span style=\"color: #800080; text-decoration-color: #800080; font-weight: bold\"> 'calc-mean-age'</span>\n",
       "</pre>\n"
      ],
      "text/plain": [
       "11:34:26.180 | \u001b[36mINFO\u001b[0m    | Flow run\u001b[35m 'meteoric-termite'\u001b[0m - Created subflow run\u001b[35m 'ivory-raptor'\u001b[0m for flow\u001b[1;35m 'calc-mean-age'\u001b[0m\n"
      ]
     },
     "metadata": {},
     "output_type": "display_data"
    },
    {
     "data": {
      "text/html": [
       "<pre style=\"white-space:pre;overflow-x:auto;line-height:normal;font-family:Menlo,'DejaVu Sans Mono',consolas,'Courier New',monospace\">11:34:26.201 | <span style=\"color: #008080; text-decoration-color: #008080\">INFO</span>    | Flow run<span style=\"color: #800080; text-decoration-color: #800080\"> 'ivory-raptor'</span> - Mean age calculated as: 62.309515917014345\n",
       "</pre>\n"
      ],
      "text/plain": [
       "11:34:26.201 | \u001b[36mINFO\u001b[0m    | Flow run\u001b[35m 'ivory-raptor'\u001b[0m - Mean age calculated as: 62.309515917014345\n"
      ]
     },
     "metadata": {},
     "output_type": "display_data"
    },
    {
     "data": {
      "text/html": [
       "<pre style=\"white-space:pre;overflow-x:auto;line-height:normal;font-family:Menlo,'DejaVu Sans Mono',consolas,'Courier New',monospace\">11:34:26.220 | <span style=\"color: #008080; text-decoration-color: #008080\">INFO</span>    | Flow run<span style=\"color: #800080; text-decoration-color: #800080\"> 'ivory-raptor'</span> - Finished in state <span style=\"color: #008000; text-decoration-color: #008000\">Completed</span>()\n",
       "</pre>\n"
      ],
      "text/plain": [
       "11:34:26.220 | \u001b[36mINFO\u001b[0m    | Flow run\u001b[35m 'ivory-raptor'\u001b[0m - Finished in state \u001b[32mCompleted\u001b[0m()\n"
      ]
     },
     "metadata": {},
     "output_type": "display_data"
    },
    {
     "data": {
      "text/html": [
       "<pre style=\"white-space:pre;overflow-x:auto;line-height:normal;font-family:Menlo,'DejaVu Sans Mono',consolas,'Courier New',monospace\">11:34:26.263 | <span style=\"color: #008080; text-decoration-color: #008080\">INFO</span>    | Flow run<span style=\"color: #800080; text-decoration-color: #800080\"> 'meteoric-termite'</span> - Created subflow run<span style=\"color: #800080; text-decoration-color: #800080\"> 'cautious-finch'</span> for flow<span style=\"color: #800080; text-decoration-color: #800080; font-weight: bold\"> 'split'</span>\n",
       "</pre>\n"
      ],
      "text/plain": [
       "11:34:26.263 | \u001b[36mINFO\u001b[0m    | Flow run\u001b[35m 'meteoric-termite'\u001b[0m - Created subflow run\u001b[35m 'cautious-finch'\u001b[0m for flow\u001b[1;35m 'split'\u001b[0m\n"
      ]
     },
     "metadata": {},
     "output_type": "display_data"
    },
    {
     "data": {
      "text/html": [
       "<pre style=\"white-space:pre;overflow-x:auto;line-height:normal;font-family:Menlo,'DejaVu Sans Mono',consolas,'Courier New',monospace\">11:34:26.283 | <span style=\"color: #008080; text-decoration-color: #008080\">INFO</span>    | Flow run<span style=\"color: #800080; text-decoration-color: #800080\"> 'cautious-finch'</span> - Splitting data into train and test sets\n",
       "</pre>\n"
      ],
      "text/plain": [
       "11:34:26.283 | \u001b[36mINFO\u001b[0m    | Flow run\u001b[35m 'cautious-finch'\u001b[0m - Splitting data into train and test sets\n"
      ]
     },
     "metadata": {},
     "output_type": "display_data"
    },
    {
     "data": {
      "text/html": [
       "<pre style=\"white-space:pre;overflow-x:auto;line-height:normal;font-family:Menlo,'DejaVu Sans Mono',consolas,'Courier New',monospace\">11:34:26.297 | <span style=\"color: #008080; text-decoration-color: #008080\">INFO</span>    | Flow run<span style=\"color: #800080; text-decoration-color: #800080\"> 'cautious-finch'</span> - Size of train set: {X_train.shape}\n",
       "</pre>\n"
      ],
      "text/plain": [
       "11:34:26.297 | \u001b[36mINFO\u001b[0m    | Flow run\u001b[35m 'cautious-finch'\u001b[0m - Size of train set: {X_train.shape}\n"
      ]
     },
     "metadata": {},
     "output_type": "display_data"
    },
    {
     "data": {
      "text/html": [
       "<pre style=\"white-space:pre;overflow-x:auto;line-height:normal;font-family:Menlo,'DejaVu Sans Mono',consolas,'Courier New',monospace\">11:34:26.298 | <span style=\"color: #008080; text-decoration-color: #008080\">INFO</span>    | Flow run<span style=\"color: #800080; text-decoration-color: #800080\"> 'cautious-finch'</span> - Size of test set: {X_test.shape}\n",
       "</pre>\n"
      ],
      "text/plain": [
       "11:34:26.298 | \u001b[36mINFO\u001b[0m    | Flow run\u001b[35m 'cautious-finch'\u001b[0m - Size of test set: {X_test.shape}\n"
      ]
     },
     "metadata": {},
     "output_type": "display_data"
    },
    {
     "data": {
      "text/html": [
       "<pre style=\"white-space:pre;overflow-x:auto;line-height:normal;font-family:Menlo,'DejaVu Sans Mono',consolas,'Courier New',monospace\">11:34:26.323 | <span style=\"color: #008080; text-decoration-color: #008080\">INFO</span>    | Flow run<span style=\"color: #800080; text-decoration-color: #800080\"> 'cautious-finch'</span> - Finished in state <span style=\"color: #008000; text-decoration-color: #008000\">Completed</span>()\n",
       "</pre>\n"
      ],
      "text/plain": [
       "11:34:26.323 | \u001b[36mINFO\u001b[0m    | Flow run\u001b[35m 'cautious-finch'\u001b[0m - Finished in state \u001b[32mCompleted\u001b[0m()\n"
      ]
     },
     "metadata": {},
     "output_type": "display_data"
    },
    {
     "data": {
      "text/html": [
       "<pre style=\"white-space:pre;overflow-x:auto;line-height:normal;font-family:Menlo,'DejaVu Sans Mono',consolas,'Courier New',monospace\">11:34:26.369 | <span style=\"color: #008080; text-decoration-color: #008080\">INFO</span>    | Flow run<span style=\"color: #800080; text-decoration-color: #800080\"> 'meteoric-termite'</span> - Created subflow run<span style=\"color: #800080; text-decoration-color: #800080\"> 'fluorescent-gharial'</span> for flow<span style=\"color: #800080; text-decoration-color: #800080; font-weight: bold\"> 'save-splits'</span>\n",
       "</pre>\n"
      ],
      "text/plain": [
       "11:34:26.369 | \u001b[36mINFO\u001b[0m    | Flow run\u001b[35m 'meteoric-termite'\u001b[0m - Created subflow run\u001b[35m 'fluorescent-gharial'\u001b[0m for flow\u001b[1;35m 'save-splits'\u001b[0m\n"
      ]
     },
     "metadata": {},
     "output_type": "display_data"
    },
    {
     "data": {
      "text/html": [
       "<pre style=\"white-space:pre;overflow-x:auto;line-height:normal;font-family:Menlo,'DejaVu Sans Mono',consolas,'Courier New',monospace\">11:34:26.387 | <span style=\"color: #008080; text-decoration-color: #008080\">INFO</span>    | Flow run<span style=\"color: #800080; text-decoration-color: #800080\"> 'fluorescent-gharial'</span> - Saving splits\n",
       "</pre>\n"
      ],
      "text/plain": [
       "11:34:26.387 | \u001b[36mINFO\u001b[0m    | Flow run\u001b[35m 'fluorescent-gharial'\u001b[0m - Saving splits\n"
      ]
     },
     "metadata": {},
     "output_type": "display_data"
    },
    {
     "data": {
      "text/html": [
       "<pre style=\"white-space:pre;overflow-x:auto;line-height:normal;font-family:Menlo,'DejaVu Sans Mono',consolas,'Courier New',monospace\">11:34:26.705 | <span style=\"color: #008080; text-decoration-color: #008080\">INFO</span>    | Flow run<span style=\"color: #800080; text-decoration-color: #800080\"> 'fluorescent-gharial'</span> - Finished in state <span style=\"color: #008000; text-decoration-color: #008000\">Completed</span>()\n",
       "</pre>\n"
      ],
      "text/plain": [
       "11:34:26.705 | \u001b[36mINFO\u001b[0m    | Flow run\u001b[35m 'fluorescent-gharial'\u001b[0m - Finished in state \u001b[32mCompleted\u001b[0m()\n"
      ]
     },
     "metadata": {},
     "output_type": "display_data"
    },
    {
     "data": {
      "text/html": [
       "<pre style=\"white-space:pre;overflow-x:auto;line-height:normal;font-family:Menlo,'DejaVu Sans Mono',consolas,'Courier New',monospace\">11:34:26.744 | <span style=\"color: #008080; text-decoration-color: #008080\">INFO</span>    | Flow run<span style=\"color: #800080; text-decoration-color: #800080\"> 'meteoric-termite'</span> - Created subflow run<span style=\"color: #800080; text-decoration-color: #800080\"> 'enigmatic-marten'</span> for flow<span style=\"color: #800080; text-decoration-color: #800080; font-weight: bold\"> 'train-model'</span>\n",
       "</pre>\n"
      ],
      "text/plain": [
       "11:34:26.744 | \u001b[36mINFO\u001b[0m    | Flow run\u001b[35m 'meteoric-termite'\u001b[0m - Created subflow run\u001b[35m 'enigmatic-marten'\u001b[0m for flow\u001b[1;35m 'train-model'\u001b[0m\n"
      ]
     },
     "metadata": {},
     "output_type": "display_data"
    },
    {
     "data": {
      "text/html": [
       "<pre style=\"white-space:pre;overflow-x:auto;line-height:normal;font-family:Menlo,'DejaVu Sans Mono',consolas,'Courier New',monospace\">11:34:26.763 | <span style=\"color: #008080; text-decoration-color: #008080\">INFO</span>    | Flow run<span style=\"color: #800080; text-decoration-color: #800080\"> 'enigmatic-marten'</span> - Training XGBoost classifier\n",
       "</pre>\n"
      ],
      "text/plain": [
       "11:34:26.763 | \u001b[36mINFO\u001b[0m    | Flow run\u001b[35m 'enigmatic-marten'\u001b[0m - Training XGBoost classifier\n"
      ]
     },
     "metadata": {},
     "output_type": "display_data"
    },
    {
     "name": "stderr",
     "output_type": "stream",
     "text": [
      "2023/10/22 11:34:28 WARNING mlflow.sklearn: Failed to infer model signature: ('Expected one of the following types:\\n- pandas.DataFrame\\n- pandas.Series\\n- numpy.ndarray\\n- dictionary of (name -> numpy.ndarray)\\n- pyspark.sql.DataFrame\\n', \"- scipy.sparse.csr_matrix\\n- scipy.sparse.csc_matrix\\n- str\\n- List[str]\\n- List[Dict[str, Union[str, List[str]]]]\\n- Dict[str, Union[str, List[str]]]\\n- bytes\\nbut got '<class 'polars.dataframe.frame.DataFrame'>'\")\n",
      "2023/10/22 11:34:28 WARNING mlflow.utils.autologging_utils: MLflow autologging encountered a warning: \"/Users/zacklarsen/mambaforge/envs/wids2020/lib/python3.10/site-packages/xgboost/core.py:160: UserWarning: [11:34:28] WARNING: /Users/runner/work/xgboost/xgboost/src/c_api/c_api.cc:1240: Saving into deprecated binary model format, please consider using `json` or `ubj`. Model format will default to JSON in XGBoost 2.2 if not specified.\"\n",
      "Registered model 'XGBoost.json' already exists. Creating a new version of this model...\n",
      "2023/10/22 11:34:30 INFO mlflow.tracking._model_registry.client: Waiting up to 300 seconds for model version to finish creation. Model name: XGBoost.json, version 2\n",
      "Created version '2' of model 'XGBoost.json'.\n"
     ]
    },
    {
     "data": {
      "text/html": [
       "<pre style=\"white-space:pre;overflow-x:auto;line-height:normal;font-family:Menlo,'DejaVu Sans Mono',consolas,'Courier New',monospace\">11:34:30.370 | <span style=\"color: #008080; text-decoration-color: #008080\">INFO</span>    | Flow run<span style=\"color: #800080; text-decoration-color: #800080\"> 'enigmatic-marten'</span> - Finished in state <span style=\"color: #008000; text-decoration-color: #008000\">Completed</span>()\n",
       "</pre>\n"
      ],
      "text/plain": [
       "11:34:30.370 | \u001b[36mINFO\u001b[0m    | Flow run\u001b[35m 'enigmatic-marten'\u001b[0m - Finished in state \u001b[32mCompleted\u001b[0m()\n"
      ]
     },
     "metadata": {},
     "output_type": "display_data"
    },
    {
     "data": {
      "text/html": [
       "<pre style=\"white-space:pre;overflow-x:auto;line-height:normal;font-family:Menlo,'DejaVu Sans Mono',consolas,'Courier New',monospace\">11:34:30.408 | <span style=\"color: #008080; text-decoration-color: #008080\">INFO</span>    | Flow run<span style=\"color: #800080; text-decoration-color: #800080\"> 'meteoric-termite'</span> - Created subflow run<span style=\"color: #800080; text-decoration-color: #800080\"> 'exotic-trout'</span> for flow<span style=\"color: #800080; text-decoration-color: #800080; font-weight: bold\"> 'predict'</span>\n",
       "</pre>\n"
      ],
      "text/plain": [
       "11:34:30.408 | \u001b[36mINFO\u001b[0m    | Flow run\u001b[35m 'meteoric-termite'\u001b[0m - Created subflow run\u001b[35m 'exotic-trout'\u001b[0m for flow\u001b[1;35m 'predict'\u001b[0m\n"
      ]
     },
     "metadata": {},
     "output_type": "display_data"
    },
    {
     "data": {
      "text/html": [
       "<pre style=\"white-space:pre;overflow-x:auto;line-height:normal;font-family:Menlo,'DejaVu Sans Mono',consolas,'Courier New',monospace\">11:34:30.428 | <span style=\"color: #008080; text-decoration-color: #008080\">INFO</span>    | Flow run<span style=\"color: #800080; text-decoration-color: #800080\"> 'exotic-trout'</span> - Predicting on test data\n",
       "</pre>\n"
      ],
      "text/plain": [
       "11:34:30.428 | \u001b[36mINFO\u001b[0m    | Flow run\u001b[35m 'exotic-trout'\u001b[0m - Predicting on test data\n"
      ]
     },
     "metadata": {},
     "output_type": "display_data"
    },
    {
     "name": "stderr",
     "output_type": "stream",
     "text": [
      "2023/10/22 11:34:30 WARNING mlflow.sklearn: Unrecognized dataset type <class 'polars.dataframe.frame.DataFrame'>. Dataset logging skipped.\n"
     ]
    },
    {
     "data": {
      "text/html": [
       "<pre style=\"white-space:pre;overflow-x:auto;line-height:normal;font-family:Menlo,'DejaVu Sans Mono',consolas,'Courier New',monospace\">11:34:30.482 | <span style=\"color: #008080; text-decoration-color: #008080\">INFO</span>    | Flow run<span style=\"color: #800080; text-decoration-color: #800080\"> 'exotic-trout'</span> - Finished in state <span style=\"color: #008000; text-decoration-color: #008000\">Completed</span>()\n",
       "</pre>\n"
      ],
      "text/plain": [
       "11:34:30.482 | \u001b[36mINFO\u001b[0m    | Flow run\u001b[35m 'exotic-trout'\u001b[0m - Finished in state \u001b[32mCompleted\u001b[0m()\n"
      ]
     },
     "metadata": {},
     "output_type": "display_data"
    },
    {
     "data": {
      "text/html": [
       "<pre style=\"white-space:pre;overflow-x:auto;line-height:normal;font-family:Menlo,'DejaVu Sans Mono',consolas,'Courier New',monospace\">11:34:30.522 | <span style=\"color: #008080; text-decoration-color: #008080\">INFO</span>    | Flow run<span style=\"color: #800080; text-decoration-color: #800080\"> 'meteoric-termite'</span> - Created subflow run<span style=\"color: #800080; text-decoration-color: #800080\"> 'wild-bandicoot'</span> for flow<span style=\"color: #800080; text-decoration-color: #800080; font-weight: bold\"> 'evaluate-model'</span>\n",
       "</pre>\n"
      ],
      "text/plain": [
       "11:34:30.522 | \u001b[36mINFO\u001b[0m    | Flow run\u001b[35m 'meteoric-termite'\u001b[0m - Created subflow run\u001b[35m 'wild-bandicoot'\u001b[0m for flow\u001b[1;35m 'evaluate-model'\u001b[0m\n"
      ]
     },
     "metadata": {},
     "output_type": "display_data"
    },
    {
     "data": {
      "text/html": [
       "<pre style=\"white-space:pre;overflow-x:auto;line-height:normal;font-family:Menlo,'DejaVu Sans Mono',consolas,'Courier New',monospace\">11:34:30.545 | <span style=\"color: #008080; text-decoration-color: #008080\">INFO</span>    | Flow run<span style=\"color: #800080; text-decoration-color: #800080\"> 'wild-bandicoot'</span> - Evaluating model performance\n",
       "</pre>\n"
      ],
      "text/plain": [
       "11:34:30.545 | \u001b[36mINFO\u001b[0m    | Flow run\u001b[35m 'wild-bandicoot'\u001b[0m - Evaluating model performance\n"
      ]
     },
     "metadata": {},
     "output_type": "display_data"
    },
    {
     "data": {
      "text/html": [
       "<pre style=\"white-space:pre;overflow-x:auto;line-height:normal;font-family:Menlo,'DejaVu Sans Mono',consolas,'Courier New',monospace\">11:34:30.581 | <span style=\"color: #008080; text-decoration-color: #008080\">INFO</span>    | Flow run<span style=\"color: #800080; text-decoration-color: #800080\"> 'wild-bandicoot'</span> - Finished in state <span style=\"color: #008000; text-decoration-color: #008000\">Completed</span>()\n",
       "</pre>\n"
      ],
      "text/plain": [
       "11:34:30.581 | \u001b[36mINFO\u001b[0m    | Flow run\u001b[35m 'wild-bandicoot'\u001b[0m - Finished in state \u001b[32mCompleted\u001b[0m()\n"
      ]
     },
     "metadata": {},
     "output_type": "display_data"
    },
    {
     "data": {
      "text/html": [
       "<pre style=\"white-space:pre;overflow-x:auto;line-height:normal;font-family:Menlo,'DejaVu Sans Mono',consolas,'Courier New',monospace\">11:34:30.596 | <span style=\"color: #008080; text-decoration-color: #008080\">INFO</span>    | Flow run<span style=\"color: #800080; text-decoration-color: #800080\"> 'meteoric-termite'</span> - Finished in state <span style=\"color: #008000; text-decoration-color: #008000\">Completed</span>()\n",
       "</pre>\n"
      ],
      "text/plain": [
       "11:34:30.596 | \u001b[36mINFO\u001b[0m    | Flow run\u001b[35m 'meteoric-termite'\u001b[0m - Finished in state \u001b[32mCompleted\u001b[0m()\n"
      ]
     },
     "metadata": {},
     "output_type": "display_data"
    }
   ],
   "source": [
    "# Run the flow\n",
    "result = flow_instance(train_path)"
   ]
  },
  {
   "cell_type": "code",
   "execution_count": 6,
   "metadata": {},
   "outputs": [
    {
     "name": "stdout",
     "output_type": "stream",
     "text": [
      "Mean Age: 62.3095\n",
      "Accuracy: 0.9281\n",
      "Precision: 0.6520\n",
      "Recall: 0.3636\n",
      "F1 score: 0.4668\n",
      "ROC AUC score: 0.6726\n"
     ]
    }
   ],
   "source": [
    "print(f\"Mean Age: {result['mean_age']:.4f}\")\n",
    "\n",
    "print(f\"Accuracy: {result['accuracy']:.4f}\")\n",
    "print(f\"Precision: {result['precision']:.4f}\")\n",
    "print(f\"Recall: {result['recall']:.4f}\")\n",
    "print(f\"F1 score: {result['f1']:.4f}\")\n",
    "print(f\"ROC AUC score: {result['roc_auc']:.4f}\")"
   ]
  },
  {
   "cell_type": "code",
   "execution_count": null,
   "metadata": {},
   "outputs": [],
   "source": []
  }
 ],
 "metadata": {
  "kernelspec": {
   "display_name": "wids2020",
   "language": "python",
   "name": "python3"
  },
  "language_info": {
   "codemirror_mode": {
    "name": "ipython",
    "version": 3
   },
   "file_extension": ".py",
   "mimetype": "text/x-python",
   "name": "python",
   "nbconvert_exporter": "python",
   "pygments_lexer": "ipython3",
   "version": "3.10.13"
  },
  "orig_nbformat": 4
 },
 "nbformat": 4,
 "nbformat_minor": 2
}
