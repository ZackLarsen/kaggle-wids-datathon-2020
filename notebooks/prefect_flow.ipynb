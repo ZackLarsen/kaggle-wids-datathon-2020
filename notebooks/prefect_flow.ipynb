{
 "cells": [
  {
   "cell_type": "code",
   "execution_count": 13,
   "metadata": {},
   "outputs": [],
   "source": [
    "import sys\n",
    "from pathlib import Path\n",
    "\n",
    "sys.path.append('/Users/zacklarsen/Documents/Projects/kaggle-wids-datathon-2020/')\n",
    "\n",
    "from kaggle_prefect_flow import prep_workflow"
   ]
  },
  {
   "cell_type": "code",
   "execution_count": 14,
   "metadata": {},
   "outputs": [],
   "source": [
    "data_path = \"/Users/zacklarsen/Documents/Projects/kaggle-wids-datathon-2020/data/\"\n",
    "training_v2_path = Path(data_path, \"training_v2.csv\")"
   ]
  },
  {
   "cell_type": "code",
   "execution_count": 15,
   "metadata": {},
   "outputs": [],
   "source": [
    "# Assign the flow to a variable\n",
    "flow_instance = prep_workflow"
   ]
  },
  {
   "cell_type": "code",
   "execution_count": 16,
   "metadata": {},
   "outputs": [
    {
     "data": {
      "text/html": [
       "<pre style=\"white-space:pre;overflow-x:auto;line-height:normal;font-family:Menlo,'DejaVu Sans Mono',consolas,'Courier New',monospace\">12:00:33.531 | <span style=\"color: #008080; text-decoration-color: #008080\">INFO</span>    | prefect.engine - Created flow run<span style=\"color: #800080; text-decoration-color: #800080\"> 'granite-pegasus'</span> for flow<span style=\"color: #800080; text-decoration-color: #800080; font-weight: bold\"> 'prep-workflow'</span>\n",
       "</pre>\n"
      ],
      "text/plain": [
       "12:00:33.531 | \u001b[36mINFO\u001b[0m    | prefect.engine - Created flow run\u001b[35m 'granite-pegasus'\u001b[0m for flow\u001b[1;35m 'prep-workflow'\u001b[0m\n"
      ]
     },
     "metadata": {},
     "output_type": "display_data"
    },
    {
     "data": {
      "text/html": [
       "<pre style=\"white-space:pre;overflow-x:auto;line-height:normal;font-family:Menlo,'DejaVu Sans Mono',consolas,'Courier New',monospace\">12:00:33.589 | <span style=\"color: #008080; text-decoration-color: #008080\">INFO</span>    | Flow run<span style=\"color: #800080; text-decoration-color: #800080\"> 'granite-pegasus'</span> - Created subflow run<span style=\"color: #800080; text-decoration-color: #800080\"> 'observant-ostrich'</span> for flow<span style=\"color: #800080; text-decoration-color: #800080; font-weight: bold\"> 'ingest'</span>\n",
       "</pre>\n"
      ],
      "text/plain": [
       "12:00:33.589 | \u001b[36mINFO\u001b[0m    | Flow run\u001b[35m 'granite-pegasus'\u001b[0m - Created subflow run\u001b[35m 'observant-ostrich'\u001b[0m for flow\u001b[1;35m 'ingest'\u001b[0m\n"
      ]
     },
     "metadata": {},
     "output_type": "display_data"
    },
    {
     "data": {
      "text/html": [
       "<pre style=\"white-space:pre;overflow-x:auto;line-height:normal;font-family:Menlo,'DejaVu Sans Mono',consolas,'Courier New',monospace\">12:00:33.896 | <span style=\"color: #008080; text-decoration-color: #008080\">INFO</span>    | Flow run<span style=\"color: #800080; text-decoration-color: #800080\"> 'observant-ostrich'</span> - Data ingested\n",
       "</pre>\n"
      ],
      "text/plain": [
       "12:00:33.896 | \u001b[36mINFO\u001b[0m    | Flow run\u001b[35m 'observant-ostrich'\u001b[0m - Data ingested\n"
      ]
     },
     "metadata": {},
     "output_type": "display_data"
    },
    {
     "data": {
      "text/html": [
       "<pre style=\"white-space:pre;overflow-x:auto;line-height:normal;font-family:Menlo,'DejaVu Sans Mono',consolas,'Courier New',monospace\">12:00:33.928 | <span style=\"color: #008080; text-decoration-color: #008080\">INFO</span>    | Flow run<span style=\"color: #800080; text-decoration-color: #800080\"> 'observant-ostrich'</span> - Finished in state <span style=\"color: #008000; text-decoration-color: #008000\">Completed</span>()\n",
       "</pre>\n"
      ],
      "text/plain": [
       "12:00:33.928 | \u001b[36mINFO\u001b[0m    | Flow run\u001b[35m 'observant-ostrich'\u001b[0m - Finished in state \u001b[32mCompleted\u001b[0m()\n"
      ]
     },
     "metadata": {},
     "output_type": "display_data"
    },
    {
     "data": {
      "text/html": [
       "<pre style=\"white-space:pre;overflow-x:auto;line-height:normal;font-family:Menlo,'DejaVu Sans Mono',consolas,'Courier New',monospace\">12:00:33.969 | <span style=\"color: #008080; text-decoration-color: #008080\">INFO</span>    | Flow run<span style=\"color: #800080; text-decoration-color: #800080\"> 'granite-pegasus'</span> - Created subflow run<span style=\"color: #800080; text-decoration-color: #800080\"> 'kind-koala'</span> for flow<span style=\"color: #800080; text-decoration-color: #800080; font-weight: bold\"> 'calc-mean-age'</span>\n",
       "</pre>\n"
      ],
      "text/plain": [
       "12:00:33.969 | \u001b[36mINFO\u001b[0m    | Flow run\u001b[35m 'granite-pegasus'\u001b[0m - Created subflow run\u001b[35m 'kind-koala'\u001b[0m for flow\u001b[1;35m 'calc-mean-age'\u001b[0m\n"
      ]
     },
     "metadata": {},
     "output_type": "display_data"
    },
    {
     "data": {
      "text/html": [
       "<pre style=\"white-space:pre;overflow-x:auto;line-height:normal;font-family:Menlo,'DejaVu Sans Mono',consolas,'Courier New',monospace\">12:00:33.991 | <span style=\"color: #008080; text-decoration-color: #008080\">INFO</span>    | Flow run<span style=\"color: #800080; text-decoration-color: #800080\"> 'kind-koala'</span> - Mean age calculated as: 62.30951690673828\n",
       "</pre>\n"
      ],
      "text/plain": [
       "12:00:33.991 | \u001b[36mINFO\u001b[0m    | Flow run\u001b[35m 'kind-koala'\u001b[0m - Mean age calculated as: 62.30951690673828\n"
      ]
     },
     "metadata": {},
     "output_type": "display_data"
    },
    {
     "data": {
      "text/html": [
       "<pre style=\"white-space:pre;overflow-x:auto;line-height:normal;font-family:Menlo,'DejaVu Sans Mono',consolas,'Courier New',monospace\">12:00:34.010 | <span style=\"color: #008080; text-decoration-color: #008080\">INFO</span>    | Flow run<span style=\"color: #800080; text-decoration-color: #800080\"> 'kind-koala'</span> - Finished in state <span style=\"color: #008000; text-decoration-color: #008000\">Completed</span>()\n",
       "</pre>\n"
      ],
      "text/plain": [
       "12:00:34.010 | \u001b[36mINFO\u001b[0m    | Flow run\u001b[35m 'kind-koala'\u001b[0m - Finished in state \u001b[32mCompleted\u001b[0m()\n"
      ]
     },
     "metadata": {},
     "output_type": "display_data"
    },
    {
     "data": {
      "text/html": [
       "<pre style=\"white-space:pre;overflow-x:auto;line-height:normal;font-family:Menlo,'DejaVu Sans Mono',consolas,'Courier New',monospace\">12:00:34.048 | <span style=\"color: #008080; text-decoration-color: #008080\">INFO</span>    | Flow run<span style=\"color: #800080; text-decoration-color: #800080\"> 'granite-pegasus'</span> - Created subflow run<span style=\"color: #800080; text-decoration-color: #800080\"> 'peach-kingfisher'</span> for flow<span style=\"color: #800080; text-decoration-color: #800080; font-weight: bold\"> 'split'</span>\n",
       "</pre>\n"
      ],
      "text/plain": [
       "12:00:34.048 | \u001b[36mINFO\u001b[0m    | Flow run\u001b[35m 'granite-pegasus'\u001b[0m - Created subflow run\u001b[35m 'peach-kingfisher'\u001b[0m for flow\u001b[1;35m 'split'\u001b[0m\n"
      ]
     },
     "metadata": {},
     "output_type": "display_data"
    },
    {
     "data": {
      "text/html": [
       "<pre style=\"white-space:pre;overflow-x:auto;line-height:normal;font-family:Menlo,'DejaVu Sans Mono',consolas,'Courier New',monospace\">12:00:34.068 | <span style=\"color: #008080; text-decoration-color: #008080\">INFO</span>    | Flow run<span style=\"color: #800080; text-decoration-color: #800080\"> 'peach-kingfisher'</span> - Splitting data into train and test sets\n",
       "</pre>\n"
      ],
      "text/plain": [
       "12:00:34.068 | \u001b[36mINFO\u001b[0m    | Flow run\u001b[35m 'peach-kingfisher'\u001b[0m - Splitting data into train and test sets\n"
      ]
     },
     "metadata": {},
     "output_type": "display_data"
    },
    {
     "data": {
      "text/html": [
       "<pre style=\"white-space:pre;overflow-x:auto;line-height:normal;font-family:Menlo,'DejaVu Sans Mono',consolas,'Courier New',monospace\">12:00:34.120 | <span style=\"color: #008080; text-decoration-color: #008080\">INFO</span>    | Flow run<span style=\"color: #800080; text-decoration-color: #800080\"> 'peach-kingfisher'</span> - Size of train set: {X_train.shape}\n",
       "</pre>\n"
      ],
      "text/plain": [
       "12:00:34.120 | \u001b[36mINFO\u001b[0m    | Flow run\u001b[35m 'peach-kingfisher'\u001b[0m - Size of train set: {X_train.shape}\n"
      ]
     },
     "metadata": {},
     "output_type": "display_data"
    },
    {
     "data": {
      "text/html": [
       "<pre style=\"white-space:pre;overflow-x:auto;line-height:normal;font-family:Menlo,'DejaVu Sans Mono',consolas,'Courier New',monospace\">12:00:34.121 | <span style=\"color: #008080; text-decoration-color: #008080\">INFO</span>    | Flow run<span style=\"color: #800080; text-decoration-color: #800080\"> 'peach-kingfisher'</span> - Size of test set: {X_test.shape}\n",
       "</pre>\n"
      ],
      "text/plain": [
       "12:00:34.121 | \u001b[36mINFO\u001b[0m    | Flow run\u001b[35m 'peach-kingfisher'\u001b[0m - Size of test set: {X_test.shape}\n"
      ]
     },
     "metadata": {},
     "output_type": "display_data"
    },
    {
     "data": {
      "text/html": [
       "<pre style=\"white-space:pre;overflow-x:auto;line-height:normal;font-family:Menlo,'DejaVu Sans Mono',consolas,'Courier New',monospace\">12:00:34.144 | <span style=\"color: #008080; text-decoration-color: #008080\">INFO</span>    | Flow run<span style=\"color: #800080; text-decoration-color: #800080\"> 'peach-kingfisher'</span> - Finished in state <span style=\"color: #008000; text-decoration-color: #008000\">Completed</span>()\n",
       "</pre>\n"
      ],
      "text/plain": [
       "12:00:34.144 | \u001b[36mINFO\u001b[0m    | Flow run\u001b[35m 'peach-kingfisher'\u001b[0m - Finished in state \u001b[32mCompleted\u001b[0m()\n"
      ]
     },
     "metadata": {},
     "output_type": "display_data"
    },
    {
     "data": {
      "text/html": [
       "<pre style=\"white-space:pre;overflow-x:auto;line-height:normal;font-family:Menlo,'DejaVu Sans Mono',consolas,'Courier New',monospace\">12:00:34.182 | <span style=\"color: #008080; text-decoration-color: #008080\">INFO</span>    | Flow run<span style=\"color: #800080; text-decoration-color: #800080\"> 'granite-pegasus'</span> - Created subflow run<span style=\"color: #800080; text-decoration-color: #800080\"> 'neat-kagu'</span> for flow<span style=\"color: #800080; text-decoration-color: #800080; font-weight: bold\"> 'save-splits'</span>\n",
       "</pre>\n"
      ],
      "text/plain": [
       "12:00:34.182 | \u001b[36mINFO\u001b[0m    | Flow run\u001b[35m 'granite-pegasus'\u001b[0m - Created subflow run\u001b[35m 'neat-kagu'\u001b[0m for flow\u001b[1;35m 'save-splits'\u001b[0m\n"
      ]
     },
     "metadata": {},
     "output_type": "display_data"
    },
    {
     "data": {
      "text/html": [
       "<pre style=\"white-space:pre;overflow-x:auto;line-height:normal;font-family:Menlo,'DejaVu Sans Mono',consolas,'Courier New',monospace\">12:00:34.202 | <span style=\"color: #008080; text-decoration-color: #008080\">INFO</span>    | Flow run<span style=\"color: #800080; text-decoration-color: #800080\"> 'neat-kagu'</span> - Saving splits\n",
       "</pre>\n"
      ],
      "text/plain": [
       "12:00:34.202 | \u001b[36mINFO\u001b[0m    | Flow run\u001b[35m 'neat-kagu'\u001b[0m - Saving splits\n"
      ]
     },
     "metadata": {},
     "output_type": "display_data"
    },
    {
     "data": {
      "text/html": [
       "<pre style=\"white-space:pre;overflow-x:auto;line-height:normal;font-family:Menlo,'DejaVu Sans Mono',consolas,'Courier New',monospace\">12:00:34.570 | <span style=\"color: #008080; text-decoration-color: #008080\">INFO</span>    | Flow run<span style=\"color: #800080; text-decoration-color: #800080\"> 'neat-kagu'</span> - Finished in state <span style=\"color: #008000; text-decoration-color: #008000\">Completed</span>()\n",
       "</pre>\n"
      ],
      "text/plain": [
       "12:00:34.570 | \u001b[36mINFO\u001b[0m    | Flow run\u001b[35m 'neat-kagu'\u001b[0m - Finished in state \u001b[32mCompleted\u001b[0m()\n"
      ]
     },
     "metadata": {},
     "output_type": "display_data"
    },
    {
     "data": {
      "text/html": [
       "<pre style=\"white-space:pre;overflow-x:auto;line-height:normal;font-family:Menlo,'DejaVu Sans Mono',consolas,'Courier New',monospace\">12:00:34.605 | <span style=\"color: #008080; text-decoration-color: #008080\">INFO</span>    | Flow run<span style=\"color: #800080; text-decoration-color: #800080\"> 'granite-pegasus'</span> - Created subflow run<span style=\"color: #800080; text-decoration-color: #800080\"> 'banana-seahorse'</span> for flow<span style=\"color: #800080; text-decoration-color: #800080; font-weight: bold\"> 'train-model'</span>\n",
       "</pre>\n"
      ],
      "text/plain": [
       "12:00:34.605 | \u001b[36mINFO\u001b[0m    | Flow run\u001b[35m 'granite-pegasus'\u001b[0m - Created subflow run\u001b[35m 'banana-seahorse'\u001b[0m for flow\u001b[1;35m 'train-model'\u001b[0m\n"
      ]
     },
     "metadata": {},
     "output_type": "display_data"
    },
    {
     "data": {
      "text/html": [
       "<pre style=\"white-space:pre;overflow-x:auto;line-height:normal;font-family:Menlo,'DejaVu Sans Mono',consolas,'Courier New',monospace\">12:00:34.625 | <span style=\"color: #008080; text-decoration-color: #008080\">INFO</span>    | Flow run<span style=\"color: #800080; text-decoration-color: #800080\"> 'banana-seahorse'</span> - Training XGBoost classifier\n",
       "</pre>\n"
      ],
      "text/plain": [
       "12:00:34.625 | \u001b[36mINFO\u001b[0m    | Flow run\u001b[35m 'banana-seahorse'\u001b[0m - Training XGBoost classifier\n"
      ]
     },
     "metadata": {},
     "output_type": "display_data"
    },
    {
     "data": {
      "text/html": [
       "<pre style=\"white-space:pre;overflow-x:auto;line-height:normal;font-family:Menlo,'DejaVu Sans Mono',consolas,'Courier New',monospace\">12:00:34.862 | <span style=\"color: #008080; text-decoration-color: #008080\">INFO</span>    | Flow run<span style=\"color: #800080; text-decoration-color: #800080\"> 'banana-seahorse'</span> - Finished in state <span style=\"color: #008000; text-decoration-color: #008000\">Completed</span>()\n",
       "</pre>\n"
      ],
      "text/plain": [
       "12:00:34.862 | \u001b[36mINFO\u001b[0m    | Flow run\u001b[35m 'banana-seahorse'\u001b[0m - Finished in state \u001b[32mCompleted\u001b[0m()\n"
      ]
     },
     "metadata": {},
     "output_type": "display_data"
    },
    {
     "data": {
      "text/html": [
       "<pre style=\"white-space:pre;overflow-x:auto;line-height:normal;font-family:Menlo,'DejaVu Sans Mono',consolas,'Courier New',monospace\">12:00:34.928 | <span style=\"color: #008080; text-decoration-color: #008080\">INFO</span>    | Flow run<span style=\"color: #800080; text-decoration-color: #800080\"> 'granite-pegasus'</span> - Created subflow run<span style=\"color: #800080; text-decoration-color: #800080\"> 'voracious-firefly'</span> for flow<span style=\"color: #800080; text-decoration-color: #800080; font-weight: bold\"> 'predict'</span>\n",
       "</pre>\n"
      ],
      "text/plain": [
       "12:00:34.928 | \u001b[36mINFO\u001b[0m    | Flow run\u001b[35m 'granite-pegasus'\u001b[0m - Created subflow run\u001b[35m 'voracious-firefly'\u001b[0m for flow\u001b[1;35m 'predict'\u001b[0m\n"
      ]
     },
     "metadata": {},
     "output_type": "display_data"
    },
    {
     "data": {
      "text/html": [
       "<pre style=\"white-space:pre;overflow-x:auto;line-height:normal;font-family:Menlo,'DejaVu Sans Mono',consolas,'Courier New',monospace\">12:00:34.951 | <span style=\"color: #008080; text-decoration-color: #008080\">INFO</span>    | Flow run<span style=\"color: #800080; text-decoration-color: #800080\"> 'voracious-firefly'</span> - Predicting on test data\n",
       "</pre>\n"
      ],
      "text/plain": [
       "12:00:34.951 | \u001b[36mINFO\u001b[0m    | Flow run\u001b[35m 'voracious-firefly'\u001b[0m - Predicting on test data\n"
      ]
     },
     "metadata": {},
     "output_type": "display_data"
    },
    {
     "data": {
      "text/html": [
       "<pre style=\"white-space:pre;overflow-x:auto;line-height:normal;font-family:Menlo,'DejaVu Sans Mono',consolas,'Courier New',monospace\">12:00:34.980 | <span style=\"color: #008080; text-decoration-color: #008080\">INFO</span>    | Flow run<span style=\"color: #800080; text-decoration-color: #800080\"> 'voracious-firefly'</span> - Finished in state <span style=\"color: #008000; text-decoration-color: #008000\">Completed</span>()\n",
       "</pre>\n"
      ],
      "text/plain": [
       "12:00:34.980 | \u001b[36mINFO\u001b[0m    | Flow run\u001b[35m 'voracious-firefly'\u001b[0m - Finished in state \u001b[32mCompleted\u001b[0m()\n"
      ]
     },
     "metadata": {},
     "output_type": "display_data"
    },
    {
     "data": {
      "text/html": [
       "<pre style=\"white-space:pre;overflow-x:auto;line-height:normal;font-family:Menlo,'DejaVu Sans Mono',consolas,'Courier New',monospace\">12:00:35.020 | <span style=\"color: #008080; text-decoration-color: #008080\">INFO</span>    | Flow run<span style=\"color: #800080; text-decoration-color: #800080\"> 'granite-pegasus'</span> - Created subflow run<span style=\"color: #800080; text-decoration-color: #800080\"> 'topaz-dogfish'</span> for flow<span style=\"color: #800080; text-decoration-color: #800080; font-weight: bold\"> 'evaluate-model'</span>\n",
       "</pre>\n"
      ],
      "text/plain": [
       "12:00:35.020 | \u001b[36mINFO\u001b[0m    | Flow run\u001b[35m 'granite-pegasus'\u001b[0m - Created subflow run\u001b[35m 'topaz-dogfish'\u001b[0m for flow\u001b[1;35m 'evaluate-model'\u001b[0m\n"
      ]
     },
     "metadata": {},
     "output_type": "display_data"
    },
    {
     "data": {
      "text/html": [
       "<pre style=\"white-space:pre;overflow-x:auto;line-height:normal;font-family:Menlo,'DejaVu Sans Mono',consolas,'Courier New',monospace\">12:00:35.043 | <span style=\"color: #008080; text-decoration-color: #008080\">INFO</span>    | Flow run<span style=\"color: #800080; text-decoration-color: #800080\"> 'topaz-dogfish'</span> - Evaluating model performance\n",
       "</pre>\n"
      ],
      "text/plain": [
       "12:00:35.043 | \u001b[36mINFO\u001b[0m    | Flow run\u001b[35m 'topaz-dogfish'\u001b[0m - Evaluating model performance\n"
      ]
     },
     "metadata": {},
     "output_type": "display_data"
    },
    {
     "data": {
      "text/html": [
       "<pre style=\"white-space:pre;overflow-x:auto;line-height:normal;font-family:Menlo,'DejaVu Sans Mono',consolas,'Courier New',monospace\">12:00:35.077 | <span style=\"color: #008080; text-decoration-color: #008080\">INFO</span>    | Flow run<span style=\"color: #800080; text-decoration-color: #800080\"> 'topaz-dogfish'</span> - Finished in state <span style=\"color: #008000; text-decoration-color: #008000\">Completed</span>()\n",
       "</pre>\n"
      ],
      "text/plain": [
       "12:00:35.077 | \u001b[36mINFO\u001b[0m    | Flow run\u001b[35m 'topaz-dogfish'\u001b[0m - Finished in state \u001b[32mCompleted\u001b[0m()\n"
      ]
     },
     "metadata": {},
     "output_type": "display_data"
    },
    {
     "data": {
      "text/html": [
       "<pre style=\"white-space:pre;overflow-x:auto;line-height:normal;font-family:Menlo,'DejaVu Sans Mono',consolas,'Courier New',monospace\">12:00:35.091 | <span style=\"color: #008080; text-decoration-color: #008080\">INFO</span>    | Flow run<span style=\"color: #800080; text-decoration-color: #800080\"> 'granite-pegasus'</span> - Finished in state <span style=\"color: #008000; text-decoration-color: #008000\">Completed</span>()\n",
       "</pre>\n"
      ],
      "text/plain": [
       "12:00:35.091 | \u001b[36mINFO\u001b[0m    | Flow run\u001b[35m 'granite-pegasus'\u001b[0m - Finished in state \u001b[32mCompleted\u001b[0m()\n"
      ]
     },
     "metadata": {},
     "output_type": "display_data"
    }
   ],
   "source": [
    "# Run the flow\n",
    "result = flow_instance(training_v2_path)"
   ]
  },
  {
   "cell_type": "code",
   "execution_count": 17,
   "metadata": {},
   "outputs": [
    {
     "name": "stdout",
     "output_type": "stream",
     "text": [
      "Mean Age: 62.3095\n",
      "Accuracy: 0.9128\n",
      "Precision: 0.3243\n",
      "Recall: 0.0076\n",
      "F1 score: 0.0148\n",
      "ROC AUC score: 0.5030\n"
     ]
    }
   ],
   "source": [
    "print(f\"Mean Age: {result['mean_age']:.4f}\")\n",
    "\n",
    "print(f\"Accuracy: {result['accuracy']:.4f}\")\n",
    "print(f\"Precision: {result['precision']:.4f}\")\n",
    "print(f\"Recall: {result['recall']:.4f}\")\n",
    "print(f\"F1 score: {result['f1']:.4f}\")\n",
    "print(f\"ROC AUC score: {result['roc_auc']:.4f}\")"
   ]
  },
  {
   "cell_type": "code",
   "execution_count": null,
   "metadata": {},
   "outputs": [],
   "source": []
  }
 ],
 "metadata": {
  "kernelspec": {
   "display_name": "wids2020",
   "language": "python",
   "name": "python3"
  },
  "language_info": {
   "codemirror_mode": {
    "name": "ipython",
    "version": 3
   },
   "file_extension": ".py",
   "mimetype": "text/x-python",
   "name": "python",
   "nbconvert_exporter": "python",
   "pygments_lexer": "ipython3",
   "version": "3.8.18"
  },
  "orig_nbformat": 4
 },
 "nbformat": 4,
 "nbformat_minor": 2
}
