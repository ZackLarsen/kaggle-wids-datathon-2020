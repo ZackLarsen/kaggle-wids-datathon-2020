{
 "cells": [
  {
   "cell_type": "markdown",
   "metadata": {},
   "source": [
    "# MLflow with Prefect"
   ]
  },
  {
   "cell_type": "markdown",
   "metadata": {},
   "source": [
    "To view the results of this run, go to either the MLflow UI or the mlflow.ipynb notebook.\n",
    "\n",
    "To run the MLflow UI, run the following command in your terminal (make sure to activate the wids2020 environment first):\n",
    "\n",
    "```bash\n",
    "mlflow ui\n",
    "```"
   ]
  },
  {
   "cell_type": "code",
   "execution_count": 8,
   "metadata": {},
   "outputs": [],
   "source": [
    "import sys\n",
    "from pathlib import Path\n",
    "import mlflow\n",
    "import mlflow.sklearn\n",
    "import mlflow.xgboost\n",
    "\n",
    "sys.path.append('/Users/zacklarsen/Documents/Projects/kaggle-wids-datathon-2020/')\n",
    "sys.path.append('/Users/zacklarsen/Documents/Projects/kaggle-wids-datathon-2020/src/')\n",
    "\n",
    "from kaggle_prefect_flow import run_flow"
   ]
  },
  {
   "cell_type": "code",
   "execution_count": 9,
   "metadata": {},
   "outputs": [
    {
     "name": "stderr",
     "output_type": "stream",
     "text": [
      "2023/10/29 15:29:29 WARNING mlflow.utils.autologging_utils: You are using an unsupported version of xgboost. If you encounter errors during autologging, try upgrading / downgrading xgboost to a supported version, or try upgrading MLflow.\n"
     ]
    }
   ],
   "source": [
    "mlflow.xgboost.autolog()\n",
    "#mlflow.sklearn.autolog()"
   ]
  },
  {
   "cell_type": "code",
   "execution_count": 7,
   "metadata": {},
   "outputs": [
    {
     "data": {
      "text/plain": [
       "<coroutine object Flow.visualize at 0x2a28fdd20>"
      ]
     },
     "execution_count": 7,
     "metadata": {},
     "output_type": "execute_result"
    }
   ],
   "source": [
    "run_flow.visualize()"
   ]
  },
  {
   "cell_type": "code",
   "execution_count": 5,
   "metadata": {},
   "outputs": [
    {
     "ename": "ParameterBindError",
     "evalue": "Error binding parameters for function 'run_flow': missing a required argument: 'cfg'.\nFunction 'run_flow' has signature 'cfg: omegaconf.dictconfig.DictConfig' but received args: () and kwargs: [].",
     "output_type": "error",
     "traceback": [
      "\u001b[0;31m---------------------------------------------------------------------------\u001b[0m",
      "\u001b[0;31mTypeError\u001b[0m                                 Traceback (most recent call last)",
      "File \u001b[0;32m~/mambaforge/envs/wids2020/lib/python3.10/site-packages/prefect/utilities/callables.py:43\u001b[0m, in \u001b[0;36mget_call_parameters\u001b[0;34m(fn, call_args, call_kwargs, apply_defaults)\u001b[0m\n\u001b[1;32m     42\u001b[0m \u001b[39mtry\u001b[39;00m:\n\u001b[0;32m---> 43\u001b[0m     bound_signature \u001b[39m=\u001b[39m inspect\u001b[39m.\u001b[39;49msignature(fn)\u001b[39m.\u001b[39;49mbind(\u001b[39m*\u001b[39;49mcall_args, \u001b[39m*\u001b[39;49m\u001b[39m*\u001b[39;49mcall_kwargs)\n\u001b[1;32m     44\u001b[0m \u001b[39mexcept\u001b[39;00m \u001b[39mTypeError\u001b[39;00m \u001b[39mas\u001b[39;00m exc:\n",
      "File \u001b[0;32m~/mambaforge/envs/wids2020/lib/python3.10/inspect.py:3186\u001b[0m, in \u001b[0;36mSignature.bind\u001b[0;34m(self, *args, **kwargs)\u001b[0m\n\u001b[1;32m   3182\u001b[0m \u001b[39m\u001b[39m\u001b[39m\"\"\"Get a BoundArguments object, that maps the passed `args`\u001b[39;00m\n\u001b[1;32m   3183\u001b[0m \u001b[39mand `kwargs` to the function's signature.  Raises `TypeError`\u001b[39;00m\n\u001b[1;32m   3184\u001b[0m \u001b[39mif the passed arguments can not be bound.\u001b[39;00m\n\u001b[1;32m   3185\u001b[0m \u001b[39m\"\"\"\u001b[39;00m\n\u001b[0;32m-> 3186\u001b[0m \u001b[39mreturn\u001b[39;00m \u001b[39mself\u001b[39;49m\u001b[39m.\u001b[39;49m_bind(args, kwargs)\n",
      "File \u001b[0;32m~/mambaforge/envs/wids2020/lib/python3.10/inspect.py:3101\u001b[0m, in \u001b[0;36mSignature._bind\u001b[0;34m(self, args, kwargs, partial)\u001b[0m\n\u001b[1;32m   3100\u001b[0m                 msg \u001b[39m=\u001b[39m msg\u001b[39m.\u001b[39mformat(arg\u001b[39m=\u001b[39mparam\u001b[39m.\u001b[39mname)\n\u001b[0;32m-> 3101\u001b[0m                 \u001b[39mraise\u001b[39;00m \u001b[39mTypeError\u001b[39;00m(msg) \u001b[39mfrom\u001b[39;00m \u001b[39mNone\u001b[39;00m\n\u001b[1;32m   3102\u001b[0m \u001b[39melse\u001b[39;00m:\n\u001b[1;32m   3103\u001b[0m     \u001b[39m# We have a positional argument to process\u001b[39;00m\n",
      "\u001b[0;31mTypeError\u001b[0m: missing a required argument: 'cfg'",
      "\nDuring handling of the above exception, another exception occurred:\n",
      "\u001b[0;31mParameterBindError\u001b[0m                        Traceback (most recent call last)",
      "\u001b[1;32m/Users/zacklarsen/Documents/Projects/kaggle-wids-datathon-2020/notebooks/prefect_flow.ipynb Cell 5\u001b[0m line \u001b[0;36m2\n\u001b[1;32m      <a href='vscode-notebook-cell:/Users/zacklarsen/Documents/Projects/kaggle-wids-datathon-2020/notebooks/prefect_flow.ipynb#W5sZmlsZQ%3D%3D?line=0'>1</a>\u001b[0m \u001b[39m# Assign the flow to a variable\u001b[39;00m\n\u001b[0;32m----> <a href='vscode-notebook-cell:/Users/zacklarsen/Documents/Projects/kaggle-wids-datathon-2020/notebooks/prefect_flow.ipynb#W5sZmlsZQ%3D%3D?line=1'>2</a>\u001b[0m flow_instance \u001b[39m=\u001b[39m run_flow()\n",
      "File \u001b[0;32m~/mambaforge/envs/wids2020/lib/python3.10/site-packages/prefect/flows.py:1062\u001b[0m, in \u001b[0;36mFlow.__call__\u001b[0;34m(self, return_state, wait_for, *args, **kwargs)\u001b[0m\n\u001b[1;32m   1059\u001b[0m \u001b[39mfrom\u001b[39;00m \u001b[39mprefect\u001b[39;00m\u001b[39m.\u001b[39;00m\u001b[39mengine\u001b[39;00m \u001b[39mimport\u001b[39;00m enter_flow_run_engine_from_flow_call\n\u001b[1;32m   1061\u001b[0m \u001b[39m# Convert the call args/kwargs to a parameter dict\u001b[39;00m\n\u001b[0;32m-> 1062\u001b[0m parameters \u001b[39m=\u001b[39m get_call_parameters(\u001b[39mself\u001b[39;49m\u001b[39m.\u001b[39;49mfn, args, kwargs)\n\u001b[1;32m   1064\u001b[0m return_type \u001b[39m=\u001b[39m \u001b[39m\"\u001b[39m\u001b[39mstate\u001b[39m\u001b[39m\"\u001b[39m \u001b[39mif\u001b[39;00m return_state \u001b[39melse\u001b[39;00m \u001b[39m\"\u001b[39m\u001b[39mresult\u001b[39m\u001b[39m\"\u001b[39m\n\u001b[1;32m   1066\u001b[0m task_viz_tracker \u001b[39m=\u001b[39m get_task_viz_tracker()\n",
      "File \u001b[0;32m~/mambaforge/envs/wids2020/lib/python3.10/site-packages/prefect/utilities/callables.py:45\u001b[0m, in \u001b[0;36mget_call_parameters\u001b[0;34m(fn, call_args, call_kwargs, apply_defaults)\u001b[0m\n\u001b[1;32m     43\u001b[0m     bound_signature \u001b[39m=\u001b[39m inspect\u001b[39m.\u001b[39msignature(fn)\u001b[39m.\u001b[39mbind(\u001b[39m*\u001b[39mcall_args, \u001b[39m*\u001b[39m\u001b[39m*\u001b[39mcall_kwargs)\n\u001b[1;32m     44\u001b[0m \u001b[39mexcept\u001b[39;00m \u001b[39mTypeError\u001b[39;00m \u001b[39mas\u001b[39;00m exc:\n\u001b[0;32m---> 45\u001b[0m     \u001b[39mraise\u001b[39;00m ParameterBindError\u001b[39m.\u001b[39mfrom_bind_failure(fn, exc, call_args, call_kwargs)\n\u001b[1;32m     47\u001b[0m \u001b[39mif\u001b[39;00m apply_defaults:\n\u001b[1;32m     48\u001b[0m     bound_signature\u001b[39m.\u001b[39mapply_defaults()\n",
      "\u001b[0;31mParameterBindError\u001b[0m: Error binding parameters for function 'run_flow': missing a required argument: 'cfg'.\nFunction 'run_flow' has signature 'cfg: omegaconf.dictconfig.DictConfig' but received args: () and kwargs: []."
     ]
    }
   ],
   "source": [
    "# Assign the flow to a variable\n",
    "flow_instance = run_flow()"
   ]
  },
  {
   "cell_type": "code",
   "execution_count": 4,
   "metadata": {},
   "outputs": [
    {
     "ename": "ParameterBindError",
     "evalue": "Error binding parameters for function 'run_flow': missing a required argument: 'cfg'.\nFunction 'run_flow' has signature 'cfg: omegaconf.dictconfig.DictConfig' but received args: () and kwargs: [].",
     "output_type": "error",
     "traceback": [
      "\u001b[0;31m---------------------------------------------------------------------------\u001b[0m",
      "\u001b[0;31mTypeError\u001b[0m                                 Traceback (most recent call last)",
      "File \u001b[0;32m~/mambaforge/envs/wids2020/lib/python3.10/site-packages/prefect/utilities/callables.py:43\u001b[0m, in \u001b[0;36mget_call_parameters\u001b[0;34m(fn, call_args, call_kwargs, apply_defaults)\u001b[0m\n\u001b[1;32m     42\u001b[0m \u001b[39mtry\u001b[39;00m:\n\u001b[0;32m---> 43\u001b[0m     bound_signature \u001b[39m=\u001b[39m inspect\u001b[39m.\u001b[39;49msignature(fn)\u001b[39m.\u001b[39;49mbind(\u001b[39m*\u001b[39;49mcall_args, \u001b[39m*\u001b[39;49m\u001b[39m*\u001b[39;49mcall_kwargs)\n\u001b[1;32m     44\u001b[0m \u001b[39mexcept\u001b[39;00m \u001b[39mTypeError\u001b[39;00m \u001b[39mas\u001b[39;00m exc:\n",
      "File \u001b[0;32m~/mambaforge/envs/wids2020/lib/python3.10/inspect.py:3186\u001b[0m, in \u001b[0;36mSignature.bind\u001b[0;34m(self, *args, **kwargs)\u001b[0m\n\u001b[1;32m   3182\u001b[0m \u001b[39m\u001b[39m\u001b[39m\"\"\"Get a BoundArguments object, that maps the passed `args`\u001b[39;00m\n\u001b[1;32m   3183\u001b[0m \u001b[39mand `kwargs` to the function's signature.  Raises `TypeError`\u001b[39;00m\n\u001b[1;32m   3184\u001b[0m \u001b[39mif the passed arguments can not be bound.\u001b[39;00m\n\u001b[1;32m   3185\u001b[0m \u001b[39m\"\"\"\u001b[39;00m\n\u001b[0;32m-> 3186\u001b[0m \u001b[39mreturn\u001b[39;00m \u001b[39mself\u001b[39;49m\u001b[39m.\u001b[39;49m_bind(args, kwargs)\n",
      "File \u001b[0;32m~/mambaforge/envs/wids2020/lib/python3.10/inspect.py:3101\u001b[0m, in \u001b[0;36mSignature._bind\u001b[0;34m(self, args, kwargs, partial)\u001b[0m\n\u001b[1;32m   3100\u001b[0m                 msg \u001b[39m=\u001b[39m msg\u001b[39m.\u001b[39mformat(arg\u001b[39m=\u001b[39mparam\u001b[39m.\u001b[39mname)\n\u001b[0;32m-> 3101\u001b[0m                 \u001b[39mraise\u001b[39;00m \u001b[39mTypeError\u001b[39;00m(msg) \u001b[39mfrom\u001b[39;00m \u001b[39mNone\u001b[39;00m\n\u001b[1;32m   3102\u001b[0m \u001b[39melse\u001b[39;00m:\n\u001b[1;32m   3103\u001b[0m     \u001b[39m# We have a positional argument to process\u001b[39;00m\n",
      "\u001b[0;31mTypeError\u001b[0m: missing a required argument: 'cfg'",
      "\nDuring handling of the above exception, another exception occurred:\n",
      "\u001b[0;31mParameterBindError\u001b[0m                        Traceback (most recent call last)",
      "\u001b[1;32m/Users/zacklarsen/Documents/Projects/kaggle-wids-datathon-2020/notebooks/prefect_flow.ipynb Cell 6\u001b[0m line \u001b[0;36m2\n\u001b[1;32m      <a href='vscode-notebook-cell:/Users/zacklarsen/Documents/Projects/kaggle-wids-datathon-2020/notebooks/prefect_flow.ipynb#W6sZmlsZQ%3D%3D?line=0'>1</a>\u001b[0m \u001b[39m# Run the flow\u001b[39;00m\n\u001b[0;32m----> <a href='vscode-notebook-cell:/Users/zacklarsen/Documents/Projects/kaggle-wids-datathon-2020/notebooks/prefect_flow.ipynb#W6sZmlsZQ%3D%3D?line=1'>2</a>\u001b[0m result \u001b[39m=\u001b[39m flow_instance()\n",
      "File \u001b[0;32m~/mambaforge/envs/wids2020/lib/python3.10/site-packages/prefect/flows.py:1062\u001b[0m, in \u001b[0;36mFlow.__call__\u001b[0;34m(self, return_state, wait_for, *args, **kwargs)\u001b[0m\n\u001b[1;32m   1059\u001b[0m \u001b[39mfrom\u001b[39;00m \u001b[39mprefect\u001b[39;00m\u001b[39m.\u001b[39;00m\u001b[39mengine\u001b[39;00m \u001b[39mimport\u001b[39;00m enter_flow_run_engine_from_flow_call\n\u001b[1;32m   1061\u001b[0m \u001b[39m# Convert the call args/kwargs to a parameter dict\u001b[39;00m\n\u001b[0;32m-> 1062\u001b[0m parameters \u001b[39m=\u001b[39m get_call_parameters(\u001b[39mself\u001b[39;49m\u001b[39m.\u001b[39;49mfn, args, kwargs)\n\u001b[1;32m   1064\u001b[0m return_type \u001b[39m=\u001b[39m \u001b[39m\"\u001b[39m\u001b[39mstate\u001b[39m\u001b[39m\"\u001b[39m \u001b[39mif\u001b[39;00m return_state \u001b[39melse\u001b[39;00m \u001b[39m\"\u001b[39m\u001b[39mresult\u001b[39m\u001b[39m\"\u001b[39m\n\u001b[1;32m   1066\u001b[0m task_viz_tracker \u001b[39m=\u001b[39m get_task_viz_tracker()\n",
      "File \u001b[0;32m~/mambaforge/envs/wids2020/lib/python3.10/site-packages/prefect/utilities/callables.py:45\u001b[0m, in \u001b[0;36mget_call_parameters\u001b[0;34m(fn, call_args, call_kwargs, apply_defaults)\u001b[0m\n\u001b[1;32m     43\u001b[0m     bound_signature \u001b[39m=\u001b[39m inspect\u001b[39m.\u001b[39msignature(fn)\u001b[39m.\u001b[39mbind(\u001b[39m*\u001b[39mcall_args, \u001b[39m*\u001b[39m\u001b[39m*\u001b[39mcall_kwargs)\n\u001b[1;32m     44\u001b[0m \u001b[39mexcept\u001b[39;00m \u001b[39mTypeError\u001b[39;00m \u001b[39mas\u001b[39;00m exc:\n\u001b[0;32m---> 45\u001b[0m     \u001b[39mraise\u001b[39;00m ParameterBindError\u001b[39m.\u001b[39mfrom_bind_failure(fn, exc, call_args, call_kwargs)\n\u001b[1;32m     47\u001b[0m \u001b[39mif\u001b[39;00m apply_defaults:\n\u001b[1;32m     48\u001b[0m     bound_signature\u001b[39m.\u001b[39mapply_defaults()\n",
      "\u001b[0;31mParameterBindError\u001b[0m: Error binding parameters for function 'run_flow': missing a required argument: 'cfg'.\nFunction 'run_flow' has signature 'cfg: omegaconf.dictconfig.DictConfig' but received args: () and kwargs: []."
     ]
    }
   ],
   "source": [
    "# Run the flow\n",
    "result = flow_instance()"
   ]
  },
  {
   "cell_type": "code",
   "execution_count": null,
   "metadata": {},
   "outputs": [],
   "source": [
    "print(f\"Mean Age: {result['mean_age']:.4f}\")\n",
    "\n",
    "print(f\"Accuracy: {result['accuracy']:.4f}\")\n",
    "print(f\"Precision: {result['precision']:.4f}\")\n",
    "print(f\"Recall: {result['recall']:.4f}\")\n",
    "print(f\"F1 score: {result['f1']:.4f}\")\n",
    "print(f\"ROC AUC score: {result['roc_auc']:.4f}\")"
   ]
  },
  {
   "cell_type": "code",
   "execution_count": null,
   "metadata": {},
   "outputs": [],
   "source": []
  }
 ],
 "metadata": {
  "kernelspec": {
   "display_name": "wids2020",
   "language": "python",
   "name": "python3"
  },
  "language_info": {
   "codemirror_mode": {
    "name": "ipython",
    "version": 3
   },
   "file_extension": ".py",
   "mimetype": "text/x-python",
   "name": "python",
   "nbconvert_exporter": "python",
   "pygments_lexer": "ipython3",
   "version": "3.10.13"
  },
  "orig_nbformat": 4
 },
 "nbformat": 4,
 "nbformat_minor": 2
}
