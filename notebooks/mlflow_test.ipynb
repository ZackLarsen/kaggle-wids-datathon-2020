{
 "cells": [
  {
   "cell_type": "code",
   "execution_count": 12,
   "metadata": {},
   "outputs": [],
   "source": [
    "from pathlib import Path\n",
    "\n",
    "import polars as pl\n",
    "import polars.selectors as cs\n",
    "import mlflow\n",
    "import mlflow.sklearn\n",
    "import mlflow.xgboost\n",
    "import xgboost as xgb"
   ]
  },
  {
   "cell_type": "code",
   "execution_count": 13,
   "metadata": {},
   "outputs": [],
   "source": [
    "competition_path = Path(\"/Users/zacklarsen/Documents/Projects/kaggle-wids-datathon-2020/\")\n",
    "mlflow_path = Path(competition_path, \"mlruns/\")\n",
    "data_path = Path(competition_path, \"data/\")"
   ]
  },
  {
   "cell_type": "code",
   "execution_count": 14,
   "metadata": {},
   "outputs": [],
   "source": [
    "X_train = pl.read_parquet(data_path / \"X_train.parquet\")\n",
    "X_test = pl.read_parquet(data_path / \"X_test.parquet\")\n",
    "y_train = pl.read_parquet(data_path / \"y_train.parquet\")\n",
    "y_test = pl.read_parquet(data_path / \"y_test.parquet\")"
   ]
  },
  {
   "cell_type": "code",
   "execution_count": 15,
   "metadata": {},
   "outputs": [],
   "source": [
    "mlflow.xgboost.autolog()\n",
    "#mlflow.set_tracking_uri(\"http://localhost:5000\")\n",
    "#mlflow.set_tracking_uri(\"/Users/zacklarsen/Documents/Projects/kaggle-wids-datathon-2020/mlruns/\")\n",
    "mlflow.set_tracking_uri(mlflow_path)"
   ]
  },
  {
   "cell_type": "code",
   "execution_count": 16,
   "metadata": {},
   "outputs": [
    {
     "name": "stderr",
     "output_type": "stream",
     "text": [
      "2023/10/08 15:16:17 WARNING mlflow.sklearn: Failed to infer model signature: ('Expected one of the following types:\\n- pandas.DataFrame\\n- pandas.Series\\n- numpy.ndarray\\n- dictionary of (name -> numpy.ndarray)\\n- pyspark.sql.DataFrame\\n', \"- scipy.sparse.csr_matrix\\n- scipy.sparse.csc_matrix\\n- str\\n- List[str]\\n- List[Dict[str, Union[str, List[str]]]]\\n- Dict[str, Union[str, List[str]]]\\n- bytes\\nbut got '<class 'polars.dataframe.frame.DataFrame'>'\")\n",
      "2023/10/08 15:16:17 WARNING mlflow.utils.autologging_utils: MLflow autologging encountered a warning: \"/Users/zacklarsen/mambaforge/envs/wids2020/lib/python3.10/site-packages/xgboost/core.py:160: UserWarning: [15:16:17] WARNING: /Users/runner/work/xgboost/xgboost/src/c_api/c_api.cc:1240: Saving into deprecated binary model format, please consider using `json` or `ubj`. Model format will default to JSON in XGBoost 2.2 if not specified.\"\n",
      "2023/10/08 15:16:18 WARNING mlflow.utils.autologging_utils: MLflow autologging encountered a warning: \"/Users/zacklarsen/mambaforge/envs/wids2020/lib/python3.10/site-packages/_distutils_hack/__init__.py:18: UserWarning: Distutils was imported before Setuptools, but importing Setuptools also replaces the `distutils` module in `sys.modules`. This may lead to undesirable behaviors or errors. To avoid these issues, avoid using distutils directly, ensure that setuptools is installed in the traditional way (e.g. not an editable install), and/or make sure that setuptools is always imported before distutils.\"\n",
      "2023/10/08 15:16:18 WARNING mlflow.utils.autologging_utils: MLflow autologging encountered a warning: \"/Users/zacklarsen/mambaforge/envs/wids2020/lib/python3.10/site-packages/_distutils_hack/__init__.py:33: UserWarning: Setuptools is replacing distutils.\"\n",
      "Registered model 'XGBoost_1.json' already exists. Creating a new version of this model...\n",
      "2023/10/08 15:16:18 INFO mlflow.tracking._model_registry.client: Waiting up to 300 seconds for model version to finish creation. Model name: XGBoost_1.json, version 2\n",
      "Created version '2' of model 'XGBoost_1.json'.\n"
     ]
    }
   ],
   "source": [
    "with mlflow.start_run() as run:\n",
    "    model = xgb.XGBClassifier()\n",
    "    model.fit(X_train.select(cs.numeric()), y_train)\n",
    "\n",
    "    # After training your model\n",
    "    run_id = run.info.run_id\n",
    "    experiment_id = run.info.experiment_id\n",
    "    \n",
    "    model_uri = f\"runs:/{run_id}/model\"\n",
    "    model_name = \"XGBoost_1.json\"\n",
    "    registered_model_version = mlflow.register_model(model_uri, model_name)"
   ]
  },
  {
   "cell_type": "code",
   "execution_count": 17,
   "metadata": {},
   "outputs": [],
   "source": [
    "# Create an MLflow client\n",
    "client = mlflow.tracking.MlflowClient()"
   ]
  },
  {
   "cell_type": "code",
   "execution_count": 18,
   "metadata": {},
   "outputs": [
    {
     "data": {
      "text/plain": [
       "[<Experiment: artifact_location='/Users/zacklarsen/Documents/Projects/kaggle-wids-datathon-2020/mlruns/0', creation_time=1696796075446, experiment_id='0', last_update_time=1696796075446, lifecycle_stage='active', name='Default', tags={}>]"
      ]
     },
     "execution_count": 18,
     "metadata": {},
     "output_type": "execute_result"
    }
   ],
   "source": [
    "client.search_experiments()"
   ]
  },
  {
   "cell_type": "code",
   "execution_count": null,
   "metadata": {},
   "outputs": [],
   "source": []
  },
  {
   "cell_type": "code",
   "execution_count": 19,
   "metadata": {},
   "outputs": [],
   "source": [
    "# Get the artifacts for the run\n",
    "artifacts = client.list_artifacts(run_id)"
   ]
  },
  {
   "cell_type": "code",
   "execution_count": 20,
   "metadata": {},
   "outputs": [
    {
     "data": {
      "text/plain": [
       "[<FileInfo: file_size=102, is_dir=False, path='feature_importance_weight.json'>,\n",
       " <FileInfo: file_size=14721, is_dir=False, path='feature_importance_weight.png'>,\n",
       " <FileInfo: file_size=None, is_dir=True, path='model'>]"
      ]
     },
     "execution_count": 20,
     "metadata": {},
     "output_type": "execute_result"
    }
   ],
   "source": [
    "artifacts"
   ]
  },
  {
   "cell_type": "code",
   "execution_count": 21,
   "metadata": {},
   "outputs": [
    {
     "name": "stdout",
     "output_type": "stream",
     "text": [
      "feature_importance_weight.json\n",
      "feature_importance_weight.png\n",
      "model\n"
     ]
    }
   ],
   "source": [
    "for artifact in artifacts:\n",
    "    print(artifact.path)"
   ]
  },
  {
   "cell_type": "code",
   "execution_count": 23,
   "metadata": {},
   "outputs": [
    {
     "data": {
      "application/vnd.jupyter.widget-view+json": {
       "model_id": "e6f3c539ef2d4b3ba7033f7e864d5855",
       "version_major": 2,
       "version_minor": 0
      },
      "text/plain": [
       "Downloading artifacts:   0%|          | 0/1 [00:00<?, ?it/s]"
      ]
     },
     "metadata": {},
     "output_type": "display_data"
    },
    {
     "data": {
      "application/vnd.jupyter.widget-view+json": {
       "model_id": "ec1297dc706942e3a77a560c429a71ce",
       "version_major": 2,
       "version_minor": 0
      },
      "text/plain": [
       "Downloading artifacts:   0%|          | 0/1 [00:00<?, ?it/s]"
      ]
     },
     "metadata": {},
     "output_type": "display_data"
    },
    {
     "data": {
      "application/vnd.jupyter.widget-view+json": {
       "model_id": "c6a75a7fe8af4ef1a1fc34106703c2bf",
       "version_major": 2,
       "version_minor": 0
      },
      "text/plain": [
       "Downloading artifacts:   0%|          | 0/5 [00:00<?, ?it/s]"
      ]
     },
     "metadata": {},
     "output_type": "display_data"
    }
   ],
   "source": [
    "# Download the artifacts to a local directory\n",
    "for artifact in artifacts:\n",
    "    client.download_artifacts(run_id, artifact.path, mlflow_path)"
   ]
  },
  {
   "cell_type": "code",
   "execution_count": null,
   "metadata": {},
   "outputs": [],
   "source": []
  },
  {
   "cell_type": "code",
   "execution_count": null,
   "metadata": {},
   "outputs": [],
   "source": []
  }
 ],
 "metadata": {
  "kernelspec": {
   "display_name": "wids2020",
   "language": "python",
   "name": "python3"
  },
  "language_info": {
   "codemirror_mode": {
    "name": "ipython",
    "version": 3
   },
   "file_extension": ".py",
   "mimetype": "text/x-python",
   "name": "python",
   "nbconvert_exporter": "python",
   "pygments_lexer": "ipython3",
   "version": "3.8.18"
  },
  "orig_nbformat": 4
 },
 "nbformat": 4,
 "nbformat_minor": 2
}
