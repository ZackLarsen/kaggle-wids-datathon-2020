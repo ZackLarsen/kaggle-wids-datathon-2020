{
 "cells": [
  {
   "cell_type": "code",
   "execution_count": 42,
   "metadata": {},
   "outputs": [],
   "source": [
    "import os\n",
    "from pathlib import Path\n",
    "\n",
    "import polars as pl\n",
    "import polars.selectors as cs\n",
    "import pandas as pd\n",
    "import mlflow\n",
    "import mlflow.sklearn\n",
    "import mlflow.xgboost"
   ]
  },
  {
   "cell_type": "code",
   "execution_count": 2,
   "metadata": {},
   "outputs": [],
   "source": [
    "competition_path = Path(\"/Users/zacklarsen/Documents/Projects/kaggle-wids-datathon-2020/\")\n",
    "mlflow_path = Path(competition_path, \"mlruns/\")\n",
    "data_path = Path(competition_path, \"data/\")"
   ]
  },
  {
   "cell_type": "code",
   "execution_count": 9,
   "metadata": {},
   "outputs": [],
   "source": [
    "mlflow.set_tracking_uri(mlflow_path)"
   ]
  },
  {
   "cell_type": "code",
   "execution_count": 3,
   "metadata": {},
   "outputs": [],
   "source": [
    "client = mlflow.tracking.MlflowClient()"
   ]
  },
  {
   "cell_type": "code",
   "execution_count": 4,
   "metadata": {},
   "outputs": [
    {
     "data": {
      "text/plain": [
       "[<Experiment: artifact_location='file:///Users/zacklarsen/Documents/Projects/kaggle-wids-datathon-2020/notebooks/mlruns/0', creation_time=1696798233292, experiment_id='0', last_update_time=1696798233292, lifecycle_stage='active', name='Default', tags={}>]"
      ]
     },
     "execution_count": 4,
     "metadata": {},
     "output_type": "execute_result"
    }
   ],
   "source": [
    "client.search_experiments()"
   ]
  },
  {
   "cell_type": "code",
   "execution_count": 34,
   "metadata": {},
   "outputs": [
    {
     "data": {
      "text/plain": [
       "'file:///Users/zacklarsen/Documents/Projects/kaggle-wids-datathon-2020/notebooks/mlruns'"
      ]
     },
     "execution_count": 34,
     "metadata": {},
     "output_type": "execute_result"
    }
   ],
   "source": [
    "client.tracking_uri"
   ]
  },
  {
   "cell_type": "code",
   "execution_count": 57,
   "metadata": {},
   "outputs": [
    {
     "name": "stderr",
     "output_type": "stream",
     "text": [
      "WARNING:root:Malformed experiment 'model'. Detailed error Yaml file '/Users/zacklarsen/Documents/Projects/kaggle-wids-datathon-2020/mlruns/model/meta.yaml' does not exist.\n",
      "Traceback (most recent call last):\n",
      "  File \"/Users/zacklarsen/mambaforge/envs/wids2020/lib/python3.10/site-packages/mlflow/store/tracking/file_store.py\", line 303, in search_experiments\n",
      "    exp = self._get_experiment(exp_id, view_type)\n",
      "  File \"/Users/zacklarsen/mambaforge/envs/wids2020/lib/python3.10/site-packages/mlflow/store/tracking/file_store.py\", line 396, in _get_experiment\n",
      "    meta = FileStore._read_yaml(experiment_dir, FileStore.META_DATA_FILE_NAME)\n",
      "  File \"/Users/zacklarsen/mambaforge/envs/wids2020/lib/python3.10/site-packages/mlflow/store/tracking/file_store.py\", line 1304, in _read_yaml\n",
      "    return _read_helper(root, file_name, attempts_remaining=retries)\n",
      "  File \"/Users/zacklarsen/mambaforge/envs/wids2020/lib/python3.10/site-packages/mlflow/store/tracking/file_store.py\", line 1297, in _read_helper\n",
      "    result = read_yaml(root, file_name)\n",
      "  File \"/Users/zacklarsen/mambaforge/envs/wids2020/lib/python3.10/site-packages/mlflow/utils/file_utils.py\", line 285, in read_yaml\n",
      "    raise MissingConfigException(f\"Yaml file '{file_path}' does not exist.\")\n",
      "mlflow.exceptions.MissingConfigException: Yaml file '/Users/zacklarsen/Documents/Projects/kaggle-wids-datathon-2020/mlruns/model/meta.yaml' does not exist.\n"
     ]
    }
   ],
   "source": [
    "experiment = mlflow.get_experiment_by_name('Default')"
   ]
  },
  {
   "cell_type": "code",
   "execution_count": null,
   "metadata": {},
   "outputs": [],
   "source": []
  },
  {
   "cell_type": "code",
   "execution_count": 11,
   "metadata": {},
   "outputs": [
    {
     "data": {
      "text/html": [
       "<div>\n",
       "<style scoped>\n",
       "    .dataframe tbody tr th:only-of-type {\n",
       "        vertical-align: middle;\n",
       "    }\n",
       "\n",
       "    .dataframe tbody tr th {\n",
       "        vertical-align: top;\n",
       "    }\n",
       "\n",
       "    .dataframe thead th {\n",
       "        text-align: right;\n",
       "    }\n",
       "</style>\n",
       "<table border=\"1\" class=\"dataframe\">\n",
       "  <thead>\n",
       "    <tr style=\"text-align: right;\">\n",
       "      <th></th>\n",
       "      <th>run_id</th>\n",
       "      <th>experiment_id</th>\n",
       "      <th>status</th>\n",
       "      <th>artifact_uri</th>\n",
       "      <th>start_time</th>\n",
       "      <th>end_time</th>\n",
       "      <th>params.device</th>\n",
       "      <th>params.monotone_constraints</th>\n",
       "      <th>params.multi_strategy</th>\n",
       "      <th>params.base_score</th>\n",
       "      <th>...</th>\n",
       "      <th>params.validate_parameters</th>\n",
       "      <th>params.n_jobs</th>\n",
       "      <th>params.subsample</th>\n",
       "      <th>params.max_bin</th>\n",
       "      <th>params.random_state</th>\n",
       "      <th>tags.mlflow.runName</th>\n",
       "      <th>tags.mlflow.source.name</th>\n",
       "      <th>tags.mlflow.source.type</th>\n",
       "      <th>tags.mlflow.log-model.history</th>\n",
       "      <th>tags.mlflow.user</th>\n",
       "    </tr>\n",
       "  </thead>\n",
       "  <tbody>\n",
       "    <tr>\n",
       "      <th>0</th>\n",
       "      <td>6183b7ca429c4851b85d7fd6c9743e38</td>\n",
       "      <td>0</td>\n",
       "      <td>FINISHED</td>\n",
       "      <td>/Users/zacklarsen/Documents/Projects/kaggle-wi...</td>\n",
       "      <td>2023-10-08 20:45:54.497000+00:00</td>\n",
       "      <td>2023-10-08 20:45:56.498000+00:00</td>\n",
       "      <td>None</td>\n",
       "      <td>None</td>\n",
       "      <td>None</td>\n",
       "      <td>None</td>\n",
       "      <td>...</td>\n",
       "      <td>None</td>\n",
       "      <td>None</td>\n",
       "      <td>None</td>\n",
       "      <td>None</td>\n",
       "      <td>None</td>\n",
       "      <td>rumbling-eel-607</td>\n",
       "      <td>/Users/zacklarsen/mambaforge/envs/wids2020/lib...</td>\n",
       "      <td>LOCAL</td>\n",
       "      <td>[{\"run_id\": \"6183b7ca429c4851b85d7fd6c9743e38\"...</td>\n",
       "      <td>zacklarsen</td>\n",
       "    </tr>\n",
       "    <tr>\n",
       "      <th>1</th>\n",
       "      <td>23395a9c824a46cdadc2d5f0943355b5</td>\n",
       "      <td>0</td>\n",
       "      <td>FINISHED</td>\n",
       "      <td>/Users/zacklarsen/Documents/Projects/kaggle-wi...</td>\n",
       "      <td>2023-10-08 20:16:17.328000+00:00</td>\n",
       "      <td>2023-10-08 20:16:18.770000+00:00</td>\n",
       "      <td>None</td>\n",
       "      <td>None</td>\n",
       "      <td>None</td>\n",
       "      <td>None</td>\n",
       "      <td>...</td>\n",
       "      <td>None</td>\n",
       "      <td>None</td>\n",
       "      <td>None</td>\n",
       "      <td>None</td>\n",
       "      <td>None</td>\n",
       "      <td>unruly-loon-873</td>\n",
       "      <td>/Users/zacklarsen/mambaforge/envs/wids2020/lib...</td>\n",
       "      <td>LOCAL</td>\n",
       "      <td>[{\"run_id\": \"23395a9c824a46cdadc2d5f0943355b5\"...</td>\n",
       "      <td>zacklarsen</td>\n",
       "    </tr>\n",
       "    <tr>\n",
       "      <th>2</th>\n",
       "      <td>1fc461080e3f4961966b20282b07fafa</td>\n",
       "      <td>0</td>\n",
       "      <td>FINISHED</td>\n",
       "      <td>/Users/zacklarsen/Documents/Projects/kaggle-wi...</td>\n",
       "      <td>2023-10-08 20:14:35.493000+00:00</td>\n",
       "      <td>2023-10-08 20:14:37.484000+00:00</td>\n",
       "      <td>None</td>\n",
       "      <td>None</td>\n",
       "      <td>None</td>\n",
       "      <td>None</td>\n",
       "      <td>...</td>\n",
       "      <td>None</td>\n",
       "      <td>None</td>\n",
       "      <td>None</td>\n",
       "      <td>None</td>\n",
       "      <td>None</td>\n",
       "      <td>unleashed-hawk-384</td>\n",
       "      <td>/Users/zacklarsen/mambaforge/envs/wids2020/lib...</td>\n",
       "      <td>LOCAL</td>\n",
       "      <td>[{\"run_id\": \"1fc461080e3f4961966b20282b07fafa\"...</td>\n",
       "      <td>zacklarsen</td>\n",
       "    </tr>\n",
       "  </tbody>\n",
       "</table>\n",
       "<p>3 rows × 48 columns</p>\n",
       "</div>"
      ],
      "text/plain": [
       "                             run_id experiment_id    status  \\\n",
       "0  6183b7ca429c4851b85d7fd6c9743e38             0  FINISHED   \n",
       "1  23395a9c824a46cdadc2d5f0943355b5             0  FINISHED   \n",
       "2  1fc461080e3f4961966b20282b07fafa             0  FINISHED   \n",
       "\n",
       "                                        artifact_uri  \\\n",
       "0  /Users/zacklarsen/Documents/Projects/kaggle-wi...   \n",
       "1  /Users/zacklarsen/Documents/Projects/kaggle-wi...   \n",
       "2  /Users/zacklarsen/Documents/Projects/kaggle-wi...   \n",
       "\n",
       "                        start_time                         end_time  \\\n",
       "0 2023-10-08 20:45:54.497000+00:00 2023-10-08 20:45:56.498000+00:00   \n",
       "1 2023-10-08 20:16:17.328000+00:00 2023-10-08 20:16:18.770000+00:00   \n",
       "2 2023-10-08 20:14:35.493000+00:00 2023-10-08 20:14:37.484000+00:00   \n",
       "\n",
       "  params.device params.monotone_constraints params.multi_strategy  \\\n",
       "0          None                        None                  None   \n",
       "1          None                        None                  None   \n",
       "2          None                        None                  None   \n",
       "\n",
       "  params.base_score  ... params.validate_parameters params.n_jobs  \\\n",
       "0              None  ...                       None          None   \n",
       "1              None  ...                       None          None   \n",
       "2              None  ...                       None          None   \n",
       "\n",
       "  params.subsample params.max_bin params.random_state tags.mlflow.runName  \\\n",
       "0             None           None                None    rumbling-eel-607   \n",
       "1             None           None                None     unruly-loon-873   \n",
       "2             None           None                None  unleashed-hawk-384   \n",
       "\n",
       "                             tags.mlflow.source.name tags.mlflow.source.type  \\\n",
       "0  /Users/zacklarsen/mambaforge/envs/wids2020/lib...                   LOCAL   \n",
       "1  /Users/zacklarsen/mambaforge/envs/wids2020/lib...                   LOCAL   \n",
       "2  /Users/zacklarsen/mambaforge/envs/wids2020/lib...                   LOCAL   \n",
       "\n",
       "                       tags.mlflow.log-model.history tags.mlflow.user  \n",
       "0  [{\"run_id\": \"6183b7ca429c4851b85d7fd6c9743e38\"...       zacklarsen  \n",
       "1  [{\"run_id\": \"23395a9c824a46cdadc2d5f0943355b5\"...       zacklarsen  \n",
       "2  [{\"run_id\": \"1fc461080e3f4961966b20282b07fafa\"...       zacklarsen  \n",
       "\n",
       "[3 rows x 48 columns]"
      ]
     },
     "execution_count": 11,
     "metadata": {},
     "output_type": "execute_result"
    }
   ],
   "source": [
    "mlflow.search_runs()"
   ]
  },
  {
   "cell_type": "code",
   "execution_count": 12,
   "metadata": {},
   "outputs": [],
   "source": [
    "# Get a list of all runs in an experiment\n",
    "experiment_id = \"0\"\n",
    "runs = mlflow.search_runs(experiment_ids=[experiment_id])"
   ]
  },
  {
   "cell_type": "code",
   "execution_count": 16,
   "metadata": {},
   "outputs": [],
   "source": [
    "runs_pl = pl.DataFrame(runs)"
   ]
  },
  {
   "cell_type": "code",
   "execution_count": 17,
   "metadata": {},
   "outputs": [
    {
     "data": {
      "text/html": [
       "<div><style>\n",
       ".dataframe > thead > tr > th,\n",
       ".dataframe > tbody > tr > td {\n",
       "  text-align: right;\n",
       "  white-space: pre-wrap;\n",
       "}\n",
       "</style>\n",
       "<small>shape: (3, 48)</small><table border=\"1\" class=\"dataframe\"><thead><tr><th>run_id</th><th>experiment_id</th><th>status</th><th>artifact_uri</th><th>start_time</th><th>end_time</th><th>params.device</th><th>params.monotone_constraints</th><th>params.multi_strategy</th><th>params.base_score</th><th>params.colsample_bytree</th><th>params.reg_alpha</th><th>params.early_stopping_rounds</th><th>params.max_delta_step</th><th>params.colsample_bynode</th><th>params.max_cat_to_onehot</th><th>params.gamma</th><th>params.tree_method</th><th>params.maximize</th><th>params.colsample_bylevel</th><th>params.interaction_constraints</th><th>params.min_child_weight</th><th>params.verbosity</th><th>params.objective</th><th>params.verbose_eval</th><th>params.learning_rate</th><th>params.max_depth</th><th>params.grow_policy</th><th>params.scale_pos_weight</th><th>params.max_leaves</th><th>params.num_boost_round</th><th>params.custom_metric</th><th>params.reg_lambda</th><th>params.max_cat_threshold</th><th>params.eval_metric</th><th>params.sampling_method</th><th>params.num_parallel_tree</th><th>params.booster</th><th>params.validate_parameters</th><th>params.n_jobs</th><th>params.subsample</th><th>params.max_bin</th><th>params.random_state</th><th>tags.mlflow.runName</th><th>tags.mlflow.source.name</th><th>tags.mlflow.source.type</th><th>tags.mlflow.log-model.history</th><th>tags.mlflow.user</th></tr><tr><td>str</td><td>str</td><td>str</td><td>str</td><td>datetime[ns, UTC]</td><td>datetime[ns, UTC]</td><td>str</td><td>str</td><td>str</td><td>str</td><td>str</td><td>str</td><td>str</td><td>str</td><td>str</td><td>str</td><td>str</td><td>str</td><td>str</td><td>str</td><td>str</td><td>str</td><td>str</td><td>str</td><td>str</td><td>str</td><td>str</td><td>str</td><td>str</td><td>str</td><td>str</td><td>str</td><td>str</td><td>str</td><td>str</td><td>str</td><td>str</td><td>str</td><td>str</td><td>str</td><td>str</td><td>str</td><td>str</td><td>str</td><td>str</td><td>str</td><td>str</td><td>str</td></tr></thead><tbody><tr><td>&quot;6183b7ca429c48…</td><td>&quot;0&quot;</td><td>&quot;FINISHED&quot;</td><td>&quot;/Users/zacklar…</td><td>2023-10-08 20:45:54.497 UTC</td><td>2023-10-08 20:45:56.498 UTC</td><td>&quot;None&quot;</td><td>&quot;None&quot;</td><td>&quot;None&quot;</td><td>&quot;None&quot;</td><td>&quot;None&quot;</td><td>&quot;None&quot;</td><td>&quot;None&quot;</td><td>&quot;None&quot;</td><td>&quot;None&quot;</td><td>&quot;None&quot;</td><td>&quot;None&quot;</td><td>&quot;None&quot;</td><td>&quot;None&quot;</td><td>&quot;None&quot;</td><td>&quot;None&quot;</td><td>&quot;None&quot;</td><td>&quot;None&quot;</td><td>&quot;binary:logisti…</td><td>&quot;True&quot;</td><td>&quot;None&quot;</td><td>&quot;None&quot;</td><td>&quot;None&quot;</td><td>&quot;None&quot;</td><td>&quot;None&quot;</td><td>&quot;100&quot;</td><td>&quot;None&quot;</td><td>&quot;None&quot;</td><td>&quot;None&quot;</td><td>&quot;None&quot;</td><td>&quot;None&quot;</td><td>&quot;None&quot;</td><td>&quot;None&quot;</td><td>&quot;None&quot;</td><td>&quot;None&quot;</td><td>&quot;None&quot;</td><td>&quot;None&quot;</td><td>&quot;None&quot;</td><td>&quot;rumbling-eel-6…</td><td>&quot;/Users/zacklar…</td><td>&quot;LOCAL&quot;</td><td>&quot;[{&quot;run_id&quot;: &quot;6…</td><td>&quot;zacklarsen&quot;</td></tr><tr><td>&quot;23395a9c824a46…</td><td>&quot;0&quot;</td><td>&quot;FINISHED&quot;</td><td>&quot;/Users/zacklar…</td><td>2023-10-08 20:16:17.328 UTC</td><td>2023-10-08 20:16:18.770 UTC</td><td>&quot;None&quot;</td><td>&quot;None&quot;</td><td>&quot;None&quot;</td><td>&quot;None&quot;</td><td>&quot;None&quot;</td><td>&quot;None&quot;</td><td>&quot;None&quot;</td><td>&quot;None&quot;</td><td>&quot;None&quot;</td><td>&quot;None&quot;</td><td>&quot;None&quot;</td><td>&quot;None&quot;</td><td>&quot;None&quot;</td><td>&quot;None&quot;</td><td>&quot;None&quot;</td><td>&quot;None&quot;</td><td>&quot;None&quot;</td><td>&quot;binary:logisti…</td><td>&quot;True&quot;</td><td>&quot;None&quot;</td><td>&quot;None&quot;</td><td>&quot;None&quot;</td><td>&quot;None&quot;</td><td>&quot;None&quot;</td><td>&quot;100&quot;</td><td>&quot;None&quot;</td><td>&quot;None&quot;</td><td>&quot;None&quot;</td><td>&quot;None&quot;</td><td>&quot;None&quot;</td><td>&quot;None&quot;</td><td>&quot;None&quot;</td><td>&quot;None&quot;</td><td>&quot;None&quot;</td><td>&quot;None&quot;</td><td>&quot;None&quot;</td><td>&quot;None&quot;</td><td>&quot;unruly-loon-87…</td><td>&quot;/Users/zacklar…</td><td>&quot;LOCAL&quot;</td><td>&quot;[{&quot;run_id&quot;: &quot;2…</td><td>&quot;zacklarsen&quot;</td></tr><tr><td>&quot;1fc461080e3f49…</td><td>&quot;0&quot;</td><td>&quot;FINISHED&quot;</td><td>&quot;/Users/zacklar…</td><td>2023-10-08 20:14:35.493 UTC</td><td>2023-10-08 20:14:37.484 UTC</td><td>&quot;None&quot;</td><td>&quot;None&quot;</td><td>&quot;None&quot;</td><td>&quot;None&quot;</td><td>&quot;None&quot;</td><td>&quot;None&quot;</td><td>&quot;None&quot;</td><td>&quot;None&quot;</td><td>&quot;None&quot;</td><td>&quot;None&quot;</td><td>&quot;None&quot;</td><td>&quot;None&quot;</td><td>&quot;None&quot;</td><td>&quot;None&quot;</td><td>&quot;None&quot;</td><td>&quot;None&quot;</td><td>&quot;None&quot;</td><td>&quot;binary:logisti…</td><td>&quot;True&quot;</td><td>&quot;None&quot;</td><td>&quot;None&quot;</td><td>&quot;None&quot;</td><td>&quot;None&quot;</td><td>&quot;None&quot;</td><td>&quot;100&quot;</td><td>&quot;None&quot;</td><td>&quot;None&quot;</td><td>&quot;None&quot;</td><td>&quot;None&quot;</td><td>&quot;None&quot;</td><td>&quot;None&quot;</td><td>&quot;None&quot;</td><td>&quot;None&quot;</td><td>&quot;None&quot;</td><td>&quot;None&quot;</td><td>&quot;None&quot;</td><td>&quot;None&quot;</td><td>&quot;unleashed-hawk…</td><td>&quot;/Users/zacklar…</td><td>&quot;LOCAL&quot;</td><td>&quot;[{&quot;run_id&quot;: &quot;1…</td><td>&quot;zacklarsen&quot;</td></tr></tbody></table></div>"
      ],
      "text/plain": [
       "shape: (3, 48)\n",
       "┌───────────┬───────────┬──────────┬───────────┬───┬───────────┬───────────┬───────────┬───────────┐\n",
       "│ run_id    ┆ experimen ┆ status   ┆ artifact_ ┆ … ┆ tags.mlfl ┆ tags.mlfl ┆ tags.mlfl ┆ tags.mlfl │\n",
       "│ ---       ┆ t_id      ┆ ---      ┆ uri       ┆   ┆ ow.source ┆ ow.source ┆ ow.log-mo ┆ ow.user   │\n",
       "│ str       ┆ ---       ┆ str      ┆ ---       ┆   ┆ .name     ┆ .type     ┆ del.histo ┆ ---       │\n",
       "│           ┆ str       ┆          ┆ str       ┆   ┆ ---       ┆ ---       ┆ ry        ┆ str       │\n",
       "│           ┆           ┆          ┆           ┆   ┆ str       ┆ str       ┆ ---       ┆           │\n",
       "│           ┆           ┆          ┆           ┆   ┆           ┆           ┆ str       ┆           │\n",
       "╞═══════════╪═══════════╪══════════╪═══════════╪═══╪═══════════╪═══════════╪═══════════╪═══════════╡\n",
       "│ 6183b7ca4 ┆ 0         ┆ FINISHED ┆ /Users/za ┆ … ┆ /Users/za ┆ LOCAL     ┆ [{\"run_id ┆ zacklarse │\n",
       "│ 29c4851b8 ┆           ┆          ┆ cklarsen/ ┆   ┆ cklarsen/ ┆           ┆ \": \"6183b ┆ n         │\n",
       "│ 5d7fd6c97 ┆           ┆          ┆ Documents ┆   ┆ mambaforg ┆           ┆ 7ca429c48 ┆           │\n",
       "│ 43e38     ┆           ┆          ┆ /Proj…    ┆   ┆ e/env…    ┆           ┆ 51b85…    ┆           │\n",
       "│ 23395a9c8 ┆ 0         ┆ FINISHED ┆ /Users/za ┆ … ┆ /Users/za ┆ LOCAL     ┆ [{\"run_id ┆ zacklarse │\n",
       "│ 24a46cdad ┆           ┆          ┆ cklarsen/ ┆   ┆ cklarsen/ ┆           ┆ \": \"23395 ┆ n         │\n",
       "│ c2d5f0943 ┆           ┆          ┆ Documents ┆   ┆ mambaforg ┆           ┆ a9c824a46 ┆           │\n",
       "│ 355b5     ┆           ┆          ┆ /Proj…    ┆   ┆ e/env…    ┆           ┆ cdadc…    ┆           │\n",
       "│ 1fc461080 ┆ 0         ┆ FINISHED ┆ /Users/za ┆ … ┆ /Users/za ┆ LOCAL     ┆ [{\"run_id ┆ zacklarse │\n",
       "│ e3f496196 ┆           ┆          ┆ cklarsen/ ┆   ┆ cklarsen/ ┆           ┆ \": \"1fc46 ┆ n         │\n",
       "│ 6b20282b0 ┆           ┆          ┆ Documents ┆   ┆ mambaforg ┆           ┆ 1080e3f49 ┆           │\n",
       "│ 7fafa     ┆           ┆          ┆ /Proj…    ┆   ┆ e/env…    ┆           ┆ 61966…    ┆           │\n",
       "└───────────┴───────────┴──────────┴───────────┴───┴───────────┴───────────┴───────────┴───────────┘"
      ]
     },
     "execution_count": 17,
     "metadata": {},
     "output_type": "execute_result"
    }
   ],
   "source": [
    "runs_pl"
   ]
  },
  {
   "cell_type": "code",
   "execution_count": 23,
   "metadata": {},
   "outputs": [
    {
     "data": {
      "text/html": [
       "<div><style>\n",
       ".dataframe > thead > tr > th,\n",
       ".dataframe > tbody > tr > td {\n",
       "  text-align: right;\n",
       "  white-space: pre-wrap;\n",
       "}\n",
       "</style>\n",
       "<small>shape: (3, 9)</small><table border=\"1\" class=\"dataframe\"><thead><tr><th>run_id</th><th>experiment_id</th><th>status</th><th>start_time</th><th>end_time</th><th>artifact_uri</th><th>params.objective</th><th>tags.mlflow.runName</th><th>tags.mlflow.log-model.history</th></tr><tr><td>str</td><td>str</td><td>str</td><td>datetime[ns, UTC]</td><td>datetime[ns, UTC]</td><td>str</td><td>str</td><td>str</td><td>str</td></tr></thead><tbody><tr><td>&quot;6183b7ca429c48…</td><td>&quot;0&quot;</td><td>&quot;FINISHED&quot;</td><td>2023-10-08 20:45:54.497 UTC</td><td>2023-10-08 20:45:56.498 UTC</td><td>&quot;/Users/zacklar…</td><td>&quot;binary:logisti…</td><td>&quot;rumbling-eel-6…</td><td>&quot;[{&quot;run_id&quot;: &quot;6…</td></tr><tr><td>&quot;23395a9c824a46…</td><td>&quot;0&quot;</td><td>&quot;FINISHED&quot;</td><td>2023-10-08 20:16:17.328 UTC</td><td>2023-10-08 20:16:18.770 UTC</td><td>&quot;/Users/zacklar…</td><td>&quot;binary:logisti…</td><td>&quot;unruly-loon-87…</td><td>&quot;[{&quot;run_id&quot;: &quot;2…</td></tr><tr><td>&quot;1fc461080e3f49…</td><td>&quot;0&quot;</td><td>&quot;FINISHED&quot;</td><td>2023-10-08 20:14:35.493 UTC</td><td>2023-10-08 20:14:37.484 UTC</td><td>&quot;/Users/zacklar…</td><td>&quot;binary:logisti…</td><td>&quot;unleashed-hawk…</td><td>&quot;[{&quot;run_id&quot;: &quot;1…</td></tr></tbody></table></div>"
      ],
      "text/plain": [
       "shape: (3, 9)\n",
       "┌───────────┬───────────┬──────────┬───────────┬───┬───────────┬───────────┬───────────┬───────────┐\n",
       "│ run_id    ┆ experimen ┆ status   ┆ start_tim ┆ … ┆ artifact_ ┆ params.ob ┆ tags.mlfl ┆ tags.mlfl │\n",
       "│ ---       ┆ t_id      ┆ ---      ┆ e         ┆   ┆ uri       ┆ jective   ┆ ow.runNam ┆ ow.log-mo │\n",
       "│ str       ┆ ---       ┆ str      ┆ ---       ┆   ┆ ---       ┆ ---       ┆ e         ┆ del.histo │\n",
       "│           ┆ str       ┆          ┆ datetime[ ┆   ┆ str       ┆ str       ┆ ---       ┆ ry        │\n",
       "│           ┆           ┆          ┆ ns, UTC]  ┆   ┆           ┆           ┆ str       ┆ ---       │\n",
       "│           ┆           ┆          ┆           ┆   ┆           ┆           ┆           ┆ str       │\n",
       "╞═══════════╪═══════════╪══════════╪═══════════╪═══╪═══════════╪═══════════╪═══════════╪═══════════╡\n",
       "│ 6183b7ca4 ┆ 0         ┆ FINISHED ┆ 2023-10-0 ┆ … ┆ /Users/za ┆ binary:lo ┆ rumbling- ┆ [{\"run_id │\n",
       "│ 29c4851b8 ┆           ┆          ┆ 8 20:45:5 ┆   ┆ cklarsen/ ┆ gistic    ┆ eel-607   ┆ \": \"6183b │\n",
       "│ 5d7fd6c97 ┆           ┆          ┆ 4.497 UTC ┆   ┆ Documents ┆           ┆           ┆ 7ca429c48 │\n",
       "│ 43e38     ┆           ┆          ┆           ┆   ┆ /Proj…    ┆           ┆           ┆ 51b85…    │\n",
       "│ 23395a9c8 ┆ 0         ┆ FINISHED ┆ 2023-10-0 ┆ … ┆ /Users/za ┆ binary:lo ┆ unruly-lo ┆ [{\"run_id │\n",
       "│ 24a46cdad ┆           ┆          ┆ 8 20:16:1 ┆   ┆ cklarsen/ ┆ gistic    ┆ on-873    ┆ \": \"23395 │\n",
       "│ c2d5f0943 ┆           ┆          ┆ 7.328 UTC ┆   ┆ Documents ┆           ┆           ┆ a9c824a46 │\n",
       "│ 355b5     ┆           ┆          ┆           ┆   ┆ /Proj…    ┆           ┆           ┆ cdadc…    │\n",
       "│ 1fc461080 ┆ 0         ┆ FINISHED ┆ 2023-10-0 ┆ … ┆ /Users/za ┆ binary:lo ┆ unleashed ┆ [{\"run_id │\n",
       "│ e3f496196 ┆           ┆          ┆ 8 20:14:3 ┆   ┆ cklarsen/ ┆ gistic    ┆ -hawk-384 ┆ \": \"1fc46 │\n",
       "│ 6b20282b0 ┆           ┆          ┆ 5.493 UTC ┆   ┆ Documents ┆           ┆           ┆ 1080e3f49 │\n",
       "│ 7fafa     ┆           ┆          ┆           ┆   ┆ /Proj…    ┆           ┆           ┆ 61966…    │\n",
       "└───────────┴───────────┴──────────┴───────────┴───┴───────────┴───────────┴───────────┴───────────┘"
      ]
     },
     "execution_count": 23,
     "metadata": {},
     "output_type": "execute_result"
    }
   ],
   "source": [
    "(\n",
    "    runs_pl\n",
    "    .select(pl.col(\"run_id\", \"experiment_id\", \"status\", \"start_time\",\n",
    "                   \"end_time\", \"artifact_uri\", \"params.objective\",\n",
    "                   \"tags.mlflow.runName\", \"tags.mlflow.log-model.history\"))\n",
    ")"
   ]
  },
  {
   "cell_type": "code",
   "execution_count": 24,
   "metadata": {},
   "outputs": [
    {
     "data": {
      "text/html": [
       "<div><style>\n",
       ".dataframe > thead > tr > th,\n",
       ".dataframe > tbody > tr > td {\n",
       "  text-align: right;\n",
       "  white-space: pre-wrap;\n",
       "}\n",
       "</style>\n",
       "<small>shape: (3, 7)</small><table border=\"1\" class=\"dataframe\"><thead><tr><th>run_id</th><th>experiment_id</th><th>start_time</th><th>end_time</th><th>artifact_uri</th><th>tags.mlflow.runName</th><th>tags.mlflow.log-model.history</th></tr><tr><td>str</td><td>str</td><td>datetime[ns, UTC]</td><td>datetime[ns, UTC]</td><td>str</td><td>str</td><td>str</td></tr></thead><tbody><tr><td>&quot;6183b7ca429c48…</td><td>&quot;0&quot;</td><td>2023-10-08 20:45:54.497 UTC</td><td>2023-10-08 20:45:56.498 UTC</td><td>&quot;/Users/zacklar…</td><td>&quot;rumbling-eel-6…</td><td>&quot;[{&quot;run_id&quot;: &quot;6…</td></tr><tr><td>&quot;23395a9c824a46…</td><td>&quot;0&quot;</td><td>2023-10-08 20:16:17.328 UTC</td><td>2023-10-08 20:16:18.770 UTC</td><td>&quot;/Users/zacklar…</td><td>&quot;unruly-loon-87…</td><td>&quot;[{&quot;run_id&quot;: &quot;2…</td></tr><tr><td>&quot;1fc461080e3f49…</td><td>&quot;0&quot;</td><td>2023-10-08 20:14:35.493 UTC</td><td>2023-10-08 20:14:37.484 UTC</td><td>&quot;/Users/zacklar…</td><td>&quot;unleashed-hawk…</td><td>&quot;[{&quot;run_id&quot;: &quot;1…</td></tr></tbody></table></div>"
      ],
      "text/plain": [
       "shape: (3, 7)\n",
       "┌──────────────┬─────────────┬─────────────┬─────────────┬─────────────┬─────────────┬─────────────┐\n",
       "│ run_id       ┆ experiment_ ┆ start_time  ┆ end_time    ┆ artifact_ur ┆ tags.mlflow ┆ tags.mlflow │\n",
       "│ ---          ┆ id          ┆ ---         ┆ ---         ┆ i           ┆ .runName    ┆ .log-model. │\n",
       "│ str          ┆ ---         ┆ datetime[ns ┆ datetime[ns ┆ ---         ┆ ---         ┆ history     │\n",
       "│              ┆ str         ┆ , UTC]      ┆ , UTC]      ┆ str         ┆ str         ┆ ---         │\n",
       "│              ┆             ┆             ┆             ┆             ┆             ┆ str         │\n",
       "╞══════════════╪═════════════╪═════════════╪═════════════╪═════════════╪═════════════╪═════════════╡\n",
       "│ 6183b7ca429c ┆ 0           ┆ 2023-10-08  ┆ 2023-10-08  ┆ /Users/zack ┆ rumbling-ee ┆ [{\"run_id\": │\n",
       "│ 4851b85d7fd6 ┆             ┆ 20:45:54.49 ┆ 20:45:56.49 ┆ larsen/Docu ┆ l-607       ┆ \"6183b7ca42 │\n",
       "│ c9743e38     ┆             ┆ 7 UTC       ┆ 8 UTC       ┆ ments/Proj… ┆             ┆ 9c4851b85…  │\n",
       "│ 23395a9c824a ┆ 0           ┆ 2023-10-08  ┆ 2023-10-08  ┆ /Users/zack ┆ unruly-loon ┆ [{\"run_id\": │\n",
       "│ 46cdadc2d5f0 ┆             ┆ 20:16:17.32 ┆ 20:16:18.77 ┆ larsen/Docu ┆ -873        ┆ \"23395a9c82 │\n",
       "│ 943355b5     ┆             ┆ 8 UTC       ┆ 0 UTC       ┆ ments/Proj… ┆             ┆ 4a46cdadc…  │\n",
       "│ 1fc461080e3f ┆ 0           ┆ 2023-10-08  ┆ 2023-10-08  ┆ /Users/zack ┆ unleashed-h ┆ [{\"run_id\": │\n",
       "│ 4961966b2028 ┆             ┆ 20:14:35.49 ┆ 20:14:37.48 ┆ larsen/Docu ┆ awk-384     ┆ \"1fc461080e │\n",
       "│ 2b07fafa     ┆             ┆ 3 UTC       ┆ 4 UTC       ┆ ments/Proj… ┆             ┆ 3f4961966…  │\n",
       "└──────────────┴─────────────┴─────────────┴─────────────┴─────────────┴─────────────┴─────────────┘"
      ]
     },
     "execution_count": 24,
     "metadata": {},
     "output_type": "execute_result"
    }
   ],
   "source": [
    "(\n",
    "    runs_pl\n",
    "    .select(pl.col(\"run_id\", \"experiment_id\", \"start_time\",\n",
    "                   \"end_time\", \"artifact_uri\",\n",
    "                   \"tags.mlflow.runName\", \"tags.mlflow.log-model.history\"))\n",
    ")"
   ]
  },
  {
   "cell_type": "code",
   "execution_count": 25,
   "metadata": {},
   "outputs": [
    {
     "data": {
      "text/html": [
       "<div><style>\n",
       ".dataframe > thead > tr > th,\n",
       ".dataframe > tbody > tr > td {\n",
       "  text-align: right;\n",
       "  white-space: pre-wrap;\n",
       "}\n",
       "</style>\n",
       "<small>shape: (3, 2)</small><table border=\"1\" class=\"dataframe\"><thead><tr><th>run_id</th><th>artifact_uri</th></tr><tr><td>str</td><td>str</td></tr></thead><tbody><tr><td>&quot;6183b7ca429c48…</td><td>&quot;/Users/zacklar…</td></tr><tr><td>&quot;23395a9c824a46…</td><td>&quot;/Users/zacklar…</td></tr><tr><td>&quot;1fc461080e3f49…</td><td>&quot;/Users/zacklar…</td></tr></tbody></table></div>"
      ],
      "text/plain": [
       "shape: (3, 2)\n",
       "┌──────────────────────────────────┬───────────────────────────────────┐\n",
       "│ run_id                           ┆ artifact_uri                      │\n",
       "│ ---                              ┆ ---                               │\n",
       "│ str                              ┆ str                               │\n",
       "╞══════════════════════════════════╪═══════════════════════════════════╡\n",
       "│ 6183b7ca429c4851b85d7fd6c9743e38 ┆ /Users/zacklarsen/Documents/Proj… │\n",
       "│ 23395a9c824a46cdadc2d5f0943355b5 ┆ /Users/zacklarsen/Documents/Proj… │\n",
       "│ 1fc461080e3f4961966b20282b07fafa ┆ /Users/zacklarsen/Documents/Proj… │\n",
       "└──────────────────────────────────┴───────────────────────────────────┘"
      ]
     },
     "execution_count": 25,
     "metadata": {},
     "output_type": "execute_result"
    }
   ],
   "source": [
    "(\n",
    "    runs_pl\n",
    "    .select(pl.col(\"run_id\", \"artifact_uri\"))\n",
    ")"
   ]
  },
  {
   "cell_type": "code",
   "execution_count": 26,
   "metadata": {},
   "outputs": [
    {
     "data": {
      "text/html": [
       "<div><style>\n",
       ".dataframe > thead > tr > th,\n",
       ".dataframe > tbody > tr > td {\n",
       "  text-align: right;\n",
       "  white-space: pre-wrap;\n",
       "}\n",
       "</style>\n",
       "<small>shape: (3, 3)</small><table border=\"1\" class=\"dataframe\"><thead><tr><th>run_id</th><th>artifact_uri</th><th>tags.mlflow.log-model.history</th></tr><tr><td>str</td><td>str</td><td>str</td></tr></thead><tbody><tr><td>&quot;6183b7ca429c48…</td><td>&quot;/Users/zacklar…</td><td>&quot;[{&quot;run_id&quot;: &quot;6…</td></tr><tr><td>&quot;23395a9c824a46…</td><td>&quot;/Users/zacklar…</td><td>&quot;[{&quot;run_id&quot;: &quot;2…</td></tr><tr><td>&quot;1fc461080e3f49…</td><td>&quot;/Users/zacklar…</td><td>&quot;[{&quot;run_id&quot;: &quot;1…</td></tr></tbody></table></div>"
      ],
      "text/plain": [
       "shape: (3, 3)\n",
       "┌────────────────────────────────┬────────────────────────────────┬────────────────────────────────┐\n",
       "│ run_id                         ┆ artifact_uri                   ┆ tags.mlflow.log-model.history  │\n",
       "│ ---                            ┆ ---                            ┆ ---                            │\n",
       "│ str                            ┆ str                            ┆ str                            │\n",
       "╞════════════════════════════════╪════════════════════════════════╪════════════════════════════════╡\n",
       "│ 6183b7ca429c4851b85d7fd6c9743e ┆ /Users/zacklarsen/Documents/Pr ┆ [{\"run_id\":                    │\n",
       "│ 38                             ┆ oj…                            ┆ \"6183b7ca429c4851b85…          │\n",
       "│ 23395a9c824a46cdadc2d5f0943355 ┆ /Users/zacklarsen/Documents/Pr ┆ [{\"run_id\":                    │\n",
       "│ b5                             ┆ oj…                            ┆ \"23395a9c824a46cdadc…          │\n",
       "│ 1fc461080e3f4961966b20282b07fa ┆ /Users/zacklarsen/Documents/Pr ┆ [{\"run_id\":                    │\n",
       "│ fa                             ┆ oj…                            ┆ \"1fc461080e3f4961966…          │\n",
       "└────────────────────────────────┴────────────────────────────────┴────────────────────────────────┘"
      ]
     },
     "execution_count": 26,
     "metadata": {},
     "output_type": "execute_result"
    }
   ],
   "source": [
    "(\n",
    "    runs_pl\n",
    "    .select(pl.col(\"run_id\", \"artifact_uri\", \"tags.mlflow.log-model.history\"))\n",
    ")"
   ]
  },
  {
   "cell_type": "code",
   "execution_count": null,
   "metadata": {},
   "outputs": [],
   "source": []
  }
 ],
 "metadata": {
  "kernelspec": {
   "display_name": "wids2020",
   "language": "python",
   "name": "python3"
  },
  "language_info": {
   "codemirror_mode": {
    "name": "ipython",
    "version": 3
   },
   "file_extension": ".py",
   "mimetype": "text/x-python",
   "name": "python",
   "nbconvert_exporter": "python",
   "pygments_lexer": "ipython3",
   "version": "3.10.13"
  },
  "orig_nbformat": 4
 },
 "nbformat": 4,
 "nbformat_minor": 2
}
