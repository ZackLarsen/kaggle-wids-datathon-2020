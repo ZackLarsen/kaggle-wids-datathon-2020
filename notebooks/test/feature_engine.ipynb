{
 "cells": [
  {
   "cell_type": "code",
   "execution_count": 2,
   "metadata": {},
   "outputs": [],
   "source": [
    "import polars as pl\n",
    "import polars.selectors as cs\n",
    "import pandas as pd\n",
    "from feature_engine.encoding import RareLabelEncoder"
   ]
  },
  {
   "cell_type": "code",
   "execution_count": 5,
   "metadata": {},
   "outputs": [],
   "source": [
    "X_train = pl.read_parquet('../../data/X_train.parquet')"
   ]
  },
  {
   "cell_type": "code",
   "execution_count": 7,
   "metadata": {},
   "outputs": [
    {
     "ename": "ValueError",
     "evalue": "Some of the variables in the dataset contain NaN. Check and remove those before using this transformer or set the parameter `missing_values='ignore'` when initialising this transformer.",
     "output_type": "error",
     "traceback": [
      "\u001b[0;31m---------------------------------------------------------------------------\u001b[0m",
      "\u001b[0;31mValueError\u001b[0m                                Traceback (most recent call last)",
      "\u001b[1;32m/Users/zacklarsen/Documents/Projects/kaggle-wids-datathon-2020/notebooks/test/feature_engine.ipynb Cell 3\u001b[0m line \u001b[0;36m2\n\u001b[1;32m      <a href='vscode-notebook-cell:/Users/zacklarsen/Documents/Projects/kaggle-wids-datathon-2020/notebooks/test/feature_engine.ipynb#W3sZmlsZQ%3D%3D?line=0'>1</a>\u001b[0m rare_encoder \u001b[39m=\u001b[39m RareLabelEncoder(tol\u001b[39m=\u001b[39m\u001b[39m0.10\u001b[39m, n_categories\u001b[39m=\u001b[39m\u001b[39m3\u001b[39m)\n\u001b[0;32m----> <a href='vscode-notebook-cell:/Users/zacklarsen/Documents/Projects/kaggle-wids-datathon-2020/notebooks/test/feature_engine.ipynb#W3sZmlsZQ%3D%3D?line=1'>2</a>\u001b[0m data_encoded \u001b[39m=\u001b[39m rare_encoder\u001b[39m.\u001b[39;49mfit_transform(X_train\u001b[39m.\u001b[39;49mto_pandas())\n",
      "File \u001b[0;32m~/mambaforge/envs/wids2020/lib/python3.10/site-packages/sklearn/utils/_set_output.py:157\u001b[0m, in \u001b[0;36m_wrap_method_output.<locals>.wrapped\u001b[0;34m(self, X, *args, **kwargs)\u001b[0m\n\u001b[1;32m    155\u001b[0m \u001b[39m@wraps\u001b[39m(f)\n\u001b[1;32m    156\u001b[0m \u001b[39mdef\u001b[39;00m \u001b[39mwrapped\u001b[39m(\u001b[39mself\u001b[39m, X, \u001b[39m*\u001b[39margs, \u001b[39m*\u001b[39m\u001b[39m*\u001b[39mkwargs):\n\u001b[0;32m--> 157\u001b[0m     data_to_wrap \u001b[39m=\u001b[39m f(\u001b[39mself\u001b[39;49m, X, \u001b[39m*\u001b[39;49margs, \u001b[39m*\u001b[39;49m\u001b[39m*\u001b[39;49mkwargs)\n\u001b[1;32m    158\u001b[0m     \u001b[39mif\u001b[39;00m \u001b[39misinstance\u001b[39m(data_to_wrap, \u001b[39mtuple\u001b[39m):\n\u001b[1;32m    159\u001b[0m         \u001b[39m# only wrap the first output for cross decomposition\u001b[39;00m\n\u001b[1;32m    160\u001b[0m         return_tuple \u001b[39m=\u001b[39m (\n\u001b[1;32m    161\u001b[0m             _wrap_data_with_container(method, data_to_wrap[\u001b[39m0\u001b[39m], X, \u001b[39mself\u001b[39m),\n\u001b[1;32m    162\u001b[0m             \u001b[39m*\u001b[39mdata_to_wrap[\u001b[39m1\u001b[39m:],\n\u001b[1;32m    163\u001b[0m         )\n",
      "File \u001b[0;32m~/mambaforge/envs/wids2020/lib/python3.10/site-packages/sklearn/base.py:916\u001b[0m, in \u001b[0;36mTransformerMixin.fit_transform\u001b[0;34m(self, X, y, **fit_params)\u001b[0m\n\u001b[1;32m    912\u001b[0m \u001b[39m# non-optimized default implementation; override when a better\u001b[39;00m\n\u001b[1;32m    913\u001b[0m \u001b[39m# method is possible for a given clustering algorithm\u001b[39;00m\n\u001b[1;32m    914\u001b[0m \u001b[39mif\u001b[39;00m y \u001b[39mis\u001b[39;00m \u001b[39mNone\u001b[39;00m:\n\u001b[1;32m    915\u001b[0m     \u001b[39m# fit method of arity 1 (unsupervised transformation)\u001b[39;00m\n\u001b[0;32m--> 916\u001b[0m     \u001b[39mreturn\u001b[39;00m \u001b[39mself\u001b[39;49m\u001b[39m.\u001b[39;49mfit(X, \u001b[39m*\u001b[39;49m\u001b[39m*\u001b[39;49mfit_params)\u001b[39m.\u001b[39mtransform(X)\n\u001b[1;32m    917\u001b[0m \u001b[39melse\u001b[39;00m:\n\u001b[1;32m    918\u001b[0m     \u001b[39m# fit method of arity 2 (supervised transformation)\u001b[39;00m\n\u001b[1;32m    919\u001b[0m     \u001b[39mreturn\u001b[39;00m \u001b[39mself\u001b[39m\u001b[39m.\u001b[39mfit(X, y, \u001b[39m*\u001b[39m\u001b[39m*\u001b[39mfit_params)\u001b[39m.\u001b[39mtransform(X)\n",
      "File \u001b[0;32m~/mambaforge/envs/wids2020/lib/python3.10/site-packages/feature_engine/encoding/rare_label.py:194\u001b[0m, in \u001b[0;36mRareLabelEncoder.fit\u001b[0;34m(self, X, y)\u001b[0m\n\u001b[1;32m    192\u001b[0m X \u001b[39m=\u001b[39m check_X(X)\n\u001b[1;32m    193\u001b[0m variables_ \u001b[39m=\u001b[39m \u001b[39mself\u001b[39m\u001b[39m.\u001b[39m_check_or_select_variables(X)\n\u001b[0;32m--> 194\u001b[0m \u001b[39mself\u001b[39;49m\u001b[39m.\u001b[39;49m_check_na(X, variables_)\n\u001b[1;32m    196\u001b[0m \u001b[39mself\u001b[39m\u001b[39m.\u001b[39mencoder_dict_ \u001b[39m=\u001b[39m {}\n\u001b[1;32m    198\u001b[0m \u001b[39mfor\u001b[39;00m var \u001b[39min\u001b[39;00m variables_:\n",
      "File \u001b[0;32m~/mambaforge/envs/wids2020/lib/python3.10/site-packages/feature_engine/encoding/base_encoder.py:113\u001b[0m, in \u001b[0;36mCategoricalMethodsMixin._check_na\u001b[0;34m(self, X, variables)\u001b[0m\n\u001b[1;32m    111\u001b[0m \u001b[39mdef\u001b[39;00m \u001b[39m_check_na\u001b[39m(\u001b[39mself\u001b[39m, X: pd\u001b[39m.\u001b[39mDataFrame, variables):\n\u001b[1;32m    112\u001b[0m     \u001b[39mif\u001b[39;00m \u001b[39mself\u001b[39m\u001b[39m.\u001b[39mmissing_values \u001b[39m==\u001b[39m \u001b[39m\"\u001b[39m\u001b[39mraise\u001b[39m\u001b[39m\"\u001b[39m:\n\u001b[0;32m--> 113\u001b[0m         _check_optional_contains_na(X, variables)\n",
      "File \u001b[0;32m~/mambaforge/envs/wids2020/lib/python3.10/site-packages/feature_engine/dataframe_checks.py:294\u001b[0m, in \u001b[0;36m_check_optional_contains_na\u001b[0;34m(X, variables)\u001b[0m\n\u001b[1;32m    277\u001b[0m \u001b[39m\u001b[39m\u001b[39m\"\"\"\u001b[39;00m\n\u001b[1;32m    278\u001b[0m \u001b[39mChecks if DataFrame contains null values in the selected columns.\u001b[39;00m\n\u001b[1;32m    279\u001b[0m \n\u001b[0;32m   (...)\u001b[0m\n\u001b[1;32m    290\u001b[0m \u001b[39m    If the variable(s) contain null values.\u001b[39;00m\n\u001b[1;32m    291\u001b[0m \u001b[39m\"\"\"\u001b[39;00m\n\u001b[1;32m    293\u001b[0m \u001b[39mif\u001b[39;00m X[variables]\u001b[39m.\u001b[39misnull()\u001b[39m.\u001b[39many()\u001b[39m.\u001b[39many():\n\u001b[0;32m--> 294\u001b[0m     \u001b[39mraise\u001b[39;00m \u001b[39mValueError\u001b[39;00m(\n\u001b[1;32m    295\u001b[0m         \u001b[39m\"\u001b[39m\u001b[39mSome of the variables in the dataset contain NaN. Check and \u001b[39m\u001b[39m\"\u001b[39m\n\u001b[1;32m    296\u001b[0m         \u001b[39m\"\u001b[39m\u001b[39mremove those before using this transformer or set the parameter \u001b[39m\u001b[39m\"\u001b[39m\n\u001b[1;32m    297\u001b[0m         \u001b[39m\"\u001b[39m\u001b[39m`missing_values=\u001b[39m\u001b[39m'\u001b[39m\u001b[39mignore\u001b[39m\u001b[39m'\u001b[39m\u001b[39m` when initialising this transformer.\u001b[39m\u001b[39m\"\u001b[39m\n\u001b[1;32m    298\u001b[0m     )\n",
      "\u001b[0;31mValueError\u001b[0m: Some of the variables in the dataset contain NaN. Check and remove those before using this transformer or set the parameter `missing_values='ignore'` when initialising this transformer."
     ]
    }
   ],
   "source": [
    "rare_encoder = RareLabelEncoder(tol=0.10, n_categories=3)\n",
    "data_encoded = rare_encoder.fit_transform(X_train.to_pandas())"
   ]
  },
  {
   "cell_type": "code",
   "execution_count": null,
   "metadata": {},
   "outputs": [],
   "source": [
    "data_encoded['var_A'].value_counts()"
   ]
  },
  {
   "cell_type": "code",
   "execution_count": null,
   "metadata": {},
   "outputs": [],
   "source": []
  }
 ],
 "metadata": {
  "kernelspec": {
   "display_name": "wids2020",
   "language": "python",
   "name": "python3"
  },
  "language_info": {
   "codemirror_mode": {
    "name": "ipython",
    "version": 3
   },
   "file_extension": ".py",
   "mimetype": "text/x-python",
   "name": "python",
   "nbconvert_exporter": "python",
   "pygments_lexer": "ipython3",
   "version": "3.10.13"
  }
 },
 "nbformat": 4,
 "nbformat_minor": 2
}
