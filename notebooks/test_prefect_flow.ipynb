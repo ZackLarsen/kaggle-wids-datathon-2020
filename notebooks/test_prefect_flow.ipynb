{
 "cells": [
  {
   "cell_type": "code",
   "execution_count": 39,
   "metadata": {},
   "outputs": [],
   "source": [
    "from pathlib import Path\n",
    "from prefect import flow, task, get_run_logger\n",
    "import polars as pl\n",
    "import polars.selectors as cs\n",
    "import pandas as pd\n",
    "import mlflow\n",
    "from sklearn.model_selection import train_test_split\n",
    "from sklearn.metrics import accuracy_score, precision_score, recall_score, f1_score, roc_auc_score\n",
    "import xgboost as xgb"
   ]
  },
  {
   "cell_type": "code",
   "execution_count": 13,
   "metadata": {},
   "outputs": [],
   "source": [
    "data_path = \"/Users/zacklarsen/Documents/Projects/kaggle-wids-datathon-2020/data/\"\n",
    "training_v2_path = Path(data_path, \"training_v2.csv\")"
   ]
  },
  {
   "cell_type": "code",
   "execution_count": 15,
   "metadata": {},
   "outputs": [
    {
     "data": {
      "text/plain": [
       "PosixPath('/Users/zacklarsen/Documents/Projects/kaggle-wids-datathon-2020/data/training_v2.csv')"
      ]
     },
     "execution_count": 15,
     "metadata": {},
     "output_type": "execute_result"
    }
   ],
   "source": [
    "training_v2_path"
   ]
  },
  {
   "cell_type": "code",
   "execution_count": 3,
   "metadata": {},
   "outputs": [
    {
     "name": "stdout",
     "output_type": "stream",
     "text": [
      "encounter_id,patient_id,hospital_id,hospital_death,age,bmi,elective_surgery,ethnicity,gender,height,hospital_admit_source,icu_admit_source,icu_id,icu_stay_type,icu_type,pre_icu_los_days,readmission_status,weight,albumin_apache,apache_2_diagnosis,apache_3j_diagnosis,apache_post_operative,arf_apache,bilirubin_apache,bun_apache,creatinine_apache,fio2_apache,gcs_eyes_apache,gcs_motor_apache,gcs_unable_apache,gcs_verbal_apache,glucose_apache,heart_rate_apache,hematocrit_apache,intubated_apache,map_apache,paco2_apache,paco2_for_ph_apache,pao2_apache,ph_apache,resprate_apache,sodium_apache,temp_apache,urineoutput_apache,ventilated_apache,wbc_apache,d1_diasbp_invasive_max,d1_diasbp_invasive_min,d1_diasbp_max,d1_diasbp_min,d1_diasbp_noninvasive_max,d1_diasbp_noninvasive_min,d1_heartrate_max,d1_heartrate_min,d1_mbp_invasive_max,d1_mbp_invasive_min,d1_mbp_max,d1_mbp_min,d1_mbp_noninvasive_max,d1_mbp_noninvasive_min,d1_resprate_max,d1_resprate_min,d1_spo2_max,d1_spo2_min,d1_sysbp_invasive_max,d1_sysbp_invasive_min,d1_sysbp_max,d1_sysbp_min,d1_sysbp_noninvasive_max,d1_sysbp_noninvasive_min,d1_temp_max,d1_temp_min,h1_diasbp_invasive_max,h1_diasbp_invasive_min,h1_diasbp_max,h1_diasbp_min,h1_diasbp_noninvasive_max,h1_diasbp_noninvasive_min,h1_heartrate_max,h1_heartrate_min,h1_mbp_invasive_max,h1_mbp_invasive_min,h1_mbp_max,h1_mbp_min,h1_mbp_noninvasive_max,h1_mbp_noninvasive_min,h1_resprate_max,h1_resprate_min,h1_spo2_max,h1_spo2_min,h1_sysbp_invasive_max,h1_sysbp_invasive_min,h1_sysbp_max,h1_sysbp_min,h1_sysbp_noninvasive_max,h1_sysbp_noninvasive_min,h1_temp_max,h1_temp_min,d1_albumin_max,d1_albumin_min,d1_bilirubin_max,d1_bilirubin_min,d1_bun_max,d1_bun_min,d1_calcium_max,d1_calcium_min,d1_creatinine_max,d1_creatinine_min,d1_glucose_max,d1_glucose_min,d1_hco3_max,d1_hco3_min,d1_hemaglobin_max,d1_hemaglobin_min,d1_hematocrit_max,d1_hematocrit_min,d1_inr_max,d1_inr_min,d1_lactate_max,d1_lactate_min,d1_platelets_max,d1_platelets_min,d1_potassium_max,d1_potassium_min,d1_sodium_max,d1_sodium_min,d1_wbc_max,d1_wbc_min,h1_albumin_max,h1_albumin_min,h1_bilirubin_max,h1_bilirubin_min,h1_bun_max,h1_bun_min,h1_calcium_max,h1_calcium_min,h1_creatinine_max,h1_creatinine_min,h1_glucose_max,h1_glucose_min,h1_hco3_max,h1_hco3_min,h1_hemaglobin_max,h1_hemaglobin_min,h1_hematocrit_max,h1_hematocrit_min,h1_inr_max,h1_inr_min,h1_lactate_max,h1_lactate_min,h1_platelets_max,h1_platelets_min,h1_potassium_max,h1_potassium_min,h1_sodium_max,h1_sodium_min,h1_wbc_max,h1_wbc_min,d1_arterial_pco2_max,d1_arterial_pco2_min,d1_arterial_ph_max,d1_arterial_ph_min,d1_arterial_po2_max,d1_arterial_po2_min,d1_pao2fio2ratio_max,d1_pao2fio2ratio_min,h1_arterial_pco2_max,h1_arterial_pco2_min,h1_arterial_ph_max,h1_arterial_ph_min,h1_arterial_po2_max,h1_arterial_po2_min,h1_pao2fio2ratio_max,h1_pao2fio2ratio_min,apache_4a_hospital_death_prob,apache_4a_icu_death_prob,aids,cirrhosis,diabetes_mellitus,hepatic_failure,immunosuppression,leukemia,lymphoma,solid_tumor_with_metastasis,apache_3j_bodysystem,apache_2_bodysystem\n",
      "66154,25312,118,0,68,22.73,0,Caucasian,M,180.3,Floor,Floor,92,admit,CTICU,0.541666667,0,73.9,2.3,113,502.01,0,0,0.4,31,2.51,NA,3,6,0,4,168,118,27.4,0,40,NA,NA,NA,NA,36,134,39.3,NA,0,14.1,46,32,68,37,68,37,119,72,66,40,89,46,89,46,34,10,100,74,122,64,131,73,131,73,39.9,37.2,NA,NA,68,63,68,63,119,108,NA,NA,86,85,86,85,26,18,100,74,NA,NA,131,115,131,115,39.5,37.5,2.3,2.3,0.4,0.4,31,30,8.5,7.4,2.51,2.23,168,109,19,15,8.9,8.9,27.4,27.4,NA,NA,1.3,1,233,233,4,3.4,136,134,14.1,14.1,NA,NA,NA,NA,NA,NA,NA,NA,NA,NA,NA,NA,NA,NA,NA,NA,NA,NA,NA,NA,NA,NA,NA,NA,NA,NA,NA,NA,NA,NA,NA,NA,NA,NA,NA,NA,NA,NA,NA,NA,NA,NA,NA,NA,NA,NA,0.1,0.05,0,0,1,0,0,0,0,0,Sepsis,Cardiovascular\n",
      "114252,59342,81,0,77,27.42,0,Caucasian,F,160,Floor,Floor,90,admit,Med-Surg ICU,0.927777778,0,70.2,NA,108,203.01,0,0,NA,9,0.56,1,1,3,0,1,145,120,36.9,0,46,37,37,51,7.45,33,145,35.1,NA,1,12.7,NA,NA,95,31,95,31,118,72,NA,NA,120,38,120,38,32,12,100,70,NA,NA,159,67,159,67,36.3,35.1,NA,NA,61,48,61,48,114,100,NA,NA,85,57,85,57,31,28,95,70,NA,NA,95,71,95,71,36.3,36.3,1.6,1.6,0.5,0.5,11,9,8.6,8,0.71,0.56,145,128,27,26,11.3,11.1,36.9,36.1,1.3,1.3,3.5,3.5,557,487,4.2,3.8,145,145,23.3,12.7,NA,NA,NA,NA,9,9,8.6,8.6,0.56,0.56,145,143,27,27,11.3,11.3,36.9,36.9,1.3,1.3,3.5,3.5,557,557,4.2,4.2,145,145,12.7,12.7,37,37,7.45,7.45,51,51,54.8,51,37,37,7.45,7.45,51,51,51,51,0.47,0.29,0,0,1,0,0,0,0,0,Respiratory,Respiratory\n",
      "119783,50777,118,0,25,31.95,0,Caucasian,F,172.7,Emergency Department,Accident & Emergency,93,admit,Med-Surg ICU,0.000694444,0,95.3,NA,122,703.03,0,0,NA,NA,NA,NA,3,6,0,5,NA,102,NA,0,68,NA,NA,NA,NA,37,NA,36.7,NA,0,NA,NA,NA,88,48,88,48,96,68,NA,NA,102,68,102,68,21,8,98,91,NA,NA,148,105,148,105,37,36.7,NA,NA,88,58,88,58,96,78,NA,NA,91,83,91,83,20,16,98,91,NA,NA,148,124,148,124,36.7,36.7,NA,NA,NA,NA,NA,NA,NA,NA,NA,NA,NA,NA,NA,NA,NA,NA,NA,NA,NA,NA,NA,NA,NA,NA,NA,NA,NA,NA,NA,NA,NA,NA,NA,NA,NA,NA,NA,NA,NA,NA,NA,NA,NA,NA,NA,NA,NA,NA,NA,NA,NA,NA,NA,NA,NA,NA,NA,NA,NA,NA,NA,NA,NA,NA,NA,NA,NA,NA,NA,NA,NA,NA,NA,NA,NA,NA,0,0,0,0,0,0,0,0,0,0,Metabolic,Metabolic\n",
      "79267,46918,118,0,81,22.64,1,Caucasian,F,165.1,Operating Room,Operating Room / Recovery,92,admit,CTICU,0.000694444,0,61.7,NA,203,1206.03,1,0,NA,NA,NA,0.6,4,6,0,5,185,114,25.9,1,60,30,30,142,7.39,4,NA,34.8,NA,1,8,62,30,48,42,48,42,116,92,92,52,84,84,84,84,23,7,100,95,164,78,158,84,158,84,38,34.8,62,44,62,44,NA,NA,100,96,92,71,92,71,NA,NA,12,11,100,99,136,106,136,106,NA,NA,35.6,34.8,NA,NA,NA,NA,NA,NA,NA,NA,NA,NA,185,88,NA,NA,11.6,8.9,34,25.9,1.6,1.1,NA,NA,198,43,5,3.5,NA,NA,9,8,NA,NA,NA,NA,NA,NA,NA,NA,NA,NA,NA,NA,NA,NA,11.6,11.6,34,34,1.6,1.1,NA,NA,43,43,NA,NA,NA,NA,8.8,8.8,37,27,7.44,7.34,337,102,342.5,236.6666667,36,33,7.37,7.34,337,265,337,337,0.04,0.03,0,0,0,0,0,0,0,0,Cardiovascular,Cardiovascular\n"
     ]
    }
   ],
   "source": [
    "%%bash\n",
    "head -n 5 /Users/zacklarsen/Documents/Projects/kaggle-wids-datathon-2020/data/training_v2.csv"
   ]
  },
  {
   "cell_type": "code",
   "execution_count": 4,
   "metadata": {},
   "outputs": [],
   "source": [
    "training_v2 = pl.read_csv(training_v2_path, infer_schema_length=10000, dtypes={\"age\": pl.Float32}, ignore_errors=True)"
   ]
  },
  {
   "cell_type": "code",
   "execution_count": 5,
   "metadata": {},
   "outputs": [
    {
     "data": {
      "text/html": [
       "<div><style>\n",
       ".dataframe > thead > tr > th,\n",
       ".dataframe > tbody > tr > td {\n",
       "  text-align: right;\n",
       "  white-space: pre-wrap;\n",
       "}\n",
       "</style>\n",
       "<small>shape: (1, 186)</small><table border=\"1\" class=\"dataframe\"><thead><tr><th>encounter_id</th><th>patient_id</th><th>hospital_id</th><th>hospital_death</th><th>age</th><th>bmi</th><th>elective_surgery</th><th>ethnicity</th><th>gender</th><th>height</th><th>hospital_admit_source</th><th>icu_admit_source</th><th>icu_id</th><th>icu_stay_type</th><th>icu_type</th><th>pre_icu_los_days</th><th>readmission_status</th><th>weight</th><th>albumin_apache</th><th>apache_2_diagnosis</th><th>apache_3j_diagnosis</th><th>apache_post_operative</th><th>arf_apache</th><th>bilirubin_apache</th><th>bun_apache</th><th>creatinine_apache</th><th>fio2_apache</th><th>gcs_eyes_apache</th><th>gcs_motor_apache</th><th>gcs_unable_apache</th><th>gcs_verbal_apache</th><th>glucose_apache</th><th>heart_rate_apache</th><th>hematocrit_apache</th><th>intubated_apache</th><th>map_apache</th><th>paco2_apache</th><th>&hellip;</th><th>h1_lactate_min</th><th>h1_platelets_max</th><th>h1_platelets_min</th><th>h1_potassium_max</th><th>h1_potassium_min</th><th>h1_sodium_max</th><th>h1_sodium_min</th><th>h1_wbc_max</th><th>h1_wbc_min</th><th>d1_arterial_pco2_max</th><th>d1_arterial_pco2_min</th><th>d1_arterial_ph_max</th><th>d1_arterial_ph_min</th><th>d1_arterial_po2_max</th><th>d1_arterial_po2_min</th><th>d1_pao2fio2ratio_max</th><th>d1_pao2fio2ratio_min</th><th>h1_arterial_pco2_max</th><th>h1_arterial_pco2_min</th><th>h1_arterial_ph_max</th><th>h1_arterial_ph_min</th><th>h1_arterial_po2_max</th><th>h1_arterial_po2_min</th><th>h1_pao2fio2ratio_max</th><th>h1_pao2fio2ratio_min</th><th>apache_4a_hospital_death_prob</th><th>apache_4a_icu_death_prob</th><th>aids</th><th>cirrhosis</th><th>diabetes_mellitus</th><th>hepatic_failure</th><th>immunosuppression</th><th>leukemia</th><th>lymphoma</th><th>solid_tumor_with_metastasis</th><th>apache_3j_bodysystem</th><th>apache_2_bodysystem</th></tr><tr><td>u32</td><td>u32</td><td>u32</td><td>u32</td><td>u32</td><td>u32</td><td>u32</td><td>u32</td><td>u32</td><td>u32</td><td>u32</td><td>u32</td><td>u32</td><td>u32</td><td>u32</td><td>u32</td><td>u32</td><td>u32</td><td>u32</td><td>u32</td><td>u32</td><td>u32</td><td>u32</td><td>u32</td><td>u32</td><td>u32</td><td>u32</td><td>u32</td><td>u32</td><td>u32</td><td>u32</td><td>u32</td><td>u32</td><td>u32</td><td>u32</td><td>u32</td><td>u32</td><td>&hellip;</td><td>u32</td><td>u32</td><td>u32</td><td>u32</td><td>u32</td><td>u32</td><td>u32</td><td>u32</td><td>u32</td><td>u32</td><td>u32</td><td>u32</td><td>u32</td><td>u32</td><td>u32</td><td>u32</td><td>u32</td><td>u32</td><td>u32</td><td>u32</td><td>u32</td><td>u32</td><td>u32</td><td>u32</td><td>u32</td><td>u32</td><td>u32</td><td>u32</td><td>u32</td><td>u32</td><td>u32</td><td>u32</td><td>u32</td><td>u32</td><td>u32</td><td>u32</td><td>u32</td></tr></thead><tbody><tr><td>0</td><td>0</td><td>0</td><td>0</td><td>4228</td><td>0</td><td>0</td><td>1395</td><td>25</td><td>0</td><td>21409</td><td>112</td><td>0</td><td>0</td><td>0</td><td>0</td><td>0</td><td>0</td><td>0</td><td>0</td><td>0</td><td>0</td><td>0</td><td>0</td><td>0</td><td>0</td><td>0</td><td>0</td><td>0</td><td>0</td><td>0</td><td>0</td><td>0</td><td>0</td><td>0</td><td>0</td><td>0</td><td>&hellip;</td><td>0</td><td>0</td><td>0</td><td>0</td><td>0</td><td>0</td><td>0</td><td>0</td><td>0</td><td>0</td><td>0</td><td>0</td><td>0</td><td>0</td><td>0</td><td>0</td><td>0</td><td>0</td><td>0</td><td>0</td><td>0</td><td>0</td><td>0</td><td>0</td><td>0</td><td>0</td><td>0</td><td>0</td><td>0</td><td>0</td><td>0</td><td>0</td><td>0</td><td>0</td><td>0</td><td>1662</td><td>1662</td></tr></tbody></table></div>"
      ],
      "text/plain": [
       "shape: (1, 186)\n",
       "┌───────────┬───────────┬───────────┬───────────┬───┬──────────┬───────────┬───────────┬───────────┐\n",
       "│ encounter ┆ patient_i ┆ hospital_ ┆ hospital_ ┆ … ┆ lymphoma ┆ solid_tum ┆ apache_3j ┆ apache_2_ │\n",
       "│ _id       ┆ d         ┆ id        ┆ death     ┆   ┆ ---      ┆ or_with_m ┆ _bodysyst ┆ bodysyste │\n",
       "│ ---       ┆ ---       ┆ ---       ┆ ---       ┆   ┆ u32      ┆ etastasis ┆ em        ┆ m         │\n",
       "│ u32       ┆ u32       ┆ u32       ┆ u32       ┆   ┆          ┆ ---       ┆ ---       ┆ ---       │\n",
       "│           ┆           ┆           ┆           ┆   ┆          ┆ u32       ┆ u32       ┆ u32       │\n",
       "╞═══════════╪═══════════╪═══════════╪═══════════╪═══╪══════════╪═══════════╪═══════════╪═══════════╡\n",
       "│ 0         ┆ 0         ┆ 0         ┆ 0         ┆ … ┆ 0        ┆ 0         ┆ 1662      ┆ 1662      │\n",
       "└───────────┴───────────┴───────────┴───────────┴───┴──────────┴───────────┴───────────┴───────────┘"
      ]
     },
     "execution_count": 5,
     "metadata": {},
     "output_type": "execute_result"
    }
   ],
   "source": [
    "training_v2.null_count()"
   ]
  },
  {
   "cell_type": "code",
   "execution_count": 6,
   "metadata": {},
   "outputs": [
    {
     "data": {
      "text/html": [
       "<div><style>\n",
       ".dataframe > thead > tr > th,\n",
       ".dataframe > tbody > tr > td {\n",
       "  text-align: right;\n",
       "  white-space: pre-wrap;\n",
       "}\n",
       "</style>\n",
       "<small>shape: (186, 2)</small><table border=\"1\" class=\"dataframe\"><thead><tr><th>column</th><th>column_0</th></tr><tr><td>str</td><td>u32</td></tr></thead><tbody><tr><td>&quot;hospital_admit…</td><td>21409</td></tr><tr><td>&quot;age&quot;</td><td>4228</td></tr><tr><td>&quot;apache_3j_body…</td><td>1662</td></tr><tr><td>&quot;apache_2_bodys…</td><td>1662</td></tr><tr><td>&quot;ethnicity&quot;</td><td>1395</td></tr><tr><td>&quot;icu_admit_sour…</td><td>112</td></tr><tr><td>&quot;gender&quot;</td><td>25</td></tr><tr><td>&quot;encounter_id&quot;</td><td>0</td></tr><tr><td>&quot;patient_id&quot;</td><td>0</td></tr><tr><td>&quot;hospital_id&quot;</td><td>0</td></tr><tr><td>&quot;hospital_death…</td><td>0</td></tr><tr><td>&quot;bmi&quot;</td><td>0</td></tr><tr><td>&hellip;</td><td>&hellip;</td></tr><tr><td>&quot;h1_pao2fio2rat…</td><td>0</td></tr><tr><td>&quot;h1_pao2fio2rat…</td><td>0</td></tr><tr><td>&quot;apache_4a_hosp…</td><td>0</td></tr><tr><td>&quot;apache_4a_icu_…</td><td>0</td></tr><tr><td>&quot;aids&quot;</td><td>0</td></tr><tr><td>&quot;cirrhosis&quot;</td><td>0</td></tr><tr><td>&quot;diabetes_melli…</td><td>0</td></tr><tr><td>&quot;hepatic_failur…</td><td>0</td></tr><tr><td>&quot;immunosuppress…</td><td>0</td></tr><tr><td>&quot;leukemia&quot;</td><td>0</td></tr><tr><td>&quot;lymphoma&quot;</td><td>0</td></tr><tr><td>&quot;solid_tumor_wi…</td><td>0</td></tr></tbody></table></div>"
      ],
      "text/plain": [
       "shape: (186, 2)\n",
       "┌─────────────────────────────┬──────────┐\n",
       "│ column                      ┆ column_0 │\n",
       "│ ---                         ┆ ---      │\n",
       "│ str                         ┆ u32      │\n",
       "╞═════════════════════════════╪══════════╡\n",
       "│ hospital_admit_source       ┆ 21409    │\n",
       "│ age                         ┆ 4228     │\n",
       "│ apache_3j_bodysystem        ┆ 1662     │\n",
       "│ apache_2_bodysystem         ┆ 1662     │\n",
       "│ …                           ┆ …        │\n",
       "│ immunosuppression           ┆ 0        │\n",
       "│ leukemia                    ┆ 0        │\n",
       "│ lymphoma                    ┆ 0        │\n",
       "│ solid_tumor_with_metastasis ┆ 0        │\n",
       "└─────────────────────────────┴──────────┘"
      ]
     },
     "execution_count": 6,
     "metadata": {},
     "output_type": "execute_result"
    }
   ],
   "source": [
    "training_v2.null_count().transpose(include_header=True).sort(by=\"column_0\", descending=True)"
   ]
  },
  {
   "cell_type": "code",
   "execution_count": 7,
   "metadata": {},
   "outputs": [
    {
     "data": {
      "text/html": [
       "<div><style>\n",
       ".dataframe > thead > tr > th,\n",
       ".dataframe > tbody > tr > td {\n",
       "  text-align: right;\n",
       "  white-space: pre-wrap;\n",
       "}\n",
       "</style>\n",
       "<small>shape: (75, 1)</small><table border=\"1\" class=\"dataframe\"><thead><tr><th>age</th></tr><tr><td>struct[2]</td></tr></thead><tbody><tr><td>{39.0,526}</td></tr><tr><td>{34.0,544}</td></tr><tr><td>{54.0,1598}</td></tr><tr><td>{47.0,921}</td></tr><tr><td>{56.0,1651}</td></tr><tr><td>{86.0,1295}</td></tr><tr><td>{80.0,1702}</td></tr><tr><td>{37.0,509}</td></tr><tr><td>{46.0,908}</td></tr><tr><td>{31.0,431}</td></tr><tr><td>{69.0,1935}</td></tr><tr><td>{null,4228}</td></tr><tr><td>&hellip;</td></tr><tr><td>{58.0,1763}</td></tr><tr><td>{21.0,372}</td></tr><tr><td>{45.0,856}</td></tr><tr><td>{77.0,1883}</td></tr><tr><td>{35.0,551}</td></tr><tr><td>{33.0,496}</td></tr><tr><td>{65.0,2051}</td></tr><tr><td>{71.0,2141}</td></tr><tr><td>{62.0,1930}</td></tr><tr><td>{18.0,259}</td></tr><tr><td>{52.0,1484}</td></tr><tr><td>{40.0,573}</td></tr></tbody></table></div>"
      ],
      "text/plain": [
       "shape: (75, 1)\n",
       "┌─────────────┐\n",
       "│ age         │\n",
       "│ ---         │\n",
       "│ struct[2]   │\n",
       "╞═════════════╡\n",
       "│ {39.0,526}  │\n",
       "│ {34.0,544}  │\n",
       "│ {54.0,1598} │\n",
       "│ {47.0,921}  │\n",
       "│ …           │\n",
       "│ {62.0,1930} │\n",
       "│ {18.0,259}  │\n",
       "│ {52.0,1484} │\n",
       "│ {40.0,573}  │\n",
       "└─────────────┘"
      ]
     },
     "execution_count": 7,
     "metadata": {},
     "output_type": "execute_result"
    }
   ],
   "source": [
    "(\n",
    "    training_v2\n",
    "    .select(pl.col(\"age\").value_counts())\n",
    ")"
   ]
  },
  {
   "cell_type": "code",
   "execution_count": 8,
   "metadata": {},
   "outputs": [
    {
     "data": {
      "text/html": [
       "<div><style>\n",
       ".dataframe > thead > tr > th,\n",
       ".dataframe > tbody > tr > td {\n",
       "  text-align: right;\n",
       "  white-space: pre-wrap;\n",
       "}\n",
       "</style>\n",
       "<small>shape: (75, 1)</small><table border=\"1\" class=\"dataframe\"><thead><tr><th>age</th></tr><tr><td>struct[2]</td></tr></thead><tbody><tr><td>{null,4228}</td></tr><tr><td>{67.0,2271}</td></tr><tr><td>{68.0,2173}</td></tr><tr><td>{71.0,2141}</td></tr><tr><td>{72.0,2110}</td></tr><tr><td>{66.0,2059}</td></tr><tr><td>{65.0,2051}</td></tr><tr><td>{70.0,2032}</td></tr><tr><td>{63.0,1977}</td></tr><tr><td>{73.0,1972}</td></tr><tr><td>{64.0,1956}</td></tr><tr><td>{69.0,1935}</td></tr><tr><td>&hellip;</td></tr><tr><td>{29.0,421}</td></tr><tr><td>{25.0,415}</td></tr><tr><td>{27.0,410}</td></tr><tr><td>{24.0,401}</td></tr><tr><td>{23.0,400}</td></tr><tr><td>{22.0,389}</td></tr><tr><td>{21.0,372}</td></tr><tr><td>{19.0,343}</td></tr><tr><td>{20.0,338}</td></tr><tr><td>{18.0,259}</td></tr><tr><td>{17.0,126}</td></tr><tr><td>{16.0,44}</td></tr></tbody></table></div>"
      ],
      "text/plain": [
       "shape: (75, 1)\n",
       "┌─────────────┐\n",
       "│ age         │\n",
       "│ ---         │\n",
       "│ struct[2]   │\n",
       "╞═════════════╡\n",
       "│ {null,4228} │\n",
       "│ {67.0,2271} │\n",
       "│ {68.0,2173} │\n",
       "│ {71.0,2141} │\n",
       "│ …           │\n",
       "│ {20.0,338}  │\n",
       "│ {18.0,259}  │\n",
       "│ {17.0,126}  │\n",
       "│ {16.0,44}   │\n",
       "└─────────────┘"
      ]
     },
     "execution_count": 8,
     "metadata": {},
     "output_type": "execute_result"
    }
   ],
   "source": [
    "(\n",
    "    training_v2\n",
    "    #.drop_nulls()\n",
    "    .select(pl.col(\"age\").value_counts(sort=True))\n",
    ")"
   ]
  },
  {
   "cell_type": "code",
   "execution_count": null,
   "metadata": {},
   "outputs": [],
   "source": []
  },
  {
   "cell_type": "code",
   "execution_count": null,
   "metadata": {},
   "outputs": [],
   "source": []
  },
  {
   "cell_type": "code",
   "execution_count": 31,
   "metadata": {},
   "outputs": [],
   "source": [
    "X_train = pl.read_parquet(data_path + \"X_train.parquet\")\n",
    "y_train = pl.read_parquet(data_path + \"y_train.parquet\")"
   ]
  },
  {
   "cell_type": "code",
   "execution_count": 34,
   "metadata": {},
   "outputs": [
    {
     "name": "stdout",
     "output_type": "stream",
     "text": [
      "Rows: 73370\n",
      "Columns: 185\n",
      "$ encounter_id                  <i64> 59954, 63518, 34401, 71581, 29019, 70076, 63091, 40553, 75009, 94808\n",
      "$ patient_id                    <i64> 90449, 19384, 20558, 112066, 129440, 97970, 42207, 499, 125636, 104142\n",
      "$ hospital_id                   <i64> 118, 185, 188, 62, 161, 89, 161, 186, 62, 128\n",
      "$ age                           <f32> 86.0, 72.0, 36.0, 60.0, 27.0, 71.0, 35.0, 75.0, 72.0, 50.0\n",
      "$ bmi                           <str> '28.16897519', '36.63508791', '27.45968419', '21.97735112', '19.960244', '21.31254263', '29.34003963', '29.1796875', '24.24339532', '22.3046875'\n",
      "$ elective_surgery              <i64> 0, 0, 0, 0, 0, 0, 0, 0, 0, 0\n",
      "$ ethnicity                     <str> 'Caucasian', 'Caucasian', 'African American', 'Caucasian', 'Caucasian', 'Other/Unknown', 'Hispanic', 'Caucasian', 'Caucasian', 'Caucasian'\n",
      "$ gender                        <str> 'M', 'M', 'M', 'M', 'F', 'F', 'F', 'F', 'M', 'F'\n",
      "$ height                        <str> '170.2', '170.1', '162.6', '181', '177.8', '152.4', '162', '160', '182.9', '160'\n",
      "$ hospital_admit_source         <str> 'Direct Admit', None, 'Emergency Department', 'Emergency Department', 'Emergency Department', 'Direct Admit', 'Emergency Department', 'Acute Care/Floor', 'Direct Admit', None\n",
      "$ icu_admit_source              <str> 'Accident & Emergency', 'Accident & Emergency', 'Accident & Emergency', 'Accident & Emergency', 'Accident & Emergency', 'Accident & Emergency', 'Accident & Emergency', 'Floor', 'Accident & Emergency', 'Accident & Emergency'\n",
      "$ icu_id                        <i64> 100, 687, 840, 481, 413, 133, 324, 498, 467, 377\n",
      "$ icu_stay_type                 <str> 'admit', 'admit', 'admit', 'admit', 'admit', 'admit', 'admit', 'admit', 'admit', 'admit'\n",
      "$ icu_type                      <str> 'Neuro ICU', 'Med-Surg ICU', 'MICU', 'MICU', 'Med-Surg ICU', 'Med-Surg ICU', 'Neuro ICU', 'Med-Surg ICU', 'CTICU', 'Med-Surg ICU'\n",
      "$ pre_icu_los_days              <f64> 0.0, 0.088888889, 0.044444444, 0.213194444, 0.052083333, 0.0, 0.095833333, 0.399305556, 0.288888889, 0.101388889\n",
      "$ readmission_status            <i64> 0, 0, 0, 0, 0, 0, 0, 0, 0, 0\n",
      "$ weight                        <str> '81.6', '106', '72.6', '72', '63.1', '49.5', '77', '74.7', '81.1', '57.1'\n",
      "$ albumin_apache                <str> 'NA', 'NA', 'NA', 'NA', '2.5', '2.8', '3.3', '2.4', 'NA', 'NA'\n",
      "$ apache_2_diagnosis            <str> '301', '124', '122', '305', '113', '113', '120', '307', '117', '124'\n",
      "$ apache_3j_diagnosis           <str> '408.02', '305.01', '703.03', '901.03', '501.04', '501.05', '407.01', '704.01', '106.01', '305.02'\n",
      "$ apache_post_operative         <i64> 0, 0, 0, 0, 0, 0, 0, 0, 0, 0\n",
      "$ arf_apache                    <str> '0', '0', '0', '0', '0', '0', '0', '0', '0', '0'\n",
      "$ bilirubin_apache              <str> 'NA', 'NA', 'NA', 'NA', '0.3', '0.2', '0.4', '0.6', 'NA', 'NA'\n",
      "$ bun_apache                    <str> 'NA', 'NA', '6', '127', '10', '21', '8', '27', '23', '15'\n",
      "$ creatinine_apache             <str> 'NA', 'NA', '0.77', '7.9', '0.66', '0.5', '0.59', '1.7', '1.55', '0.81'\n",
      "$ fio2_apache                   <str> 'NA', 'NA', 'NA', '0.5', 'NA', '0.36', 'NA', '0.5', 'NA', 'NA'\n",
      "$ gcs_eyes_apache               <str> '4', '3', '4', '4', '4', '2', '4', '3', '4', '4'\n",
      "$ gcs_motor_apache              <str> '6', '6', '6', '5', '6', '5', '6', '5', '6', '6'\n",
      "$ gcs_unable_apache             <str> '0', '0', '0', '0', '0', '0', '0', '0', '0', '0'\n",
      "$ gcs_verbal_apache             <str> '5', '3', '5', '4', '5', '3', '5', '2', '5', '5'\n",
      "$ glucose_apache                <str> '70', 'NA', '122', '279', '70', '101', '88', '106', '137', '214'\n",
      "$ heart_rate_apache             <str> '44', '105', '103', '144', '120', '117', '121', '127', '89', '101'\n",
      "$ hematocrit_apache             <str> 'NA', '29.3', '35.8', '19.3', '21.3', '25.6', '38.2', '27', '34.9', '34.5'\n",
      "$ intubated_apache              <str> '0', '0', '0', '0', '0', '1', '0', '1', '0', '0'\n",
      "$ map_apache                    <str> '141', '50', '55', '193', '63', '149', '113', '152', '60', '65'\n",
      "$ paco2_apache                  <str> 'NA', 'NA', 'NA', '28.4', 'NA', '55', 'NA', '35.3', 'NA', 'NA'\n",
      "$ paco2_for_ph_apache           <str> 'NA', 'NA', 'NA', '28.4', 'NA', '55', 'NA', '35.3', 'NA', 'NA'\n",
      "$ pao2_apache                   <str> 'NA', 'NA', 'NA', '122.8', 'NA', '78', 'NA', '118', 'NA', 'NA'\n",
      "$ ph_apache                     <str> 'NA', 'NA', 'NA', '7.43', 'NA', '7.44', 'NA', '7.353', 'NA', 'NA'\n",
      "$ resprate_apache               <str> '43', '34', '13', '31', '32', '43', '29', '36', '5', '11'\n",
      "$ sodium_apache                 <str> 'NA', 'NA', '141', '139.9', '134', '139', '136', '141', '131', '141'\n",
      "$ temp_apache                   <str> '36.4', '36.4', '36.7', '35', '36.6', '36.5', '36.8', '35.7', '35.5', '37.2'\n",
      "$ urineoutput_apache            <str> 'NA', 'NA', '4571.5968', 'NA', '3560.3712', '2729.2032', 'NA', '972.5184', 'NA', '1235.2608'\n",
      "$ ventilated_apache             <str> '0', '0', '0', '0', '0', '1', '0', '1', '0', '0'\n",
      "$ wbc_apache                    <str> 'NA', 'NA', '9.4', '8.4', '45', '13.5', '10.6', '8.47', '8.3', '7.5'\n",
      "$ d1_diasbp_invasive_max        <str> 'NA', 'NA', 'NA', '60', 'NA', '89', 'NA', 'NA', '83', 'NA'\n",
      "$ d1_diasbp_invasive_min        <str> 'NA', 'NA', 'NA', '33', 'NA', '63', 'NA', 'NA', '49', 'NA'\n",
      "$ d1_diasbp_max                 <str> '106', '47', '80', '69', '70', '102', '107', '140', '84', '75'\n",
      "$ d1_diasbp_min                 <str> '56', '39', '45', '35', '48', '44', '67', '49', '46', '47'\n",
      "$ d1_diasbp_noninvasive_max     <str> '106', '47', '80', '69', '70', '102', '107', '140', '84', '75'\n",
      "$ d1_diasbp_noninvasive_min     <str> '56', '39', '45', '35', '48', '44', '67', '49', '46', '47'\n",
      "$ d1_heartrate_max              <str> '80', '97', '103', '133', '119', '112', '132', '127', '87', '107'\n",
      "$ d1_heartrate_min              <str> '44', '92', '69', '83', '70', '70', '79', '45', '66', '77'\n",
      "$ d1_mbp_invasive_max           <str> 'NA', 'NA', 'NA', '81', 'NA', '121', 'NA', 'NA', '120', 'NA'\n",
      "$ d1_mbp_invasive_min           <str> 'NA', 'NA', 'NA', '43', 'NA', '83', 'NA', 'NA', '68', 'NA'\n",
      "$ d1_mbp_max                    <str> '141', '64', '91', '112', '78', '139', '113', '152', '101', '87'\n",
      "$ d1_mbp_min                    <str> '76', '50', '55', '42', '63', '51', '80', '64', '60', '65'\n",
      "$ d1_mbp_noninvasive_max        <str> '141', '64', '91', '112', '78', '139', '113', '152', '101', '87'\n",
      "$ d1_mbp_noninvasive_min        <str> '76', '50', '55', '42', '63', '51', '80', '64', '60', '65'\n",
      "$ d1_resprate_max               <str> '43', '24', '22', '29', '32', '24', '29', '36', '22', '23'\n",
      "$ d1_resprate_min               <str> '7', '17', '13', '12', '14', '12', '11', '13', '10', '11'\n",
      "$ d1_spo2_max                   <str> '100', '100', '100', '100', '100', '100', '98', '100', '100', '100'\n",
      "$ d1_spo2_min                   <str> '97', '99', '93', '90', '94', '90', '93', '98', '92', '95'\n",
      "$ d1_sysbp_invasive_max         <str> 'NA', 'NA', 'NA', '121', 'NA', '169', 'NA', 'NA', '196', 'NA'\n",
      "$ d1_sysbp_invasive_min         <str> 'NA', 'NA', 'NA', '66', 'NA', '116', 'NA', 'NA', '110', 'NA'\n",
      "$ d1_sysbp_max                  <str> '175', '91', '135', '123', '118', '194', '158', '196', '163', '134'\n",
      "$ d1_sysbp_min                  <str> '123', '66', '91', '69', '91', '70', '110', '88', '101', '101'\n",
      "$ d1_sysbp_noninvasive_max      <str> '175', '91', '135', '123', '118', '194', '158', '196', '163', '134'\n",
      "$ d1_sysbp_noninvasive_min      <str> '123', '66', '91', '69', '91', '70', '110', '88', '101', '101'\n",
      "$ d1_temp_max                   <str> '36.8', '36.6', '36.9', '37.4', '38.4', '37.16964', '37', '37.6', '37.1', '37.4'\n",
      "$ d1_temp_min                   <str> '36.3', '34.7', '36.7', '35', '36.6', '36.50292', '36.8', '36.4', '35.5', '37.2'\n",
      "$ h1_diasbp_invasive_max        <str> 'NA', 'NA', 'NA', 'NA', 'NA', 'NA', 'NA', 'NA', '83', 'NA'\n",
      "$ h1_diasbp_invasive_min        <str> 'NA', 'NA', 'NA', 'NA', 'NA', 'NA', 'NA', 'NA', '68', 'NA'\n",
      "$ h1_diasbp_max                 <str> '68', '47', '77', '37', '67', 'NA', '92', '97', '77', '74'\n",
      "$ h1_diasbp_min                 <str> '64', '47', '57', '35', '56', 'NA', '75', '91', '77', '63'\n",
      "$ h1_diasbp_noninvasive_max     <str> '68', '47', '77', '37', '67', 'NA', '92', '97', '77', '74'\n",
      "$ h1_diasbp_noninvasive_min     <str> '64', '47', '57', '35', '56', 'NA', '75', '91', '77', '63'\n",
      "$ h1_heartrate_max              <str> '62', '97', '99', '121', '97', '112', '107', '98', '67', '107'\n",
      "$ h1_heartrate_min              <str> '54', '97', '85', '117', '78', '112', '102', '88', '66', '77'\n",
      "$ h1_mbp_invasive_max           <str> 'NA', 'NA', 'NA', 'NA', 'NA', 'NA', 'NA', 'NA', '120', 'NA'\n",
      "$ h1_mbp_invasive_min           <str> 'NA', 'NA', 'NA', 'NA', 'NA', 'NA', 'NA', 'NA', '105', 'NA'\n",
      "$ h1_mbp_max                    <str> 'NA', '64', '88', '49', '74', 'NA', '103', '125', '98', '87'\n",
      "$ h1_mbp_min                    <str> 'NA', '64', '70', '42', '63', 'NA', '87', '118', '95', '73'\n",
      "$ h1_mbp_noninvasive_max        <str> 'NA', '64', '88', '49', '74', 'NA', '103', '125', '98', '87'\n",
      "$ h1_mbp_noninvasive_min        <str> 'NA', '64', '70', '42', '63', 'NA', '87', '118', '95', '73'\n",
      "$ h1_resprate_max               <str> '24', '24', '21', '29', '20', '24', '24', '20', '15', '23'\n",
      "$ h1_resprate_min               <str> '10', '24', '14', '29', '18', '24', '22', '15', '13', '15'\n",
      "$ h1_spo2_max                   <str> '100', '99', '99', '94', '98', '100', '98', '100', '100', '100'\n",
      "$ h1_spo2_min                   <str> '100', '99', '94', '94', '96', '100', '97', '100', '100', '96'\n",
      "$ h1_sysbp_invasive_max         <str> 'NA', 'NA', 'NA', 'NA', 'NA', 'NA', 'NA', 'NA', '196', 'NA'\n",
      "$ h1_sysbp_invasive_min         <str> 'NA', 'NA', 'NA', 'NA', 'NA', 'NA', 'NA', 'NA', '176', 'NA'\n",
      "$ h1_sysbp_max                  <str> '168', '85', '135', '75', '114', 'NA', '140', '196', '163', '134'\n",
      "$ h1_sysbp_min                  <str> '155', '85', '102', '69', '91', 'NA', '123', '186', '158', '101'\n",
      "$ h1_sysbp_noninvasive_max      <str> '168', '85', '135', '75', '114', 'NA', '140', '196', '163', '134'\n",
      "$ h1_sysbp_noninvasive_min      <str> '155', '85', '102', '69', '91', 'NA', '123', '186', '158', '101'\n",
      "$ h1_temp_max                   <str> '36.3', 'NA', '36.7', 'NA', '36.6', '36.83628', '37', '37.2', '35.9', '37.4'\n",
      "$ h1_temp_min                   <str> '36.3', 'NA', '36.7', 'NA', '36.6', '36.83628', '37', '37.2', '35.9', '37.4'\n",
      "$ d1_albumin_max                <str> 'NA', '3.1', 'NA', 'NA', '2.8', '3.4', '3.3', '2.4', 'NA', 'NA'\n",
      "$ d1_albumin_min                <str> 'NA', '2.3', 'NA', 'NA', '2.5', '2.8', '3.3', '2.4', 'NA', 'NA'\n",
      "$ d1_bilirubin_max              <str> 'NA', '9.4', 'NA', 'NA', '0.3', '0.2', '0.4', '0.6', 'NA', 'NA'\n",
      "$ d1_bilirubin_min              <str> 'NA', '8.7', 'NA', 'NA', '0.2', '0.2', '0.4', '0.6', 'NA', 'NA'\n",
      "$ d1_bun_max                    <str> 'NA', '30', 'NA', '126', '10', '21', '8', '27', '23', '15'\n",
      "$ d1_bun_min                    <str> 'NA', '28', 'NA', '113.09', '9', '19', '8', '25', '23', '15'\n",
      "$ d1_calcium_max                <str> 'NA', '7.5', 'NA', '8.1', '8.6', '9.5', '7.8', '9.3', '8.4', '8.2'\n",
      "$ d1_calcium_min                <str> 'NA', '6.8', 'NA', '6.5', '8.1', '8.6', '7.8', '8.8', '8.4', '8.2'\n",
      "$ d1_creatinine_max             <str> 'NA', '2.2', 'NA', '7.9', '0.67', '0.5', '0.59', '1.7', '1.55', '0.81'\n",
      "$ d1_creatinine_min             <str> 'NA', '2', 'NA', '4.56', '0.66', '0.5', '0.59', '1.7', '1.55', '0.81'\n",
      "$ d1_glucose_max                <str> '164', '476', '128', '279', '172', '151', '110', '144', '137', '214'\n",
      "$ d1_glucose_min                <str> '70', '125', '128', '174', '70', '101', '88', '106', '137', '56'\n",
      "$ d1_hco3_max                   <str> 'NA', '12', 'NA', '20', '24', '32', '23', '21', '26', '20'\n",
      "$ d1_hco3_min                   <str> 'NA', '7', 'NA', '8', '19', '32', '23', '20', '26', '20'\n",
      "$ d1_hemaglobin_max             <str> 'NA', '9.8', 'NA', '10.1', '7.8', '8.4', '11.2', '10.2', '13.3', '12.8'\n",
      "$ d1_hemaglobin_min             <str> 'NA', '5.8', 'NA', '6.5', '7.3', '8.1', '11.2', '8.5', '11.8', '12'\n",
      "$ d1_hematocrit_max             <str> 'NA', '29.3', 'NA', '22.4', '22.5', '26.6', '38.2', '32.2', '40', '36.1'\n",
      "$ d1_hematocrit_min             <str> 'NA', '16.4', 'NA', '19.3', '21.3', '25.6', '38.2', '27', '34.9', '34.5'\n",
      "$ d1_inr_max                    <str> 'NA', '2.4', 'NA', 'NA', '1.4', '1.3', '1', 'NA', '1.06', 'NA'\n",
      "$ d1_inr_min                    <str> 'NA', '1.4', 'NA', 'NA', '1.4', '1.2', '1', 'NA', '1', 'NA'\n",
      "$ d1_lactate_max                <str> 'NA', '13.7', 'NA', '3.15', 'NA', '1.7', 'NA', '1.7', 'NA', 'NA'\n",
      "$ d1_lactate_min                <str> 'NA', '11.7', 'NA', '1.2', 'NA', '1.7', 'NA', '1.7', 'NA', 'NA'\n",
      "$ d1_platelets_max              <str> 'NA', '65', 'NA', '240', '27', '463', '306', '277', '159', '226'\n",
      "$ d1_platelets_min              <str> 'NA', '55', 'NA', '184', '18.55', '456', '306', '276', '159', '226'\n",
      "$ d1_potassium_max              <str> '4.1', '4.6', 'NA', '5.5', '4.1', '3.6', '3.7', '4.7', '4.1', '4.1'\n",
      "$ d1_potassium_min              <str> '4.1', '4', 'NA', '4.06', '2.9', '3', '3.7', '4.3', '4.1', '4.1'\n",
      "$ d1_sodium_max                 <str> 'NA', '141', 'NA', '143', '139', '143', '136', '141', '131', '141'\n",
      "$ d1_sodium_min                 <str> 'NA', '125', 'NA', '136.4', '134', '139', '136', '141', '131', '141'\n",
      "$ d1_wbc_max                    <str> 'NA', '16.7', 'NA', '13.8', '45', '13.5', '10.6', '9.93', '11.3', '7.5'\n",
      "$ d1_wbc_min                    <str> 'NA', '16.2', 'NA', '8.4', '30.3', '13.1', '10.6', '8.47', '8.3', '7.5'\n",
      "$ h1_albumin_max                <str> 'NA', 'NA', 'NA', 'NA', 'NA', 'NA', 'NA', 'NA', 'NA', 'NA'\n",
      "$ h1_albumin_min                <str> 'NA', 'NA', 'NA', 'NA', 'NA', 'NA', 'NA', 'NA', 'NA', 'NA'\n",
      "$ h1_bilirubin_max              <str> 'NA', 'NA', 'NA', 'NA', 'NA', 'NA', 'NA', 'NA', 'NA', 'NA'\n",
      "$ h1_bilirubin_min              <str> 'NA', 'NA', 'NA', 'NA', 'NA', 'NA', 'NA', 'NA', 'NA', 'NA'\n",
      "$ h1_bun_max                    <str> 'NA', 'NA', 'NA', 'NA', 'NA', 'NA', 'NA', 'NA', 'NA', 'NA'\n",
      "$ h1_bun_min                    <str> 'NA', 'NA', 'NA', 'NA', 'NA', 'NA', 'NA', 'NA', 'NA', 'NA'\n",
      "$ h1_calcium_max                <str> 'NA', 'NA', 'NA', 'NA', 'NA', 'NA', 'NA', 'NA', 'NA', 'NA'\n",
      "$ h1_calcium_min                <str> 'NA', 'NA', 'NA', 'NA', 'NA', 'NA', 'NA', 'NA', 'NA', 'NA'\n",
      "$ h1_creatinine_max             <str> 'NA', 'NA', 'NA', 'NA', 'NA', 'NA', 'NA', 'NA', 'NA', 'NA'\n",
      "$ h1_creatinine_min             <str> 'NA', 'NA', 'NA', 'NA', 'NA', 'NA', 'NA', 'NA', 'NA', 'NA'\n",
      "$ h1_glucose_max                <str> '95', 'NA', 'NA', 'NA', '172', 'NA', '110', 'NA', 'NA', 'NA'\n",
      "$ h1_glucose_min                <str> '95', 'NA', 'NA', 'NA', '172', 'NA', '110', 'NA', 'NA', 'NA'\n",
      "$ h1_hco3_max                   <str> 'NA', 'NA', 'NA', 'NA', 'NA', 'NA', 'NA', 'NA', 'NA', 'NA'\n",
      "$ h1_hco3_min                   <str> 'NA', 'NA', 'NA', 'NA', 'NA', 'NA', 'NA', 'NA', 'NA', 'NA'\n",
      "$ h1_hemaglobin_max             <str> 'NA', 'NA', 'NA', '10.1', 'NA', 'NA', 'NA', '10', 'NA', 'NA'\n",
      "$ h1_hemaglobin_min             <str> 'NA', 'NA', 'NA', '10.1', 'NA', 'NA', 'NA', '10', 'NA', 'NA'\n",
      "$ h1_hematocrit_max             <str> 'NA', 'NA', 'NA', 'NA', 'NA', 'NA', 'NA', 'NA', 'NA', 'NA'\n",
      "$ h1_hematocrit_min             <str> 'NA', 'NA', 'NA', 'NA', 'NA', 'NA', 'NA', 'NA', 'NA', 'NA'\n",
      "$ h1_inr_max                    <str> 'NA', '2.4', 'NA', 'NA', '1.4', '1.3', '1', 'NA', '1.06', 'NA'\n",
      "$ h1_inr_min                    <str> 'NA', '1.4', 'NA', 'NA', '1.4', '1.2', '1', 'NA', '1', 'NA'\n",
      "$ h1_lactate_max                <str> 'NA', 'NA', 'NA', '3.15', 'NA', 'NA', 'NA', 'NA', 'NA', 'NA'\n",
      "$ h1_lactate_min                <str> 'NA', 'NA', 'NA', '3.15', 'NA', 'NA', 'NA', 'NA', 'NA', 'NA'\n",
      "$ h1_platelets_max              <str> 'NA', 'NA', 'NA', 'NA', 'NA', 'NA', 'NA', 'NA', 'NA', 'NA'\n",
      "$ h1_platelets_min              <str> 'NA', 'NA', 'NA', 'NA', 'NA', 'NA', 'NA', 'NA', 'NA', 'NA'\n",
      "$ h1_potassium_max              <str> 'NA', 'NA', 'NA', '5.31', 'NA', 'NA', 'NA', 'NA', 'NA', 'NA'\n",
      "$ h1_potassium_min              <str> 'NA', 'NA', 'NA', '5.31', 'NA', 'NA', 'NA', 'NA', 'NA', 'NA'\n",
      "$ h1_sodium_max                 <str> 'NA', 'NA', 'NA', '136.4', 'NA', 'NA', 'NA', 'NA', 'NA', 'NA'\n",
      "$ h1_sodium_min                 <str> 'NA', 'NA', 'NA', '136.4', 'NA', 'NA', 'NA', 'NA', 'NA', 'NA'\n",
      "$ h1_wbc_max                    <str> 'NA', 'NA', 'NA', 'NA', 'NA', 'NA', 'NA', 'NA', 'NA', 'NA'\n",
      "$ h1_wbc_min                    <str> 'NA', 'NA', 'NA', 'NA', 'NA', 'NA', 'NA', 'NA', 'NA', 'NA'\n",
      "$ d1_arterial_pco2_max          <str> 'NA', '20', 'NA', '28.4', 'NA', '55', 'NA', '61.2', 'NA', 'NA'\n",
      "$ d1_arterial_pco2_min          <str> 'NA', '16', 'NA', '18.7', 'NA', '40', 'NA', '35.3', 'NA', 'NA'\n",
      "$ d1_arterial_ph_max            <str> 'NA', '7.29', 'NA', '7.43', 'NA', '7.52', 'NA', '7.353', 'NA', 'NA'\n",
      "$ d1_arterial_ph_min            <str> 'NA', '7.25', 'NA', '7.21', 'NA', '7.43', 'NA', '7.14', 'NA', 'NA'\n",
      "$ d1_arterial_po2_max           <str> 'NA', '427', 'NA', '122.8', 'NA', '128', 'NA', '128', 'NA', 'NA'\n",
      "$ d1_arterial_po2_min           <str> 'NA', '114', 'NA', '81.2', 'NA', '78', 'NA', '118', 'NA', 'NA'\n",
      "$ d1_pao2fio2ratio_max          <str> 'NA', '427', 'NA', '386.6666667', 'NA', '365.7142857', 'NA', '236', 'NA', 'NA'\n",
      "$ d1_pao2fio2ratio_min          <str> 'NA', '427', 'NA', '245.6', 'NA', '216.6666667', 'NA', '128', 'NA', 'NA'\n",
      "$ h1_arterial_pco2_max          <str> 'NA', 'NA', 'NA', '18.7', 'NA', 'NA', 'NA', '61.2', 'NA', 'NA'\n",
      "$ h1_arterial_pco2_min          <str> 'NA', 'NA', 'NA', '18.7', 'NA', 'NA', 'NA', '61.2', 'NA', 'NA'\n",
      "$ h1_arterial_ph_max            <str> 'NA', 'NA', 'NA', '7.21', 'NA', 'NA', 'NA', '7.14', 'NA', 'NA'\n",
      "$ h1_arterial_ph_min            <str> 'NA', 'NA', 'NA', '7.21', 'NA', 'NA', 'NA', '7.14', 'NA', 'NA'\n",
      "$ h1_arterial_po2_max           <str> 'NA', 'NA', 'NA', '81.2', 'NA', 'NA', 'NA', '128', 'NA', 'NA'\n",
      "$ h1_arterial_po2_min           <str> 'NA', 'NA', 'NA', '81.2', 'NA', 'NA', 'NA', '128', 'NA', 'NA'\n",
      "$ h1_pao2fio2ratio_max          <str> 'NA', 'NA', 'NA', '386.6666667', 'NA', 'NA', 'NA', '128', 'NA', 'NA'\n",
      "$ h1_pao2fio2ratio_min          <str> 'NA', 'NA', 'NA', '386.6666667', 'NA', 'NA', 'NA', '128', 'NA', 'NA'\n",
      "$ apache_4a_hospital_death_prob <str> '0.05', '0.04', '0', '0.12', '0.04', '0.16', 'NA', '0.21', '0.06', 'NA'\n",
      "$ apache_4a_icu_death_prob      <str> '0.01', '0.02', '0', '0.06', '0.02', '0.11', 'NA', '0.13', '0.02', 'NA'\n",
      "$ aids                          <str> '0', '0', '0', '0', '0', '0', '0', '0', '0', '0'\n",
      "$ cirrhosis                     <str> '0', '0', '0', '0', '0', '0', '0', '0', '0', '0'\n",
      "$ diabetes_mellitus             <str> '0', '0', '0', '0', '0', '0', '0', '0', '0', '0'\n",
      "$ hepatic_failure               <str> '0', '0', '0', '0', '0', '0', '0', '0', '0', '0'\n",
      "$ immunosuppression             <str> '0', '0', '0', '0', '0', '0', '0', '0', '0', '0'\n",
      "$ leukemia                      <str> '0', '0', '0', '0', '1', '0', '0', '0', '0', '0'\n",
      "$ lymphoma                      <str> '0', '0', '0', '0', '0', '0', '0', '0', '0', '0'\n",
      "$ solid_tumor_with_metastasis   <str> '0', '0', '0', '0', '0', '0', '0', '0', '0', '0'\n",
      "$ apache_3j_bodysystem          <str> 'Neurological', 'Gastrointestinal', 'Metabolic', 'Genitourinary', 'Sepsis', 'Sepsis', 'Neurological', 'Metabolic', 'Cardiovascular', 'Gastrointestinal'\n",
      "$ apache_2_bodysystem           <str> 'Neurologic', 'Gastrointestinal', 'Metabolic', 'Renal/Genitourinary', 'Cardiovascular', 'Cardiovascular', 'Neurologic', 'Metabolic', 'Cardiovascular', 'Gastrointestinal'\n",
      "\n"
     ]
    }
   ],
   "source": [
    "X_train.glimpse()"
   ]
  },
  {
   "cell_type": "code",
   "execution_count": 42,
   "metadata": {},
   "outputs": [
    {
     "name": "stdout",
     "output_type": "stream",
     "text": [
      "Rows: 73370\n",
      "Columns: 9\n",
      "$ encounter_id          <i64> 59954, 63518, 34401, 71581, 29019, 70076, 63091, 40553, 75009, 94808\n",
      "$ patient_id            <i64> 90449, 19384, 20558, 112066, 129440, 97970, 42207, 499, 125636, 104142\n",
      "$ hospital_id           <i64> 118, 185, 188, 62, 161, 89, 161, 186, 62, 128\n",
      "$ age                   <f32> 86.0, 72.0, 36.0, 60.0, 27.0, 71.0, 35.0, 75.0, 72.0, 50.0\n",
      "$ elective_surgery      <i64> 0, 0, 0, 0, 0, 0, 0, 0, 0, 0\n",
      "$ icu_id                <i64> 100, 687, 840, 481, 413, 133, 324, 498, 467, 377\n",
      "$ pre_icu_los_days      <f64> 0.0, 0.088888889, 0.044444444, 0.213194444, 0.052083333, 0.0, 0.095833333, 0.399305556, 0.288888889, 0.101388889\n",
      "$ readmission_status    <i64> 0, 0, 0, 0, 0, 0, 0, 0, 0, 0\n",
      "$ apache_post_operative <i64> 0, 0, 0, 0, 0, 0, 0, 0, 0, 0\n",
      "\n"
     ]
    }
   ],
   "source": [
    "X_train.select(cs.numeric()).glimpse()"
   ]
  },
  {
   "cell_type": "code",
   "execution_count": 38,
   "metadata": {},
   "outputs": [
    {
     "data": {
      "text/html": [
       "<div><style>\n",
       ".dataframe > thead > tr > th,\n",
       ".dataframe > tbody > tr > td {\n",
       "  text-align: right;\n",
       "  white-space: pre-wrap;\n",
       "}\n",
       "</style>\n",
       "<small>shape: (2, 1)</small><table border=\"1\" class=\"dataframe\"><thead><tr><th>hospital_death</th></tr><tr><td>struct[2]</td></tr></thead><tbody><tr><td>{0,67042}</td></tr><tr><td>{1,6328}</td></tr></tbody></table></div>"
      ],
      "text/plain": [
       "shape: (2, 1)\n",
       "┌────────────────┐\n",
       "│ hospital_death │\n",
       "│ ---            │\n",
       "│ struct[2]      │\n",
       "╞════════════════╡\n",
       "│ {0,67042}      │\n",
       "│ {1,6328}       │\n",
       "└────────────────┘"
      ]
     },
     "execution_count": 38,
     "metadata": {},
     "output_type": "execute_result"
    }
   ],
   "source": [
    "y_train.select(pl.col(\"hospital_death\").value_counts())"
   ]
  },
  {
   "cell_type": "code",
   "execution_count": 43,
   "metadata": {},
   "outputs": [
    {
     "data": {
      "text/html": [
       "<style>#sk-container-id-1 {color: black;}#sk-container-id-1 pre{padding: 0;}#sk-container-id-1 div.sk-toggleable {background-color: white;}#sk-container-id-1 label.sk-toggleable__label {cursor: pointer;display: block;width: 100%;margin-bottom: 0;padding: 0.3em;box-sizing: border-box;text-align: center;}#sk-container-id-1 label.sk-toggleable__label-arrow:before {content: \"▸\";float: left;margin-right: 0.25em;color: #696969;}#sk-container-id-1 label.sk-toggleable__label-arrow:hover:before {color: black;}#sk-container-id-1 div.sk-estimator:hover label.sk-toggleable__label-arrow:before {color: black;}#sk-container-id-1 div.sk-toggleable__content {max-height: 0;max-width: 0;overflow: hidden;text-align: left;background-color: #f0f8ff;}#sk-container-id-1 div.sk-toggleable__content pre {margin: 0.2em;color: black;border-radius: 0.25em;background-color: #f0f8ff;}#sk-container-id-1 input.sk-toggleable__control:checked~div.sk-toggleable__content {max-height: 200px;max-width: 100%;overflow: auto;}#sk-container-id-1 input.sk-toggleable__control:checked~label.sk-toggleable__label-arrow:before {content: \"▾\";}#sk-container-id-1 div.sk-estimator input.sk-toggleable__control:checked~label.sk-toggleable__label {background-color: #d4ebff;}#sk-container-id-1 div.sk-label input.sk-toggleable__control:checked~label.sk-toggleable__label {background-color: #d4ebff;}#sk-container-id-1 input.sk-hidden--visually {border: 0;clip: rect(1px 1px 1px 1px);clip: rect(1px, 1px, 1px, 1px);height: 1px;margin: -1px;overflow: hidden;padding: 0;position: absolute;width: 1px;}#sk-container-id-1 div.sk-estimator {font-family: monospace;background-color: #f0f8ff;border: 1px dotted black;border-radius: 0.25em;box-sizing: border-box;margin-bottom: 0.5em;}#sk-container-id-1 div.sk-estimator:hover {background-color: #d4ebff;}#sk-container-id-1 div.sk-parallel-item::after {content: \"\";width: 100%;border-bottom: 1px solid gray;flex-grow: 1;}#sk-container-id-1 div.sk-label:hover label.sk-toggleable__label {background-color: #d4ebff;}#sk-container-id-1 div.sk-serial::before {content: \"\";position: absolute;border-left: 1px solid gray;box-sizing: border-box;top: 0;bottom: 0;left: 50%;z-index: 0;}#sk-container-id-1 div.sk-serial {display: flex;flex-direction: column;align-items: center;background-color: white;padding-right: 0.2em;padding-left: 0.2em;position: relative;}#sk-container-id-1 div.sk-item {position: relative;z-index: 1;}#sk-container-id-1 div.sk-parallel {display: flex;align-items: stretch;justify-content: center;background-color: white;position: relative;}#sk-container-id-1 div.sk-item::before, #sk-container-id-1 div.sk-parallel-item::before {content: \"\";position: absolute;border-left: 1px solid gray;box-sizing: border-box;top: 0;bottom: 0;left: 50%;z-index: -1;}#sk-container-id-1 div.sk-parallel-item {display: flex;flex-direction: column;z-index: 1;position: relative;background-color: white;}#sk-container-id-1 div.sk-parallel-item:first-child::after {align-self: flex-end;width: 50%;}#sk-container-id-1 div.sk-parallel-item:last-child::after {align-self: flex-start;width: 50%;}#sk-container-id-1 div.sk-parallel-item:only-child::after {width: 0;}#sk-container-id-1 div.sk-dashed-wrapped {border: 1px dashed gray;margin: 0 0.4em 0.5em 0.4em;box-sizing: border-box;padding-bottom: 0.4em;background-color: white;}#sk-container-id-1 div.sk-label label {font-family: monospace;font-weight: bold;display: inline-block;line-height: 1.2em;}#sk-container-id-1 div.sk-label-container {text-align: center;}#sk-container-id-1 div.sk-container {/* jupyter's `normalize.less` sets `[hidden] { display: none; }` but bootstrap.min.css set `[hidden] { display: none !important; }` so we also need the `!important` here to be able to override the default hidden behavior on the sphinx rendered scikit-learn.org. See: https://github.com/scikit-learn/scikit-learn/issues/21755 */display: inline-block !important;position: relative;}#sk-container-id-1 div.sk-text-repr-fallback {display: none;}</style><div id=\"sk-container-id-1\" class=\"sk-top-container\"><div class=\"sk-text-repr-fallback\"><pre>XGBClassifier(base_score=None, booster=None, callbacks=None,\n",
       "              colsample_bylevel=None, colsample_bynode=None,\n",
       "              colsample_bytree=None, device=None, early_stopping_rounds=None,\n",
       "              enable_categorical=False, eval_metric=None, feature_types=None,\n",
       "              gamma=None, grow_policy=None, importance_type=None,\n",
       "              interaction_constraints=None, learning_rate=None, max_bin=None,\n",
       "              max_cat_threshold=None, max_cat_to_onehot=None,\n",
       "              max_delta_step=None, max_depth=None, max_leaves=None,\n",
       "              min_child_weight=None, missing=nan, monotone_constraints=None,\n",
       "              multi_strategy=None, n_estimators=None, n_jobs=None,\n",
       "              num_parallel_tree=None, random_state=None, ...)</pre><b>In a Jupyter environment, please rerun this cell to show the HTML representation or trust the notebook. <br />On GitHub, the HTML representation is unable to render, please try loading this page with nbviewer.org.</b></div><div class=\"sk-container\" hidden><div class=\"sk-item\"><div class=\"sk-estimator sk-toggleable\"><input class=\"sk-toggleable__control sk-hidden--visually\" id=\"sk-estimator-id-1\" type=\"checkbox\" checked><label for=\"sk-estimator-id-1\" class=\"sk-toggleable__label sk-toggleable__label-arrow\">XGBClassifier</label><div class=\"sk-toggleable__content\"><pre>XGBClassifier(base_score=None, booster=None, callbacks=None,\n",
       "              colsample_bylevel=None, colsample_bynode=None,\n",
       "              colsample_bytree=None, device=None, early_stopping_rounds=None,\n",
       "              enable_categorical=False, eval_metric=None, feature_types=None,\n",
       "              gamma=None, grow_policy=None, importance_type=None,\n",
       "              interaction_constraints=None, learning_rate=None, max_bin=None,\n",
       "              max_cat_threshold=None, max_cat_to_onehot=None,\n",
       "              max_delta_step=None, max_depth=None, max_leaves=None,\n",
       "              min_child_weight=None, missing=nan, monotone_constraints=None,\n",
       "              multi_strategy=None, n_estimators=None, n_jobs=None,\n",
       "              num_parallel_tree=None, random_state=None, ...)</pre></div></div></div></div></div>"
      ],
      "text/plain": [
       "XGBClassifier(base_score=None, booster=None, callbacks=None,\n",
       "              colsample_bylevel=None, colsample_bynode=None,\n",
       "              colsample_bytree=None, device=None, early_stopping_rounds=None,\n",
       "              enable_categorical=False, eval_metric=None, feature_types=None,\n",
       "              gamma=None, grow_policy=None, importance_type=None,\n",
       "              interaction_constraints=None, learning_rate=None, max_bin=None,\n",
       "              max_cat_threshold=None, max_cat_to_onehot=None,\n",
       "              max_delta_step=None, max_depth=None, max_leaves=None,\n",
       "              min_child_weight=None, missing=nan, monotone_constraints=None,\n",
       "              multi_strategy=None, n_estimators=None, n_jobs=None,\n",
       "              num_parallel_tree=None, random_state=None, ...)"
      ]
     },
     "execution_count": 43,
     "metadata": {},
     "output_type": "execute_result"
    }
   ],
   "source": [
    "model = xgb.XGBClassifier()\n",
    "model.fit(X_train.select(cs.numeric()), y_train)"
   ]
  },
  {
   "cell_type": "code",
   "execution_count": null,
   "metadata": {},
   "outputs": [],
   "source": []
  },
  {
   "cell_type": "markdown",
   "metadata": {},
   "source": [
    "## Function Definitions"
   ]
  },
  {
   "cell_type": "code",
   "execution_count": 56,
   "metadata": {},
   "outputs": [
    {
     "name": "stderr",
     "output_type": "stream",
     "text": [
      "/Users/zacklarsen/mambaforge/envs/wids2020/lib/python3.8/site-packages/prefect/flows.py:323: UserWarning: A flow named 'ingest-nb' and defined at '/var/folders/g7/822123tx4gn6ndvw2jgh5f140000gn/T/ipykernel_19527/1641189851.py:1' conflicts with another flow. Consider specifying a unique `name` parameter in the flow definition:\n",
      "\n",
      " `@flow(name='my_unique_name', ...)`\n",
      "  warnings.warn(\n",
      "/Users/zacklarsen/mambaforge/envs/wids2020/lib/python3.8/site-packages/prefect/flows.py:323: UserWarning: A flow named 'calc-mean-age-nb' and defined at '/var/folders/g7/822123tx4gn6ndvw2jgh5f140000gn/T/ipykernel_19527/1641189851.py:10' conflicts with another flow. Consider specifying a unique `name` parameter in the flow definition:\n",
      "\n",
      " `@flow(name='my_unique_name', ...)`\n",
      "  warnings.warn(\n",
      "/Users/zacklarsen/mambaforge/envs/wids2020/lib/python3.8/site-packages/prefect/flows.py:323: UserWarning: A flow named 'split-nb' and defined at '/var/folders/g7/822123tx4gn6ndvw2jgh5f140000gn/T/ipykernel_19527/1641189851.py:19' conflicts with another flow. Consider specifying a unique `name` parameter in the flow definition:\n",
      "\n",
      " `@flow(name='my_unique_name', ...)`\n",
      "  warnings.warn(\n",
      "/Users/zacklarsen/mambaforge/envs/wids2020/lib/python3.8/site-packages/prefect/flows.py:323: UserWarning: A flow named 'save-splits-nb' and defined at '/var/folders/g7/822123tx4gn6ndvw2jgh5f140000gn/T/ipykernel_19527/1641189851.py:35' conflicts with another flow. Consider specifying a unique `name` parameter in the flow definition:\n",
      "\n",
      " `@flow(name='my_unique_name', ...)`\n",
      "  warnings.warn(\n",
      "/Users/zacklarsen/mambaforge/envs/wids2020/lib/python3.8/site-packages/prefect/flows.py:323: UserWarning: A flow named 'train-model-nb' and defined at '/var/folders/g7/822123tx4gn6ndvw2jgh5f140000gn/T/ipykernel_19527/1641189851.py:47' conflicts with another flow. Consider specifying a unique `name` parameter in the flow definition:\n",
      "\n",
      " `@flow(name='my_unique_name', ...)`\n",
      "  warnings.warn(\n",
      "/Users/zacklarsen/mambaforge/envs/wids2020/lib/python3.8/site-packages/prefect/flows.py:323: UserWarning: A flow named 'predict-nb' and defined at '/var/folders/g7/822123tx4gn6ndvw2jgh5f140000gn/T/ipykernel_19527/1641189851.py:57' conflicts with another flow. Consider specifying a unique `name` parameter in the flow definition:\n",
      "\n",
      " `@flow(name='my_unique_name', ...)`\n",
      "  warnings.warn(\n",
      "/Users/zacklarsen/mambaforge/envs/wids2020/lib/python3.8/site-packages/prefect/flows.py:323: UserWarning: A flow named 'evaluate-model-nb' and defined at '/var/folders/g7/822123tx4gn6ndvw2jgh5f140000gn/T/ipykernel_19527/1641189851.py:66' conflicts with another flow. Consider specifying a unique `name` parameter in the flow definition:\n",
      "\n",
      " `@flow(name='my_unique_name', ...)`\n",
      "  warnings.warn(\n"
     ]
    }
   ],
   "source": [
    "@flow\n",
    "def ingest_nb(path):\n",
    "    data = pl.read_csv(path, infer_schema_length=10000, dtypes={\"age\": pl.Float32}, ignore_errors=True)\n",
    "    logger = get_run_logger()\n",
    "    logger.info(\"Data ingested\")\n",
    "\n",
    "    return data\n",
    "\n",
    "\n",
    "@flow\n",
    "def calc_mean_age_nb(data):\n",
    "    mean_age = data.select(pl.col(\"age\")).mean().item()\n",
    "    logger = get_run_logger()\n",
    "    logger.info(f\"Mean age calculated as: {mean_age}\")\n",
    "\n",
    "    return mean_age\n",
    "\n",
    "\n",
    "@flow\n",
    "def split_nb(data, test_size=0.2, random_state=42):\n",
    "    logger = get_run_logger()\n",
    "    logger.info(\"Splitting data into train and test sets\")\n",
    "    X = data.drop('hospital_death')\n",
    "    y = data['hospital_death']\n",
    "\n",
    "    X_train, X_test, y_train, y_test = train_test_split(\n",
    "        X, y, test_size=test_size, random_state=random_state)\n",
    "\n",
    "    logger.info(\"Size of train set: {X_train.shape}\")\n",
    "    logger.info(\"Size of test set: {X_test.shape}\")\n",
    "\n",
    "    return X_train, X_test, y_train, y_test\n",
    "\n",
    "\n",
    "@flow\n",
    "def save_splits_nb(X_train, X_test, y_train, y_test):\n",
    "    logger = get_run_logger()\n",
    "    logger.info(\"Saving splits\")\n",
    "    X_train.write_parquet(Path(data_path, 'X_train.parquet'))\n",
    "    pl.DataFrame(y_train).write_parquet(Path(data_path, 'y_train.parquet'))\n",
    "    X_test.write_parquet(Path(data_path, 'X_test.parquet'))\n",
    "    pl.DataFrame(y_test).write_parquet(Path(data_path, 'y_test.parquet'))\n",
    "\n",
    "    return None\n",
    "\n",
    "\n",
    "@flow\n",
    "def train_model_nb(X_train, y_train):\n",
    "    logger = get_run_logger()\n",
    "    logger.info(\"Training XGBoost classifier\")\n",
    "    model = xgb.XGBClassifier()\n",
    "    model.fit(X_train, y_train)\n",
    "\n",
    "    return model\n",
    "\n",
    "\n",
    "@flow\n",
    "def predict_nb(model, test_data):\n",
    "    logger = get_run_logger()\n",
    "    logger.info(\"Predicting on test data\")\n",
    "    preds = model.predict(test_data)\n",
    "\n",
    "    return preds\n",
    "\n",
    "\n",
    "@flow\n",
    "def evaluate_model_nb(y_test, y_pred):\n",
    "    logger = get_run_logger()\n",
    "    logger.info(\"Evaluating model performance\")\n",
    "    accuracy = accuracy_score(y_test, y_pred)\n",
    "    precision = precision_score(y_test, y_pred)\n",
    "    recall = recall_score(y_test, y_pred)\n",
    "    f1 = f1_score(y_test, y_pred)\n",
    "    roc_auc = roc_auc_score(y_test, y_pred)\n",
    "\n",
    "    return accuracy, precision, recall, f1, roc_auc"
   ]
  },
  {
   "cell_type": "code",
   "execution_count": null,
   "metadata": {},
   "outputs": [
    {
     "name": "stderr",
     "output_type": "stream",
     "text": [
      "/Users/zacklarsen/mambaforge/envs/wids2020/lib/python3.8/site-packages/prefect/flows.py:323: UserWarning: A flow named 'prep-workflow' and defined at '/var/folders/g7/822123tx4gn6ndvw2jgh5f140000gn/T/ipykernel_19527/1653968534.py:1' conflicts with another flow. Consider specifying a unique `name` parameter in the flow definition:\n",
      "\n",
      " `@flow(name='my_unique_name', ...)`\n",
      "  warnings.warn(\n"
     ]
    }
   ],
   "source": [
    "@flow\n",
    "def prep_workflow(file_path):\n",
    "    data = ingest_nb(file_path)\n",
    "    mean_age = calc_mean_age_nb(data)\n",
    "    X_train, X_test, y_train, y_test = split_nb(data, test_size=0.2, random_state=42)\n",
    "    save_splits_nb(X_train, X_test, y_train, y_test)\n",
    "    clf = train_model_nb(X_train.select(cs.numeric()), y_train)\n",
    "    y_pred = predict_nb(clf, X_test.select(cs.numeric()))\n",
    "    accuracy, precision, recall, f1, roc_auc = evaluate_model_nb(y_test, y_pred)\n",
    "\n",
    "    result_dict = {\n",
    "        'mean_age': mean_age,\n",
    "        'accuracy': accuracy,\n",
    "        'precision': precision,\n",
    "        'recall': recall,\n",
    "        'f1': f1,\n",
    "        'roc_auc': roc_auc\n",
    "    }\n",
    "\n",
    "    return result_dict"
   ]
  },
  {
   "cell_type": "code",
   "execution_count": null,
   "metadata": {},
   "outputs": [],
   "source": [
    "# Assign the flow to a variable\n",
    "flow_instance = prep_workflow"
   ]
  },
  {
   "cell_type": "code",
   "execution_count": 67,
   "metadata": {},
   "outputs": [
    {
     "data": {
      "text/html": [
       "<pre style=\"white-space:pre;overflow-x:auto;line-height:normal;font-family:Menlo,'DejaVu Sans Mono',consolas,'Courier New',monospace\">11:18:37.531 | <span style=\"color: #008080; text-decoration-color: #008080\">INFO</span>    | prefect.engine - Created flow run<span style=\"color: #800080; text-decoration-color: #800080\"> 'bold-bittern'</span> for flow<span style=\"color: #800080; text-decoration-color: #800080; font-weight: bold\"> 'prep-workflow'</span>\n",
       "</pre>\n"
      ],
      "text/plain": [
       "11:18:37.531 | \u001b[36mINFO\u001b[0m    | prefect.engine - Created flow run\u001b[35m 'bold-bittern'\u001b[0m for flow\u001b[1;35m 'prep-workflow'\u001b[0m\n"
      ]
     },
     "metadata": {},
     "output_type": "display_data"
    },
    {
     "name": "stderr",
     "output_type": "stream",
     "text": [
      "/Users/zacklarsen/mambaforge/envs/wids2020/lib/python3.8/site-packages/prefect/tasks.py:333: UserWarning: A task named 'ingest-nb' and defined at '/var/folders/g7/822123tx4gn6ndvw2jgh5f140000gn/T/ipykernel_19527/1641189851.py:1' conflicts with another task. Consider specifying a unique `name` parameter in the task definition:\n",
      "\n",
      " `@task(name='my_unique_name', ...)`\n",
      "  warnings.warn(\n"
     ]
    },
    {
     "data": {
      "text/html": [
       "<pre style=\"white-space:pre;overflow-x:auto;line-height:normal;font-family:Menlo,'DejaVu Sans Mono',consolas,'Courier New',monospace\">11:18:37.586 | <span style=\"color: #008080; text-decoration-color: #008080\">INFO</span>    | Flow run<span style=\"color: #800080; text-decoration-color: #800080\"> 'bold-bittern'</span> - Created subflow run<span style=\"color: #800080; text-decoration-color: #800080\"> 'adept-coucal'</span> for flow<span style=\"color: #800080; text-decoration-color: #800080; font-weight: bold\"> 'ingest-nb'</span>\n",
       "</pre>\n"
      ],
      "text/plain": [
       "11:18:37.586 | \u001b[36mINFO\u001b[0m    | Flow run\u001b[35m 'bold-bittern'\u001b[0m - Created subflow run\u001b[35m 'adept-coucal'\u001b[0m for flow\u001b[1;35m 'ingest-nb'\u001b[0m\n"
      ]
     },
     "metadata": {},
     "output_type": "display_data"
    },
    {
     "data": {
      "text/html": [
       "<pre style=\"white-space:pre;overflow-x:auto;line-height:normal;font-family:Menlo,'DejaVu Sans Mono',consolas,'Courier New',monospace\">11:18:37.899 | <span style=\"color: #008080; text-decoration-color: #008080\">INFO</span>    | Flow run<span style=\"color: #800080; text-decoration-color: #800080\"> 'adept-coucal'</span> - Data ingested\n",
       "</pre>\n"
      ],
      "text/plain": [
       "11:18:37.899 | \u001b[36mINFO\u001b[0m    | Flow run\u001b[35m 'adept-coucal'\u001b[0m - Data ingested\n"
      ]
     },
     "metadata": {},
     "output_type": "display_data"
    },
    {
     "data": {
      "text/html": [
       "<pre style=\"white-space:pre;overflow-x:auto;line-height:normal;font-family:Menlo,'DejaVu Sans Mono',consolas,'Courier New',monospace\">11:18:37.939 | <span style=\"color: #008080; text-decoration-color: #008080\">INFO</span>    | Flow run<span style=\"color: #800080; text-decoration-color: #800080\"> 'adept-coucal'</span> - Finished in state <span style=\"color: #008000; text-decoration-color: #008000\">Completed</span>()\n",
       "</pre>\n"
      ],
      "text/plain": [
       "11:18:37.939 | \u001b[36mINFO\u001b[0m    | Flow run\u001b[35m 'adept-coucal'\u001b[0m - Finished in state \u001b[32mCompleted\u001b[0m()\n"
      ]
     },
     "metadata": {},
     "output_type": "display_data"
    },
    {
     "name": "stderr",
     "output_type": "stream",
     "text": [
      "/Users/zacklarsen/mambaforge/envs/wids2020/lib/python3.8/site-packages/prefect/tasks.py:333: UserWarning: A task named 'calc-mean-age-nb' and defined at '/var/folders/g7/822123tx4gn6ndvw2jgh5f140000gn/T/ipykernel_19527/1641189851.py:10' conflicts with another task. Consider specifying a unique `name` parameter in the task definition:\n",
      "\n",
      " `@task(name='my_unique_name', ...)`\n",
      "  warnings.warn(\n"
     ]
    },
    {
     "data": {
      "text/html": [
       "<pre style=\"white-space:pre;overflow-x:auto;line-height:normal;font-family:Menlo,'DejaVu Sans Mono',consolas,'Courier New',monospace\">11:18:37.981 | <span style=\"color: #008080; text-decoration-color: #008080\">INFO</span>    | Flow run<span style=\"color: #800080; text-decoration-color: #800080\"> 'bold-bittern'</span> - Created subflow run<span style=\"color: #800080; text-decoration-color: #800080\"> 'frisky-tuatara'</span> for flow<span style=\"color: #800080; text-decoration-color: #800080; font-weight: bold\"> 'calc-mean-age-nb'</span>\n",
       "</pre>\n"
      ],
      "text/plain": [
       "11:18:37.981 | \u001b[36mINFO\u001b[0m    | Flow run\u001b[35m 'bold-bittern'\u001b[0m - Created subflow run\u001b[35m 'frisky-tuatara'\u001b[0m for flow\u001b[1;35m 'calc-mean-age-nb'\u001b[0m\n"
      ]
     },
     "metadata": {},
     "output_type": "display_data"
    },
    {
     "data": {
      "text/html": [
       "<pre style=\"white-space:pre;overflow-x:auto;line-height:normal;font-family:Menlo,'DejaVu Sans Mono',consolas,'Courier New',monospace\">11:18:38.007 | <span style=\"color: #008080; text-decoration-color: #008080\">INFO</span>    | Flow run<span style=\"color: #800080; text-decoration-color: #800080\"> 'frisky-tuatara'</span> - Mean age calculated as: 62.30951690673828\n",
       "</pre>\n"
      ],
      "text/plain": [
       "11:18:38.007 | \u001b[36mINFO\u001b[0m    | Flow run\u001b[35m 'frisky-tuatara'\u001b[0m - Mean age calculated as: 62.30951690673828\n"
      ]
     },
     "metadata": {},
     "output_type": "display_data"
    },
    {
     "data": {
      "text/html": [
       "<pre style=\"white-space:pre;overflow-x:auto;line-height:normal;font-family:Menlo,'DejaVu Sans Mono',consolas,'Courier New',monospace\">11:18:38.027 | <span style=\"color: #008080; text-decoration-color: #008080\">INFO</span>    | Flow run<span style=\"color: #800080; text-decoration-color: #800080\"> 'frisky-tuatara'</span> - Finished in state <span style=\"color: #008000; text-decoration-color: #008000\">Completed</span>()\n",
       "</pre>\n"
      ],
      "text/plain": [
       "11:18:38.027 | \u001b[36mINFO\u001b[0m    | Flow run\u001b[35m 'frisky-tuatara'\u001b[0m - Finished in state \u001b[32mCompleted\u001b[0m()\n"
      ]
     },
     "metadata": {},
     "output_type": "display_data"
    },
    {
     "name": "stderr",
     "output_type": "stream",
     "text": [
      "/Users/zacklarsen/mambaforge/envs/wids2020/lib/python3.8/site-packages/prefect/tasks.py:333: UserWarning: A task named 'split-nb' and defined at '/var/folders/g7/822123tx4gn6ndvw2jgh5f140000gn/T/ipykernel_19527/1641189851.py:19' conflicts with another task. Consider specifying a unique `name` parameter in the task definition:\n",
      "\n",
      " `@task(name='my_unique_name', ...)`\n",
      "  warnings.warn(\n"
     ]
    },
    {
     "data": {
      "text/html": [
       "<pre style=\"white-space:pre;overflow-x:auto;line-height:normal;font-family:Menlo,'DejaVu Sans Mono',consolas,'Courier New',monospace\">11:18:38.063 | <span style=\"color: #008080; text-decoration-color: #008080\">INFO</span>    | Flow run<span style=\"color: #800080; text-decoration-color: #800080\"> 'bold-bittern'</span> - Created subflow run<span style=\"color: #800080; text-decoration-color: #800080\"> 'funny-ocelot'</span> for flow<span style=\"color: #800080; text-decoration-color: #800080; font-weight: bold\"> 'split-nb'</span>\n",
       "</pre>\n"
      ],
      "text/plain": [
       "11:18:38.063 | \u001b[36mINFO\u001b[0m    | Flow run\u001b[35m 'bold-bittern'\u001b[0m - Created subflow run\u001b[35m 'funny-ocelot'\u001b[0m for flow\u001b[1;35m 'split-nb'\u001b[0m\n"
      ]
     },
     "metadata": {},
     "output_type": "display_data"
    },
    {
     "data": {
      "text/html": [
       "<pre style=\"white-space:pre;overflow-x:auto;line-height:normal;font-family:Menlo,'DejaVu Sans Mono',consolas,'Courier New',monospace\">11:18:38.084 | <span style=\"color: #008080; text-decoration-color: #008080\">INFO</span>    | Flow run<span style=\"color: #800080; text-decoration-color: #800080\"> 'funny-ocelot'</span> - Splitting data into train and test sets\n",
       "</pre>\n"
      ],
      "text/plain": [
       "11:18:38.084 | \u001b[36mINFO\u001b[0m    | Flow run\u001b[35m 'funny-ocelot'\u001b[0m - Splitting data into train and test sets\n"
      ]
     },
     "metadata": {},
     "output_type": "display_data"
    },
    {
     "data": {
      "text/html": [
       "<pre style=\"white-space:pre;overflow-x:auto;line-height:normal;font-family:Menlo,'DejaVu Sans Mono',consolas,'Courier New',monospace\">11:18:38.147 | <span style=\"color: #008080; text-decoration-color: #008080\">INFO</span>    | Flow run<span style=\"color: #800080; text-decoration-color: #800080\"> 'funny-ocelot'</span> - Size of train set: {X_train.shape}\n",
       "</pre>\n"
      ],
      "text/plain": [
       "11:18:38.147 | \u001b[36mINFO\u001b[0m    | Flow run\u001b[35m 'funny-ocelot'\u001b[0m - Size of train set: {X_train.shape}\n"
      ]
     },
     "metadata": {},
     "output_type": "display_data"
    },
    {
     "data": {
      "text/html": [
       "<pre style=\"white-space:pre;overflow-x:auto;line-height:normal;font-family:Menlo,'DejaVu Sans Mono',consolas,'Courier New',monospace\">11:18:38.149 | <span style=\"color: #008080; text-decoration-color: #008080\">INFO</span>    | Flow run<span style=\"color: #800080; text-decoration-color: #800080\"> 'funny-ocelot'</span> - Size of test set: {X_test.shape}\n",
       "</pre>\n"
      ],
      "text/plain": [
       "11:18:38.149 | \u001b[36mINFO\u001b[0m    | Flow run\u001b[35m 'funny-ocelot'\u001b[0m - Size of test set: {X_test.shape}\n"
      ]
     },
     "metadata": {},
     "output_type": "display_data"
    },
    {
     "data": {
      "text/html": [
       "<pre style=\"white-space:pre;overflow-x:auto;line-height:normal;font-family:Menlo,'DejaVu Sans Mono',consolas,'Courier New',monospace\">11:18:38.171 | <span style=\"color: #008080; text-decoration-color: #008080\">INFO</span>    | Flow run<span style=\"color: #800080; text-decoration-color: #800080\"> 'funny-ocelot'</span> - Finished in state <span style=\"color: #008000; text-decoration-color: #008000\">Completed</span>()\n",
       "</pre>\n"
      ],
      "text/plain": [
       "11:18:38.171 | \u001b[36mINFO\u001b[0m    | Flow run\u001b[35m 'funny-ocelot'\u001b[0m - Finished in state \u001b[32mCompleted\u001b[0m()\n"
      ]
     },
     "metadata": {},
     "output_type": "display_data"
    },
    {
     "name": "stderr",
     "output_type": "stream",
     "text": [
      "/Users/zacklarsen/mambaforge/envs/wids2020/lib/python3.8/site-packages/prefect/tasks.py:333: UserWarning: A task named 'save-splits-nb' and defined at '/var/folders/g7/822123tx4gn6ndvw2jgh5f140000gn/T/ipykernel_19527/1641189851.py:35' conflicts with another task. Consider specifying a unique `name` parameter in the task definition:\n",
      "\n",
      " `@task(name='my_unique_name', ...)`\n",
      "  warnings.warn(\n"
     ]
    },
    {
     "data": {
      "text/html": [
       "<pre style=\"white-space:pre;overflow-x:auto;line-height:normal;font-family:Menlo,'DejaVu Sans Mono',consolas,'Courier New',monospace\">11:18:38.209 | <span style=\"color: #008080; text-decoration-color: #008080\">INFO</span>    | Flow run<span style=\"color: #800080; text-decoration-color: #800080\"> 'bold-bittern'</span> - Created subflow run<span style=\"color: #800080; text-decoration-color: #800080\"> 'important-buzzard'</span> for flow<span style=\"color: #800080; text-decoration-color: #800080; font-weight: bold\"> 'save-splits-nb'</span>\n",
       "</pre>\n"
      ],
      "text/plain": [
       "11:18:38.209 | \u001b[36mINFO\u001b[0m    | Flow run\u001b[35m 'bold-bittern'\u001b[0m - Created subflow run\u001b[35m 'important-buzzard'\u001b[0m for flow\u001b[1;35m 'save-splits-nb'\u001b[0m\n"
      ]
     },
     "metadata": {},
     "output_type": "display_data"
    },
    {
     "data": {
      "text/html": [
       "<pre style=\"white-space:pre;overflow-x:auto;line-height:normal;font-family:Menlo,'DejaVu Sans Mono',consolas,'Courier New',monospace\">11:18:38.229 | <span style=\"color: #008080; text-decoration-color: #008080\">INFO</span>    | Flow run<span style=\"color: #800080; text-decoration-color: #800080\"> 'important-buzzard'</span> - Saving splits\n",
       "</pre>\n"
      ],
      "text/plain": [
       "11:18:38.229 | \u001b[36mINFO\u001b[0m    | Flow run\u001b[35m 'important-buzzard'\u001b[0m - Saving splits\n"
      ]
     },
     "metadata": {},
     "output_type": "display_data"
    },
    {
     "data": {
      "text/html": [
       "<pre style=\"white-space:pre;overflow-x:auto;line-height:normal;font-family:Menlo,'DejaVu Sans Mono',consolas,'Courier New',monospace\">11:18:38.601 | <span style=\"color: #008080; text-decoration-color: #008080\">INFO</span>    | Flow run<span style=\"color: #800080; text-decoration-color: #800080\"> 'important-buzzard'</span> - Finished in state <span style=\"color: #008000; text-decoration-color: #008000\">Completed</span>()\n",
       "</pre>\n"
      ],
      "text/plain": [
       "11:18:38.601 | \u001b[36mINFO\u001b[0m    | Flow run\u001b[35m 'important-buzzard'\u001b[0m - Finished in state \u001b[32mCompleted\u001b[0m()\n"
      ]
     },
     "metadata": {},
     "output_type": "display_data"
    },
    {
     "name": "stderr",
     "output_type": "stream",
     "text": [
      "/Users/zacklarsen/mambaforge/envs/wids2020/lib/python3.8/site-packages/prefect/tasks.py:333: UserWarning: A task named 'train-model-nb' and defined at '/var/folders/g7/822123tx4gn6ndvw2jgh5f140000gn/T/ipykernel_19527/1641189851.py:47' conflicts with another task. Consider specifying a unique `name` parameter in the task definition:\n",
      "\n",
      " `@task(name='my_unique_name', ...)`\n",
      "  warnings.warn(\n"
     ]
    },
    {
     "data": {
      "text/html": [
       "<pre style=\"white-space:pre;overflow-x:auto;line-height:normal;font-family:Menlo,'DejaVu Sans Mono',consolas,'Courier New',monospace\">11:18:38.636 | <span style=\"color: #008080; text-decoration-color: #008080\">INFO</span>    | Flow run<span style=\"color: #800080; text-decoration-color: #800080\"> 'bold-bittern'</span> - Created subflow run<span style=\"color: #800080; text-decoration-color: #800080\"> 'psychedelic-seal'</span> for flow<span style=\"color: #800080; text-decoration-color: #800080; font-weight: bold\"> 'train-model-nb'</span>\n",
       "</pre>\n"
      ],
      "text/plain": [
       "11:18:38.636 | \u001b[36mINFO\u001b[0m    | Flow run\u001b[35m 'bold-bittern'\u001b[0m - Created subflow run\u001b[35m 'psychedelic-seal'\u001b[0m for flow\u001b[1;35m 'train-model-nb'\u001b[0m\n"
      ]
     },
     "metadata": {},
     "output_type": "display_data"
    },
    {
     "data": {
      "text/html": [
       "<pre style=\"white-space:pre;overflow-x:auto;line-height:normal;font-family:Menlo,'DejaVu Sans Mono',consolas,'Courier New',monospace\">11:18:38.655 | <span style=\"color: #008080; text-decoration-color: #008080\">INFO</span>    | Flow run<span style=\"color: #800080; text-decoration-color: #800080\"> 'psychedelic-seal'</span> - Training XGBoost classifier\n",
       "</pre>\n"
      ],
      "text/plain": [
       "11:18:38.655 | \u001b[36mINFO\u001b[0m    | Flow run\u001b[35m 'psychedelic-seal'\u001b[0m - Training XGBoost classifier\n"
      ]
     },
     "metadata": {},
     "output_type": "display_data"
    },
    {
     "data": {
      "text/html": [
       "<pre style=\"white-space:pre;overflow-x:auto;line-height:normal;font-family:Menlo,'DejaVu Sans Mono',consolas,'Courier New',monospace\">11:18:38.898 | <span style=\"color: #008080; text-decoration-color: #008080\">INFO</span>    | Flow run<span style=\"color: #800080; text-decoration-color: #800080\"> 'psychedelic-seal'</span> - Finished in state <span style=\"color: #008000; text-decoration-color: #008000\">Completed</span>()\n",
       "</pre>\n"
      ],
      "text/plain": [
       "11:18:38.898 | \u001b[36mINFO\u001b[0m    | Flow run\u001b[35m 'psychedelic-seal'\u001b[0m - Finished in state \u001b[32mCompleted\u001b[0m()\n"
      ]
     },
     "metadata": {},
     "output_type": "display_data"
    },
    {
     "name": "stderr",
     "output_type": "stream",
     "text": [
      "/Users/zacklarsen/mambaforge/envs/wids2020/lib/python3.8/site-packages/prefect/tasks.py:333: UserWarning: A task named 'predict-nb' and defined at '/var/folders/g7/822123tx4gn6ndvw2jgh5f140000gn/T/ipykernel_19527/1641189851.py:57' conflicts with another task. Consider specifying a unique `name` parameter in the task definition:\n",
      "\n",
      " `@task(name='my_unique_name', ...)`\n",
      "  warnings.warn(\n"
     ]
    },
    {
     "data": {
      "text/html": [
       "<pre style=\"white-space:pre;overflow-x:auto;line-height:normal;font-family:Menlo,'DejaVu Sans Mono',consolas,'Courier New',monospace\">11:18:38.939 | <span style=\"color: #008080; text-decoration-color: #008080\">INFO</span>    | Flow run<span style=\"color: #800080; text-decoration-color: #800080\"> 'bold-bittern'</span> - Created subflow run<span style=\"color: #800080; text-decoration-color: #800080\"> 'enlightened-pony'</span> for flow<span style=\"color: #800080; text-decoration-color: #800080; font-weight: bold\"> 'predict-nb'</span>\n",
       "</pre>\n"
      ],
      "text/plain": [
       "11:18:38.939 | \u001b[36mINFO\u001b[0m    | Flow run\u001b[35m 'bold-bittern'\u001b[0m - Created subflow run\u001b[35m 'enlightened-pony'\u001b[0m for flow\u001b[1;35m 'predict-nb'\u001b[0m\n"
      ]
     },
     "metadata": {},
     "output_type": "display_data"
    },
    {
     "data": {
      "text/html": [
       "<pre style=\"white-space:pre;overflow-x:auto;line-height:normal;font-family:Menlo,'DejaVu Sans Mono',consolas,'Courier New',monospace\">11:18:38.959 | <span style=\"color: #008080; text-decoration-color: #008080\">INFO</span>    | Flow run<span style=\"color: #800080; text-decoration-color: #800080\"> 'enlightened-pony'</span> - Predicting on test data\n",
       "</pre>\n"
      ],
      "text/plain": [
       "11:18:38.959 | \u001b[36mINFO\u001b[0m    | Flow run\u001b[35m 'enlightened-pony'\u001b[0m - Predicting on test data\n"
      ]
     },
     "metadata": {},
     "output_type": "display_data"
    },
    {
     "data": {
      "text/html": [
       "<pre style=\"white-space:pre;overflow-x:auto;line-height:normal;font-family:Menlo,'DejaVu Sans Mono',consolas,'Courier New',monospace\">11:18:38.992 | <span style=\"color: #008080; text-decoration-color: #008080\">INFO</span>    | Flow run<span style=\"color: #800080; text-decoration-color: #800080\"> 'enlightened-pony'</span> - Finished in state <span style=\"color: #008000; text-decoration-color: #008000\">Completed</span>()\n",
       "</pre>\n"
      ],
      "text/plain": [
       "11:18:38.992 | \u001b[36mINFO\u001b[0m    | Flow run\u001b[35m 'enlightened-pony'\u001b[0m - Finished in state \u001b[32mCompleted\u001b[0m()\n"
      ]
     },
     "metadata": {},
     "output_type": "display_data"
    },
    {
     "name": "stderr",
     "output_type": "stream",
     "text": [
      "/Users/zacklarsen/mambaforge/envs/wids2020/lib/python3.8/site-packages/prefect/tasks.py:333: UserWarning: A task named 'evaluate-model-nb' and defined at '/var/folders/g7/822123tx4gn6ndvw2jgh5f140000gn/T/ipykernel_19527/1641189851.py:66' conflicts with another task. Consider specifying a unique `name` parameter in the task definition:\n",
      "\n",
      " `@task(name='my_unique_name', ...)`\n",
      "  warnings.warn(\n"
     ]
    },
    {
     "data": {
      "text/html": [
       "<pre style=\"white-space:pre;overflow-x:auto;line-height:normal;font-family:Menlo,'DejaVu Sans Mono',consolas,'Courier New',monospace\">11:18:39.032 | <span style=\"color: #008080; text-decoration-color: #008080\">INFO</span>    | Flow run<span style=\"color: #800080; text-decoration-color: #800080\"> 'bold-bittern'</span> - Created subflow run<span style=\"color: #800080; text-decoration-color: #800080\"> 'pragmatic-quokka'</span> for flow<span style=\"color: #800080; text-decoration-color: #800080; font-weight: bold\"> 'evaluate-model-nb'</span>\n",
       "</pre>\n"
      ],
      "text/plain": [
       "11:18:39.032 | \u001b[36mINFO\u001b[0m    | Flow run\u001b[35m 'bold-bittern'\u001b[0m - Created subflow run\u001b[35m 'pragmatic-quokka'\u001b[0m for flow\u001b[1;35m 'evaluate-model-nb'\u001b[0m\n"
      ]
     },
     "metadata": {},
     "output_type": "display_data"
    },
    {
     "data": {
      "text/html": [
       "<pre style=\"white-space:pre;overflow-x:auto;line-height:normal;font-family:Menlo,'DejaVu Sans Mono',consolas,'Courier New',monospace\">11:18:39.056 | <span style=\"color: #008080; text-decoration-color: #008080\">INFO</span>    | Flow run<span style=\"color: #800080; text-decoration-color: #800080\"> 'pragmatic-quokka'</span> - Evaluating model performance\n",
       "</pre>\n"
      ],
      "text/plain": [
       "11:18:39.056 | \u001b[36mINFO\u001b[0m    | Flow run\u001b[35m 'pragmatic-quokka'\u001b[0m - Evaluating model performance\n"
      ]
     },
     "metadata": {},
     "output_type": "display_data"
    },
    {
     "data": {
      "text/html": [
       "<pre style=\"white-space:pre;overflow-x:auto;line-height:normal;font-family:Menlo,'DejaVu Sans Mono',consolas,'Courier New',monospace\">11:18:39.090 | <span style=\"color: #008080; text-decoration-color: #008080\">INFO</span>    | Flow run<span style=\"color: #800080; text-decoration-color: #800080\"> 'pragmatic-quokka'</span> - Finished in state <span style=\"color: #008000; text-decoration-color: #008000\">Completed</span>()\n",
       "</pre>\n"
      ],
      "text/plain": [
       "11:18:39.090 | \u001b[36mINFO\u001b[0m    | Flow run\u001b[35m 'pragmatic-quokka'\u001b[0m - Finished in state \u001b[32mCompleted\u001b[0m()\n"
      ]
     },
     "metadata": {},
     "output_type": "display_data"
    },
    {
     "data": {
      "text/html": [
       "<pre style=\"white-space:pre;overflow-x:auto;line-height:normal;font-family:Menlo,'DejaVu Sans Mono',consolas,'Courier New',monospace\">11:18:39.106 | <span style=\"color: #008080; text-decoration-color: #008080\">INFO</span>    | Flow run<span style=\"color: #800080; text-decoration-color: #800080\"> 'bold-bittern'</span> - Finished in state <span style=\"color: #008000; text-decoration-color: #008000\">Completed</span>()\n",
       "</pre>\n"
      ],
      "text/plain": [
       "11:18:39.106 | \u001b[36mINFO\u001b[0m    | Flow run\u001b[35m 'bold-bittern'\u001b[0m - Finished in state \u001b[32mCompleted\u001b[0m()\n"
      ]
     },
     "metadata": {},
     "output_type": "display_data"
    }
   ],
   "source": [
    "# Run the flow\n",
    "result = flow_instance(training_v2_path)"
   ]
  },
  {
   "cell_type": "code",
   "execution_count": 68,
   "metadata": {},
   "outputs": [
    {
     "data": {
      "text/plain": [
       "{'mean_age': 62.30951690673828,\n",
       " 'accuracy': 0.9127732650057242,\n",
       " 'precision': 0.32432432432432434,\n",
       " 'recall': 0.007561436672967864,\n",
       " 'f1': 0.014778325123152709,\n",
       " 'roc_auc': 0.5030347169041612}"
      ]
     },
     "execution_count": 68,
     "metadata": {},
     "output_type": "execute_result"
    }
   ],
   "source": [
    "result"
   ]
  },
  {
   "cell_type": "code",
   "execution_count": 71,
   "metadata": {},
   "outputs": [
    {
     "name": "stdout",
     "output_type": "stream",
     "text": [
      "Mean Age: 62.3095\n",
      "Accuracy: 0.9128\n",
      "Precision: 0.3243\n",
      "Recall: 0.0076\n",
      "F1 score: 0.0148\n",
      "ROC AUC score: 0.5030\n"
     ]
    }
   ],
   "source": [
    "print(f\"Mean Age: {result['mean_age']:.4f}\")\n",
    "\n",
    "print(f\"Accuracy: {result['accuracy']:.4f}\")\n",
    "print(f\"Precision: {result['precision']:.4f}\")\n",
    "print(f\"Recall: {result['recall']:.4f}\")\n",
    "print(f\"F1 score: {result['f1']:.4f}\")\n",
    "print(f\"ROC AUC score: {result['roc_auc']:.4f}\")"
   ]
  },
  {
   "cell_type": "code",
   "execution_count": null,
   "metadata": {},
   "outputs": [],
   "source": []
  },
  {
   "cell_type": "code",
   "execution_count": null,
   "metadata": {},
   "outputs": [],
   "source": []
  },
  {
   "cell_type": "code",
   "execution_count": null,
   "metadata": {},
   "outputs": [],
   "source": []
  },
  {
   "cell_type": "code",
   "execution_count": null,
   "metadata": {},
   "outputs": [],
   "source": []
  },
  {
   "cell_type": "code",
   "execution_count": null,
   "metadata": {},
   "outputs": [],
   "source": []
  },
  {
   "cell_type": "code",
   "execution_count": null,
   "metadata": {},
   "outputs": [],
   "source": []
  },
  {
   "cell_type": "code",
   "execution_count": null,
   "metadata": {},
   "outputs": [],
   "source": []
  },
  {
   "cell_type": "code",
   "execution_count": null,
   "metadata": {},
   "outputs": [],
   "source": []
  },
  {
   "cell_type": "code",
   "execution_count": null,
   "metadata": {},
   "outputs": [],
   "source": []
  },
  {
   "cell_type": "code",
   "execution_count": null,
   "metadata": {},
   "outputs": [],
   "source": []
  },
  {
   "cell_type": "code",
   "execution_count": null,
   "metadata": {},
   "outputs": [],
   "source": []
  }
 ],
 "metadata": {
  "kernelspec": {
   "display_name": "wids2020",
   "language": "python",
   "name": "python3"
  },
  "language_info": {
   "codemirror_mode": {
    "name": "ipython",
    "version": 3
   },
   "file_extension": ".py",
   "mimetype": "text/x-python",
   "name": "python",
   "nbconvert_exporter": "python",
   "pygments_lexer": "ipython3",
   "version": "3.8.18"
  },
  "orig_nbformat": 4
 },
 "nbformat": 4,
 "nbformat_minor": 2
}
