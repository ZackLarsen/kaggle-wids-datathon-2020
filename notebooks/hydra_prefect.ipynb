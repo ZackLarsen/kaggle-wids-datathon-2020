{
 "cells": [
  {
   "cell_type": "code",
   "execution_count": 1,
   "metadata": {},
   "outputs": [],
   "source": [
    "from pathlib import Path\n",
    "from pprint import pprint\n",
    "\n",
    "import polars as pl\n",
    "from hydra import compose, initialize\n",
    "from omegaconf import OmegaConf, DictConfig"
   ]
  },
  {
   "cell_type": "code",
   "execution_count": 2,
   "metadata": {},
   "outputs": [],
   "source": [
    "with initialize(version_base=\"1.3.2\",\n",
    "                config_path=\"../src/config\",\n",
    "                job_name=\"test_flow\"):\n",
    "    cfg = compose(config_name=\"config\")"
   ]
  },
  {
   "cell_type": "code",
   "execution_count": 3,
   "metadata": {},
   "outputs": [
    {
     "name": "stdout",
     "output_type": "stream",
     "text": [
      "target_var: hospital_death\n",
      "train_test_split:\n",
      "  random_state: 42\n",
      "  train_ratio: 0.7\n",
      "  validation_ratio: 0.15\n",
      "  test_ratio: 0.15\n",
      "base_path: /Users/zacklarsen/Documents/Projects/kaggle-wids-datathon-2020\n",
      "data_path: ${base_path}/data\n",
      "model_path: ${base_path}/models\n",
      "paths:\n",
      "  mlflow:\n",
      "    mlruns: ${base_path}/mlruns\n",
      "  data:\n",
      "    raw: ${data_path}/training_v2.csv\n",
      "    clean: ${data_path}/clean.parquet\n",
      "    X_train: ${data_path}/X_train.parquet\n",
      "    X_test: ${data_path}/X_test.parquet\n",
      "    X_validation: ${data_path}/X_validation.parquet\n",
      "    y_train: ${data_path}/y_train.parquet\n",
      "    y_test: ${data_path}/y_test.parquet\n",
      "    y_validation: ${data_path}/y_validation.parquet\n",
      "  models:\n",
      "    xgboost: ${model_path}/xgboost\n",
      "    lightgbm: ${model_path}/lightgbm\n",
      "    catboost: ${model_path}/catboost\n",
      "    pycaret: ${model_path}/pycaret\n",
      "    tpot: ${model_path}/tpot\n",
      "\n"
     ]
    }
   ],
   "source": [
    "print(OmegaConf.to_yaml(cfg))"
   ]
  },
  {
   "cell_type": "code",
   "execution_count": 4,
   "metadata": {},
   "outputs": [],
   "source": [
    "raw_path = cfg.paths.data.raw\n",
    "clean_path = cfg.paths.data.clean\n",
    "X_train_path = cfg.paths.data.X_train\n",
    "X_test_path = cfg.paths.data.X_test\n",
    "X_validation_path = cfg.paths.data.X_validation\n",
    "y_train_path = cfg.paths.data.y_train\n",
    "y_test_path = cfg.paths.data.y_test\n",
    "y_validation_path = cfg.paths.data.y_validation"
   ]
  },
  {
   "cell_type": "code",
   "execution_count": 5,
   "metadata": {},
   "outputs": [
    {
     "data": {
      "text/plain": [
       "'/Users/zacklarsen/Documents/Projects/kaggle-wids-datathon-2020/data/training_v2.csv'"
      ]
     },
     "execution_count": 5,
     "metadata": {},
     "output_type": "execute_result"
    }
   ],
   "source": [
    "raw_path"
   ]
  },
  {
   "cell_type": "code",
   "execution_count": 6,
   "metadata": {},
   "outputs": [
    {
     "data": {
      "text/plain": [
       "PosixPath('/Users/zacklarsen/Documents/Projects/kaggle-wids-datathon-2020/data/training_v2.csv')"
      ]
     },
     "execution_count": 6,
     "metadata": {},
     "output_type": "execute_result"
    }
   ],
   "source": [
    "Path(raw_path)"
   ]
  },
  {
   "cell_type": "code",
   "execution_count": 7,
   "metadata": {},
   "outputs": [
    {
     "data": {
      "text/plain": [
       "PosixPath('/Users/zacklarsen/Documents/Projects/kaggle-wids-datathon-2020/data/training_v2.csv')"
      ]
     },
     "execution_count": 7,
     "metadata": {},
     "output_type": "execute_result"
    }
   ],
   "source": [
    "Path(cfg.paths.data.raw)"
   ]
  },
  {
   "cell_type": "code",
   "execution_count": 8,
   "metadata": {},
   "outputs": [
    {
     "data": {
      "text/plain": [
       "'hospital_death'"
      ]
     },
     "execution_count": 8,
     "metadata": {},
     "output_type": "execute_result"
    }
   ],
   "source": [
    "cfg.target_var"
   ]
  },
  {
   "cell_type": "code",
   "execution_count": null,
   "metadata": {},
   "outputs": [],
   "source": []
  },
  {
   "cell_type": "code",
   "execution_count": null,
   "metadata": {},
   "outputs": [],
   "source": []
  },
  {
   "cell_type": "code",
   "execution_count": 9,
   "metadata": {},
   "outputs": [
    {
     "name": "stdout",
     "output_type": "stream",
     "text": [
      "Rows: 91713\n",
      "Columns: 186\n",
      "$ encounter_id                  <i64> 66154, 114252, 119783, 79267, 92056, 33181, 82208, 120995, 80471, 42871\n",
      "$ patient_id                    <i64> 25312, 59342, 50777, 46918, 34377, 74489, 49526, 50129, 10577, 90749\n",
      "$ hospital_id                   <i64> 118, 81, 118, 118, 33, 83, 83, 33, 118, 118\n",
      "$ hospital_death                <i64> 0, 0, 0, 0, 0, 0, 0, 0, 1, 0\n",
      "$ age                           <str> '68', '77', '25', '81', '19', '67', '59', '70', '45', '50'\n",
      "$ bmi                           <str> '22.73', '27.42', '31.95', '22.64', 'NA', '27.56', '57.45', 'NA', 'NA', '25.71'\n",
      "$ elective_surgery              <i64> 0, 0, 0, 1, 0, 0, 0, 0, 0, 0\n",
      "$ ethnicity                     <str> 'Caucasian', 'Caucasian', 'Caucasian', 'Caucasian', 'Caucasian', 'Caucasian', 'Caucasian', 'Caucasian', 'Caucasian', None\n",
      "$ gender                        <str> 'M', 'F', 'F', 'F', 'M', 'M', 'F', 'M', 'M', 'M'\n",
      "$ height                        <str> '180.3', '160', '172.7', '165.1', '188', '190.5', '165.1', '165', '170.2', '175.3'\n",
      "$ hospital_admit_source         <str> 'Floor', 'Floor', 'Emergency Department', 'Operating Room', None, 'Direct Admit', 'Operating Room', 'Emergency Department', 'Other Hospital', 'Direct Admit'\n",
      "$ icu_admit_source              <str> 'Floor', 'Floor', 'Accident & Emergency', 'Operating Room / Recovery', 'Accident & Emergency', 'Accident & Emergency', 'Accident & Emergency', 'Accident & Emergency', 'Other Hospital', 'Accident & Emergency'\n",
      "$ icu_id                        <i64> 92, 90, 93, 92, 91, 95, 95, 91, 114, 114\n",
      "$ icu_stay_type                 <str> 'admit', 'admit', 'admit', 'admit', 'admit', 'admit', 'admit', 'admit', 'admit', 'admit'\n",
      "$ icu_type                      <str> 'CTICU', 'Med-Surg ICU', 'Med-Surg ICU', 'CTICU', 'Med-Surg ICU', 'Med-Surg ICU', 'Med-Surg ICU', 'Med-Surg ICU', 'CCU-CTICU', 'CCU-CTICU'\n",
      "$ pre_icu_los_days              <f64> 0.541666667, 0.927777778, 0.000694444, 0.000694444, 0.073611111, 0.000694444, 0.000694444, 0.002083333, 0.009027778, 0.060416667\n",
      "$ readmission_status            <i64> 0, 0, 0, 0, 0, 0, 0, 0, 0, 0\n",
      "$ weight                        <str> '73.9', '70.2', '95.3', '61.7', 'NA', '100', '156.6', 'NA', 'NA', '79'\n",
      "$ albumin_apache                <str> '2.3', 'NA', 'NA', 'NA', 'NA', 'NA', 'NA', 'NA', '2.7', '3.6'\n",
      "$ apache_2_diagnosis            <str> '113', '108', '122', '203', '119', '301', '108', '113', '116', '112'\n",
      "$ apache_3j_diagnosis           <str> '502.01', '203.01', '703.03', '1206.03', '601.01', '403.01', '203.01', '501.05', '103.01', '107.01'\n",
      "$ apache_post_operative         <i64> 0, 0, 0, 1, 0, 0, 0, 0, 0, 0\n",
      "$ arf_apache                    <str> '0', '0', '0', '0', '0', '0', '0', '0', '0', '0'\n",
      "$ bilirubin_apache              <str> '0.4', 'NA', 'NA', 'NA', 'NA', 'NA', 'NA', 'NA', '0.2', '0.4'\n",
      "$ bun_apache                    <str> '31', '9', 'NA', 'NA', 'NA', '13', '18', '48', '15', '10'\n",
      "$ creatinine_apache             <str> '2.51', '0.56', 'NA', 'NA', 'NA', '0.71', '0.78', '2.05', '1.16', '0.83'\n",
      "$ fio2_apache                   <str> 'NA', '1', 'NA', '0.6', 'NA', 'NA', '1', 'NA', '1', 'NA'\n",
      "$ gcs_eyes_apache               <str> '3', '1', '3', '4', 'NA', '4', '4', '4', '4', '4'\n",
      "$ gcs_motor_apache              <str> '6', '3', '6', '6', 'NA', '6', '6', '6', '6', '6'\n",
      "$ gcs_unable_apache             <str> '0', '0', '0', '0', 'NA', '0', '0', '0', '0', '0'\n",
      "$ gcs_verbal_apache             <str> '4', '1', '5', '5', 'NA', '5', '5', '5', '5', '5'\n",
      "$ glucose_apache                <str> '168', '145', 'NA', '185', 'NA', '156', '197', '164', '380', '134'\n",
      "$ heart_rate_apache             <str> '118', '120', '102', '114', '60', '113', '133', '120', '82', '94'\n",
      "$ hematocrit_apache             <str> '27.4', '36.9', 'NA', '25.9', 'NA', '44.2', '33.5', '22.6', '37.9', '37.2'\n",
      "$ intubated_apache              <str> '0', '0', '0', '1', '0', '0', '1', '0', '0', '0'\n",
      "$ map_apache                    <str> '40', '46', '68', '60', '103', '130', '138', '60', '66', '58'\n",
      "$ paco2_apache                  <str> 'NA', '37', 'NA', '30', 'NA', 'NA', '43', 'NA', '60', 'NA'\n",
      "$ paco2_for_ph_apache           <str> 'NA', '37', 'NA', '30', 'NA', 'NA', '43', 'NA', '60', 'NA'\n",
      "$ pao2_apache                   <str> 'NA', '51', 'NA', '142', 'NA', 'NA', '370', 'NA', '92', 'NA'\n",
      "$ ph_apache                     <str> 'NA', '7.45', 'NA', '7.39', 'NA', 'NA', '7.42', 'NA', '7.14', 'NA'\n",
      "$ resprate_apache               <str> '36', '33', '37', '4', '16', '35', '53', '28', '14', '46'\n",
      "$ sodium_apache                 <str> '134', '145', 'NA', 'NA', 'NA', '137', '135', '140', '142', '139'\n",
      "$ temp_apache                   <str> '39.3', '35.1', '36.7', '34.8', '36.7', '36.6', '35', '36.6', '36.9', '36.3'\n",
      "$ urineoutput_apache            <str> 'NA', 'NA', 'NA', 'NA', 'NA', 'NA', 'NA', 'NA', 'NA', 'NA'\n",
      "$ ventilated_apache             <str> '0', '1', '0', '1', '0', '0', '1', '1', '1', '0'\n",
      "$ wbc_apache                    <str> '14.1', '12.7', 'NA', '8', 'NA', '10.9', '5.9', '12.8', '24.7', '8.4'\n",
      "$ d1_diasbp_invasive_max        <str> '46', 'NA', 'NA', '62', 'NA', 'NA', '107', 'NA', '64', '74'\n",
      "$ d1_diasbp_invasive_min        <str> '32', 'NA', 'NA', '30', 'NA', 'NA', '65', 'NA', '52', '57'\n",
      "$ d1_diasbp_max                 <str> '68', '95', '88', '48', '99', '100', '76', '84', '65', '83'\n",
      "$ d1_diasbp_min                 <str> '37', '31', '48', '42', '57', '61', '68', '46', '59', '48'\n",
      "$ d1_diasbp_noninvasive_max     <str> '68', '95', '88', '48', '99', '100', '76', '84', '65', '83'\n",
      "$ d1_diasbp_noninvasive_min     <str> '37', '31', '48', '42', '57', '61', '68', '46', '59', '48'\n",
      "$ d1_heartrate_max              <str> '119', '118', '96', '116', '89', '113', '112', '118', '82', '96'\n",
      "$ d1_heartrate_min              <str> '72', '72', '68', '92', '60', '83', '70', '86', '82', '57'\n",
      "$ d1_mbp_invasive_max           <str> '66', 'NA', 'NA', '92', 'NA', 'NA', '138', 'NA', '72', '92'\n",
      "$ d1_mbp_invasive_min           <str> '40', 'NA', 'NA', '52', 'NA', 'NA', '84', 'NA', '66', '73'\n",
      "$ d1_mbp_max                    <str> '89', '120', '102', '84', '104', '127', '117', '114', '93', '101'\n",
      "$ d1_mbp_min                    <str> '46', '38', '68', '84', '90', '80', '97', '60', '71', '59'\n",
      "$ d1_mbp_noninvasive_max        <str> '89', '120', '102', '84', '104', '127', '117', '114', '93', '101'\n",
      "$ d1_mbp_noninvasive_min        <str> '46', '38', '68', '84', '90', '80', '97', '60', '71', '59'\n",
      "$ d1_resprate_max               <str> '34', '32', '21', '23', '18', '32', '38', '28', '24', '44'\n",
      "$ d1_resprate_min               <str> '10', '12', '8', '7', '16', '10', '16', '12', '19', '14'\n",
      "$ d1_spo2_max                   <str> '100', '100', '98', '100', '100', '97', '100', '100', '97', '100'\n",
      "$ d1_spo2_min                   <str> '74', '70', '91', '95', '96', '91', '87', '92', '97', '96'\n",
      "$ d1_sysbp_invasive_max         <str> '122', 'NA', 'NA', '164', 'NA', 'NA', '191', 'NA', '94', '126'\n",
      "$ d1_sysbp_invasive_min         <str> '64', 'NA', 'NA', '78', 'NA', 'NA', '116', 'NA', '72', '103'\n",
      "$ d1_sysbp_max                  <str> '131', '159', '148', '158', '147', '173', '151', '147', '104', '135'\n",
      "$ d1_sysbp_min                  <str> '73', '67', '105', '84', '120', '107', '133', '71', '98', '78'\n",
      "$ d1_sysbp_noninvasive_max      <str> '131', '159', '148', '158', '147', '173', '151', '147', '104', '135'\n",
      "$ d1_sysbp_noninvasive_min      <str> '73', '67', '105', '84', '120', '107', '133', '71', '98', '78'\n",
      "$ d1_temp_max                   <str> '39.9', '36.3', '37', '38', '37.2', '36.8', '37.2', '38.5', '36.9', '37.1'\n",
      "$ d1_temp_min                   <str> '37.2', '35.1', '36.7', '34.8', '36.7', '36.6', '35', '36.6', '36.9', '36.4'\n",
      "$ h1_diasbp_invasive_max        <str> 'NA', 'NA', 'NA', '62', 'NA', 'NA', '107', 'NA', '64', '73'\n",
      "$ h1_diasbp_invasive_min        <str> 'NA', 'NA', 'NA', '44', 'NA', 'NA', '79', 'NA', '52', '62'\n",
      "$ h1_diasbp_max                 <str> '68', '61', '88', '62', '99', '89', '107', '74', '65', '83'\n",
      "$ h1_diasbp_min                 <str> '63', '48', '58', '44', '68', '89', '79', '55', '59', '61'\n",
      "$ h1_diasbp_noninvasive_max     <str> '68', '61', '88', 'NA', '99', '89', 'NA', '74', '65', '83'\n",
      "$ h1_diasbp_noninvasive_min     <str> '63', '48', '58', 'NA', '68', '89', 'NA', '55', '59', '61'\n",
      "$ h1_heartrate_max              <str> '119', '114', '96', '100', '89', '83', '79', '118', '82', '96'\n",
      "$ h1_heartrate_min              <str> '108', '100', '78', '96', '76', '83', '72', '114', '82', '60'\n",
      "$ h1_mbp_invasive_max           <str> 'NA', 'NA', 'NA', '92', 'NA', 'NA', '138', 'NA', '72', '92'\n",
      "$ h1_mbp_invasive_min           <str> 'NA', 'NA', 'NA', '71', 'NA', 'NA', '115', 'NA', '66', '78'\n",
      "$ h1_mbp_max                    <str> '86', '85', '91', '92', '104', '111', '117', '88', '93', '101'\n",
      "$ h1_mbp_min                    <str> '85', '57', '83', '71', '92', '111', '117', '60', '71', '77'\n",
      "$ h1_mbp_noninvasive_max        <str> '86', '85', '91', 'NA', '104', '111', '117', '88', '93', '101'\n",
      "$ h1_mbp_noninvasive_min        <str> '85', '57', '83', 'NA', '92', '111', '117', '60', '71', '77'\n",
      "$ h1_resprate_max               <str> '26', '31', '20', '12', 'NA', '12', '18', '28', '24', '29'\n",
      "$ h1_resprate_min               <str> '18', '28', '16', '11', 'NA', '12', '18', '26', '19', '17'\n",
      "$ h1_spo2_max                   <str> '100', '95', '98', '100', '100', '97', '100', '96', '97', '100'\n",
      "$ h1_spo2_min                   <str> '74', '70', '91', '99', '100', '97', '100', '92', '97', '96'\n",
      "$ h1_sysbp_invasive_max         <str> 'NA', 'NA', 'NA', '136', 'NA', 'NA', '191', 'NA', '94', '126'\n",
      "$ h1_sysbp_invasive_min         <str> 'NA', 'NA', 'NA', '106', 'NA', 'NA', '163', 'NA', '72', '106'\n",
      "$ h1_sysbp_max                  <str> '131', '95', '148', '136', '130', '143', '191', '119', '104', '135'\n",
      "$ h1_sysbp_min                  <str> '115', '71', '124', '106', '120', '143', '163', '106', '98', '103'\n",
      "$ h1_sysbp_noninvasive_max      <str> '131', '95', '148', 'NA', '130', '143', 'NA', '119', '104', '135'\n",
      "$ h1_sysbp_noninvasive_min      <str> '115', '71', '124', 'NA', '120', '143', 'NA', '106', '98', '103'\n",
      "$ h1_temp_max                   <str> '39.5', '36.3', '36.7', '35.6', 'NA', '36.7', '36.8', '38.5', '36.9', '36.9'\n",
      "$ h1_temp_min                   <str> '37.5', '36.3', '36.7', '34.8', 'NA', '36.7', '35', '38.5', '36.9', '36.9'\n",
      "$ d1_albumin_max                <str> '2.3', '1.6', 'NA', 'NA', 'NA', 'NA', 'NA', 'NA', '2.7', '3.6'\n",
      "$ d1_albumin_min                <str> '2.3', '1.6', 'NA', 'NA', 'NA', 'NA', 'NA', 'NA', '2.7', '3.6'\n",
      "$ d1_bilirubin_max              <str> '0.4', '0.5', 'NA', 'NA', 'NA', 'NA', 'NA', 'NA', '0.2', '0.4'\n",
      "$ d1_bilirubin_min              <str> '0.4', '0.5', 'NA', 'NA', 'NA', 'NA', 'NA', 'NA', '0.2', '0.4'\n",
      "$ d1_bun_max                    <str> '31', '11', 'NA', 'NA', 'NA', '13', '18', '48', '15', '10'\n",
      "$ d1_bun_min                    <str> '30', '9', 'NA', 'NA', 'NA', '13', '11', '48', '15', '10'\n",
      "$ d1_calcium_max                <str> '8.5', '8.6', 'NA', 'NA', 'NA', '8.8', '9.3', '7.8', '7.3', '8.3'\n",
      "$ d1_calcium_min                <str> '7.4', '8', 'NA', 'NA', 'NA', '8.8', '8.7', '7.8', '7.3', '8.3'\n",
      "$ d1_creatinine_max             <str> '2.51', '0.71', 'NA', 'NA', 'NA', '0.71', '0.85', '2.05', '1.16', '0.83'\n",
      "$ d1_creatinine_min             <str> '2.23', '0.56', 'NA', 'NA', 'NA', '0.71', '0.78', '2.05', '1.16', '0.83'\n",
      "$ d1_glucose_max                <str> '168', '145', 'NA', '185', 'NA', '156', '197', '129', '365', '134'\n",
      "$ d1_glucose_min                <str> '109', '128', 'NA', '88', 'NA', '125', '129', '129', '288', '134'\n",
      "$ d1_hco3_max                   <str> '19', '27', 'NA', 'NA', 'NA', '27', '33', '29', '23', '28'\n",
      "$ d1_hco3_min                   <str> '15', '26', 'NA', 'NA', 'NA', '27', '30', '29', '23', '28'\n",
      "$ d1_hemaglobin_max             <str> '8.9', '11.3', 'NA', '11.6', 'NA', '15.6', '11.9', '7.8', '12.3', '12.8'\n",
      "$ d1_hemaglobin_min             <str> '8.9', '11.1', 'NA', '8.9', 'NA', '15.6', '10.7', '7.8', '12.3', '12.8'\n",
      "$ d1_hematocrit_max             <str> '27.4', '36.9', 'NA', '34', 'NA', '44.2', '37.5', '25.5', '37.9', '37.2'\n",
      "$ d1_hematocrit_min             <str> '27.4', '36.1', 'NA', '25.9', 'NA', '44.2', '33.5', '25.5', '37.9', '37.2'\n",
      "$ d1_inr_max                    <str> 'NA', '1.3', 'NA', '1.6', 'NA', '1.1', 'NA', 'NA', '1.2', 'NA'\n",
      "$ d1_inr_min                    <str> 'NA', '1.3', 'NA', '1.1', 'NA', '1.1', 'NA', 'NA', '1.2', 'NA'\n",
      "$ d1_lactate_max                <str> '1.3', '3.5', 'NA', 'NA', 'NA', 'NA', 'NA', 'NA', '5.9', 'NA'\n",
      "$ d1_lactate_min                <str> '1', '3.5', 'NA', 'NA', 'NA', 'NA', 'NA', 'NA', '5.9', 'NA'\n",
      "$ d1_platelets_max              <str> '233', '557', 'NA', '198', 'NA', '159', '295', '260', '226', '232'\n",
      "$ d1_platelets_min              <str> '233', '487', 'NA', '43', 'NA', '159', '278', '260', '226', '232'\n",
      "$ d1_potassium_max              <str> '4', '4.2', 'NA', '5', 'NA', '3.9', '5', '5.8', '5.2', '4.1'\n",
      "$ d1_potassium_min              <str> '3.4', '3.8', 'NA', '3.5', 'NA', '3.7', '4.2', '2.4', '5.2', '3.3'\n",
      "$ d1_sodium_max                 <str> '136', '145', 'NA', 'NA', 'NA', '137', '136', '140', '142', '139'\n",
      "$ d1_sodium_min                 <str> '134', '145', 'NA', 'NA', 'NA', '137', '135', '140', '142', '139'\n",
      "$ d1_wbc_max                    <str> '14.1', '23.3', 'NA', '9', 'NA', '10.9', '9.3', '12.8', '24.7', '12.8'\n",
      "$ d1_wbc_min                    <str> '14.1', '12.7', 'NA', '8', 'NA', '10.9', '5.9', '12.8', '24.7', '12.8'\n",
      "$ h1_albumin_max                <str> 'NA', 'NA', 'NA', 'NA', 'NA', 'NA', 'NA', 'NA', '2.7', '3.6'\n",
      "$ h1_albumin_min                <str> 'NA', 'NA', 'NA', 'NA', 'NA', 'NA', 'NA', 'NA', '2.7', '3.6'\n",
      "$ h1_bilirubin_max              <str> 'NA', 'NA', 'NA', 'NA', 'NA', 'NA', 'NA', 'NA', '0.2', '0.4'\n",
      "$ h1_bilirubin_min              <str> 'NA', 'NA', 'NA', 'NA', 'NA', 'NA', 'NA', 'NA', '0.2', '0.4'\n",
      "$ h1_bun_max                    <str> 'NA', '9', 'NA', 'NA', 'NA', 'NA', '18', 'NA', '15', '10'\n",
      "$ h1_bun_min                    <str> 'NA', '9', 'NA', 'NA', 'NA', 'NA', '18', 'NA', '15', '10'\n",
      "$ h1_calcium_max                <str> 'NA', '8.6', 'NA', 'NA', 'NA', 'NA', '8.7', 'NA', '7.3', '8.3'\n",
      "$ h1_calcium_min                <str> 'NA', '8.6', 'NA', 'NA', 'NA', 'NA', '8.7', 'NA', '7.3', '8.3'\n",
      "$ h1_creatinine_max             <str> 'NA', '0.56', 'NA', 'NA', 'NA', 'NA', '0.78', 'NA', '1.16', '0.83'\n",
      "$ h1_creatinine_min             <str> 'NA', '0.56', 'NA', 'NA', 'NA', 'NA', '0.78', 'NA', '1.16', '0.83'\n",
      "$ h1_glucose_max                <str> 'NA', '145', 'NA', 'NA', 'NA', 'NA', '197', 'NA', '365', '134'\n",
      "$ h1_glucose_min                <str> 'NA', '143', 'NA', 'NA', 'NA', 'NA', '194', 'NA', '365', '134'\n",
      "$ h1_hco3_max                   <str> 'NA', '27', 'NA', 'NA', 'NA', 'NA', '30', 'NA', '23', '28'\n",
      "$ h1_hco3_min                   <str> 'NA', '27', 'NA', 'NA', 'NA', 'NA', '30', 'NA', '23', '28'\n",
      "$ h1_hemaglobin_max             <str> 'NA', '11.3', 'NA', '11.6', 'NA', 'NA', '10.7', 'NA', '12.3', '12.8'\n",
      "$ h1_hemaglobin_min             <str> 'NA', '11.3', 'NA', '11.6', 'NA', 'NA', '10.7', 'NA', '12.3', '12.8'\n",
      "$ h1_hematocrit_max             <str> 'NA', '36.9', 'NA', '34', 'NA', 'NA', '33.5', 'NA', '37.9', '37.2'\n",
      "$ h1_hematocrit_min             <str> 'NA', '36.9', 'NA', '34', 'NA', 'NA', '33.5', 'NA', '37.9', '37.2'\n",
      "$ h1_inr_max                    <str> 'NA', '1.3', 'NA', '1.6', 'NA', '1.1', 'NA', 'NA', '1.2', 'NA'\n",
      "$ h1_inr_min                    <str> 'NA', '1.3', 'NA', '1.1', 'NA', '1.1', 'NA', 'NA', '1.2', 'NA'\n",
      "$ h1_lactate_max                <str> 'NA', '3.5', 'NA', 'NA', 'NA', 'NA', 'NA', 'NA', '5.9', 'NA'\n",
      "$ h1_lactate_min                <str> 'NA', '3.5', 'NA', 'NA', 'NA', 'NA', 'NA', 'NA', '5.9', 'NA'\n",
      "$ h1_platelets_max              <str> 'NA', '557', 'NA', '43', 'NA', 'NA', '278', 'NA', '226', '232'\n",
      "$ h1_platelets_min              <str> 'NA', '557', 'NA', '43', 'NA', 'NA', '278', 'NA', '226', '232'\n",
      "$ h1_potassium_max              <str> 'NA', '4.2', 'NA', 'NA', 'NA', 'NA', '4.2', 'NA', '5.2', '3.3'\n",
      "$ h1_potassium_min              <str> 'NA', '4.2', 'NA', 'NA', 'NA', 'NA', '4.2', 'NA', '5.2', '3.3'\n",
      "$ h1_sodium_max                 <str> 'NA', '145', 'NA', 'NA', 'NA', 'NA', '135', 'NA', '142', '139'\n",
      "$ h1_sodium_min                 <str> 'NA', '145', 'NA', 'NA', 'NA', 'NA', '135', 'NA', '142', '139'\n",
      "$ h1_wbc_max                    <str> 'NA', '12.7', 'NA', '8.8', 'NA', 'NA', '5.9', 'NA', '24.7', '12.8'\n",
      "$ h1_wbc_min                    <str> 'NA', '12.7', 'NA', '8.8', 'NA', 'NA', '5.9', 'NA', '24.7', '12.8'\n",
      "$ d1_arterial_pco2_max          <str> 'NA', '37', 'NA', '37', 'NA', 'NA', '43', '43', '60', 'NA'\n",
      "$ d1_arterial_pco2_min          <str> 'NA', '37', 'NA', '27', 'NA', 'NA', '43', '43', '33', 'NA'\n",
      "$ d1_arterial_ph_max            <str> 'NA', '7.45', 'NA', '7.44', 'NA', 'NA', '7.42', '7.38', '7.62', 'NA'\n",
      "$ d1_arterial_ph_min            <str> 'NA', '7.45', 'NA', '7.34', 'NA', 'NA', '7.42', '7.38', '6.99', 'NA'\n",
      "$ d1_arterial_po2_max           <str> 'NA', '51', 'NA', '337', 'NA', 'NA', '370', '89', '256', 'NA'\n",
      "$ d1_arterial_po2_min           <str> 'NA', '51', 'NA', '102', 'NA', 'NA', '370', '89', '92', 'NA'\n",
      "$ d1_pao2fio2ratio_max          <str> 'NA', '54.8', 'NA', '342.5', 'NA', 'NA', '370', 'NA', '92', 'NA'\n",
      "$ d1_pao2fio2ratio_min          <str> 'NA', '51', 'NA', '236.6666667', 'NA', 'NA', '370', 'NA', '92', 'NA'\n",
      "$ h1_arterial_pco2_max          <str> 'NA', '37', 'NA', '36', 'NA', 'NA', '43', 'NA', '60', 'NA'\n",
      "$ h1_arterial_pco2_min          <str> 'NA', '37', 'NA', '33', 'NA', 'NA', '43', 'NA', '60', 'NA'\n",
      "$ h1_arterial_ph_max            <str> 'NA', '7.45', 'NA', '7.37', 'NA', 'NA', '7.42', 'NA', '7.14', 'NA'\n",
      "$ h1_arterial_ph_min            <str> 'NA', '7.45', 'NA', '7.34', 'NA', 'NA', '7.42', 'NA', '7.14', 'NA'\n",
      "$ h1_arterial_po2_max           <str> 'NA', '51', 'NA', '337', 'NA', 'NA', '370', 'NA', '92', 'NA'\n",
      "$ h1_arterial_po2_min           <str> 'NA', '51', 'NA', '265', 'NA', 'NA', '370', 'NA', '92', 'NA'\n",
      "$ h1_pao2fio2ratio_max          <str> 'NA', '51', 'NA', '337', 'NA', 'NA', '370', 'NA', '92', 'NA'\n",
      "$ h1_pao2fio2ratio_min          <str> 'NA', '51', 'NA', '337', 'NA', 'NA', '370', 'NA', '92', 'NA'\n",
      "$ apache_4a_hospital_death_prob <str> '0.1', '0.47', '0', '0.04', 'NA', '0.05', '0.1', '0.11', 'NA', '0.02'\n",
      "$ apache_4a_icu_death_prob      <str> '0.05', '0.29', '0', '0.03', 'NA', '0.02', '0.05', '0.06', 'NA', '0.01'\n",
      "$ aids                          <str> '0', '0', '0', '0', '0', '0', '0', '0', '0', '0'\n",
      "$ cirrhosis                     <str> '0', '0', '0', '0', '0', '0', '0', '0', '0', '0'\n",
      "$ diabetes_mellitus             <str> '1', '1', '0', '0', '0', '1', '1', '0', '0', '0'\n",
      "$ hepatic_failure               <str> '0', '0', '0', '0', '0', '0', '0', '0', '0', '0'\n",
      "$ immunosuppression             <str> '0', '0', '0', '0', '0', '0', '0', '1', '0', '0'\n",
      "$ leukemia                      <str> '0', '0', '0', '0', '0', '0', '0', '0', '0', '0'\n",
      "$ lymphoma                      <str> '0', '0', '0', '0', '0', '0', '0', '0', '0', '0'\n",
      "$ solid_tumor_with_metastasis   <str> '0', '0', '0', '0', '0', '0', '0', '0', '0', '0'\n",
      "$ apache_3j_bodysystem          <str> 'Sepsis', 'Respiratory', 'Metabolic', 'Cardiovascular', 'Trauma', 'Neurological', 'Respiratory', 'Sepsis', 'Cardiovascular', 'Cardiovascular'\n",
      "$ apache_2_bodysystem           <str> 'Cardiovascular', 'Respiratory', 'Metabolic', 'Cardiovascular', 'Trauma', 'Neurologic', 'Respiratory', 'Cardiovascular', 'Cardiovascular', 'Cardiovascular'\n",
      "\n"
     ]
    }
   ],
   "source": [
    "pl.read_csv(raw_path, infer_schema_length=10000).glimpse()"
   ]
  },
  {
   "cell_type": "code",
   "execution_count": null,
   "metadata": {},
   "outputs": [],
   "source": []
  },
  {
   "cell_type": "code",
   "execution_count": null,
   "metadata": {},
   "outputs": [],
   "source": []
  },
  {
   "cell_type": "code",
   "execution_count": null,
   "metadata": {},
   "outputs": [],
   "source": []
  },
  {
   "cell_type": "code",
   "execution_count": null,
   "metadata": {},
   "outputs": [],
   "source": []
  },
  {
   "cell_type": "code",
   "execution_count": null,
   "metadata": {},
   "outputs": [],
   "source": []
  },
  {
   "cell_type": "code",
   "execution_count": null,
   "metadata": {},
   "outputs": [],
   "source": []
  }
 ],
 "metadata": {
  "kernelspec": {
   "display_name": "wids2020",
   "language": "python",
   "name": "python3"
  },
  "language_info": {
   "codemirror_mode": {
    "name": "ipython",
    "version": 3
   },
   "file_extension": ".py",
   "mimetype": "text/x-python",
   "name": "python",
   "nbconvert_exporter": "python",
   "pygments_lexer": "ipython3",
   "version": "3.10.13"
  }
 },
 "nbformat": 4,
 "nbformat_minor": 2
}
